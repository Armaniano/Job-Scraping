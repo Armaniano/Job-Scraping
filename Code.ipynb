{
 "cells": [
  {
   "cell_type": "code",
   "execution_count": 1,
   "metadata": {},
   "outputs": [],
   "source": [
    "import pandas as pd\n",
    "import numpy as np\n",
    "import re\n",
    "import string\n",
    "\n",
    "from scrapy.selector import Selector\n",
    "from scrapy.http import HtmlResponse\n",
    "import requests\n",
    "from bs4 import BeautifulSoup\n",
    "\n",
    "import matplotlib.pyplot as plt\n",
    "%matplotlib inline\n",
    "import seaborn as sns\n",
    "\n",
    "from collections import Counter\n",
    "from nltk.corpus import stopwords\n",
    "from nltk.stem.porter import PorterStemmer\n",
    "from sklearn.feature_extraction.text import CountVectorizer, TfidfVectorizer, HashingVectorizer\n",
    "from sklearn.linear_model import LogisticRegression, LinearRegression\n",
    "from sklearn.neighbors import KNeighborsClassifier\n",
    "from sklearn.model_selection import train_test_split, cross_val_score, GridSearchCV\n",
    "from sklearn.pipeline import make_pipeline, Pipeline\n",
    "from sklearn.metrics import accuracy_score\n",
    "from sklearn.impute import SimpleImputer\n",
    "from sklearn.svm import SVC\n",
    "from sklearn.preprocessing import StandardScaler, minmax_scale, OneHotEncoder\n",
    "from sklearn.compose import ColumnTransformer\n",
    "\n",
    "import warnings   # do not show warnings\n",
    "warnings.filterwarnings('ignore')"
   ]
  },
  {
   "cell_type": "markdown",
   "metadata": {},
   "source": [
    "# Web Scraping"
   ]
  },
  {
   "cell_type": "code",
   "execution_count": 2,
   "metadata": {},
   "outputs": [],
   "source": [
    "# # the scope of search is limited to data related jobs. The url for each page is put in a list\n",
    "\n",
    "# # the home page\n",
    "# homepage = 'https://au.indeed.com'\n",
    "# # the url for the different pages of the website (the pattern of the url has been previously checked)\n",
    "# page_url = [homepage + \"/jobs?q=data&start=\" + str((page_num-1)*10) for page_num in range(1, 401)]\n",
    "\n",
    "# # the list containing all the values of a feature\n",
    "# titles = []\n",
    "# departments = []\n",
    "# salaries = []\n",
    "# locations = []\n",
    "# employment_types = []\n",
    "# post_times = []\n",
    "# review_stars = []\n",
    "# review_numbers = []\n",
    "# descriptions = []\n",
    "# page_contents = []\n",
    "\n",
    "# # the xpath of a feature\n",
    "# xpath_links = './/*[@data-tn-element=\"jobTitle\"]/@href'\n",
    "# xpath_titles = '/html/body/div[1]/div[2]/div[3]/div/div/div[1]/div[1]/div[1]/h3/text()'\n",
    "# xpath_departments = '/html/body/div[1]/div[2]/div[3]/div/div/div[1]/div[1]/div[1]/div[1]/div/div/div[1]/a/text()'\n",
    "# xpath_salaries = '/html/body/div[1]/div[2]/div[3]/div/div/div[1]/div[1]/div[1]/div[2]/span/text()'\n",
    "# xpath_locations = '/html/body/div[1]/div[2]/div[3]/div/div/div[1]/div[1]/div[3]/div[1]/div[1]/span/text()'\n",
    "# xpath_employment_types = '/html/body/div[1]/div[2]/div[3]/div/div/div[1]/div[1]/div[3]/div[1]/div[2]/span/text()'\n",
    "# xpath_post_times = '/html/body/div[1]/div[2]/div[3]/div/div/div[1]/div[1]/div[4]/div[1]/text()'\n",
    "# xpath_review_stars = '/html/body/div[1]/div[2]/div[3]/div/div/div[1]/div[1]/div[1]/div[1]/div/div/div[2]/div/a/@aria-label'\n",
    "# xpath_review_numbers = '/html/body/div[1]/div[2]/div[3]/div/div/div[1]/div[1]/div[1]/div[3]/a/div/div/div[1]/div[1]/div[2]/text()'\n",
    "# xpath_descriptions = '//*[@id=\"jobDescriptionText\"]/p'\n",
    "# xpath_page_contents = '/html/body'\n",
    "\n",
    "\n",
    "# # we go through all the pages and within each page, we check the job through their link\n",
    "# for page in page_url:\n",
    "#     response = requests.get(page)\n",
    "#     HTML = response.text\n",
    "#     xpath_selector = Selector(text=HTML)\n",
    "#     links = xpath_selector.xpath(xpath_links).extract()\n",
    "#     links = [homepage + link for link in links]   # putting all links of a page in a list\n",
    "#     for link in links:\n",
    "#         response_details = requests.get(link)\n",
    "#         HTML_details = response_details.text\n",
    "#         xpath_selector_details = Selector(text=HTML_details)\n",
    "\n",
    "#         # in each job advertisement, we extract the feature if it exists, otherwise, we assign null to the value \n",
    "#         try:\n",
    "#             job_title = xpath_selector_details.xpath(xpath_titles).extract()[0].strip()\n",
    "#         except:\n",
    "#             job_title = np.nan\n",
    "            \n",
    "#         try:\n",
    "#             job_department = xpath_selector_details.xpath(xpath_departments).extract()[0].strip()\n",
    "#         except:\n",
    "#             job_department = np.nan\n",
    "\n",
    "#         try:\n",
    "#             job_salary = xpath_selector_details.xpath(xpath_salaries).extract()[0].strip()\n",
    "#         except:\n",
    "#             job_salary = np.nan\n",
    "            \n",
    "#         try:\n",
    "#             job_location = xpath_selector_details.xpath(xpath_locations).extract()[0].strip()\n",
    "#         except:\n",
    "#             job_location = np.nan  \n",
    "        \n",
    "#         try:\n",
    "#             job_employment_type = xpath_selector_details.xpath(xpath_employment_types).extract()[0].strip()\n",
    "#         except:\n",
    "#             job_employment_type = np.nan    \n",
    "            \n",
    "#         try:\n",
    "#             job_post_time = xpath_selector_details.xpath(xpath_post_times).extract()[0].strip()\n",
    "#         except:\n",
    "#             job_post_time = np.nan\n",
    "            \n",
    "#         try:\n",
    "#             job_review_star = xpath_selector_details.xpath(xpath_review_stars).extract()[0].strip()\n",
    "#         except:\n",
    "#             job_review_star = np.nan    \n",
    "             \n",
    "#         try:\n",
    "#             job_review_number = xpath_selector_details.xpath(xpath_review_numbers).extract()[0].strip()\n",
    "#         except:\n",
    "#             job_review_number = np.nan\n",
    "        \n",
    "#         try:\n",
    "#             job_description = xpath_selector_details.xpath(xpath_descriptions).extract()\n",
    "#         except:\n",
    "#             job_description = np.nan\n",
    "            \n",
    "#         try:\n",
    "#             job_page_content = xpath_selector_details.xpath(xpath_page_contents).extract()\n",
    "#         except:\n",
    "#             job_page_content = np.nan\n",
    "        \n",
    "#         # now that we have extracted all the features in a job advertisement, we appned them to the corresponding list \n",
    "#         titles.append(job_title)\n",
    "#         departments.append(job_department)\n",
    "#         salaries.append(job_salary)\n",
    "#         locations.append(job_location)\n",
    "#         employment_types.append(job_employment_type)\n",
    "#         post_times.append(job_post_time)\n",
    "#         review_stars.append(job_review_star)\n",
    "#         review_numbers.append(job_review_number)\n",
    "#         descriptions.append(job_description)\n",
    "#         page_contents.append(job_page_content)"
   ]
  },
  {
   "cell_type": "code",
   "execution_count": 3,
   "metadata": {},
   "outputs": [],
   "source": [
    "# # creating a dataframe of all the extracted data\n",
    "# jobs_original = pd.DataFrame(data={'title':titles,\n",
    "#                          'department':departments,\n",
    "#                          'salary':salaries,\n",
    "#                          'location':locations,\n",
    "#                          'employment_type':employment_types,\n",
    "#                          'post_time':post_times,\n",
    "#                          'review_star':review_stars,\n",
    "#                          'review_number':review_numbers,\n",
    "#                          'description':descriptions,\n",
    "#                          'page_content':page_contents})"
   ]
  },
  {
   "cell_type": "code",
   "execution_count": 4,
   "metadata": {},
   "outputs": [],
   "source": [
    "# # saving the data frame as a csv file\n",
    "# jobs_original.to_csv('jobs_original.csv')"
   ]
  },
  {
   "cell_type": "markdown",
   "metadata": {},
   "source": [
    "# Cleaning"
   ]
  },
  {
   "cell_type": "code",
   "execution_count": 5,
   "metadata": {},
   "outputs": [],
   "source": [
    "# reading the csv file\n",
    "jobs = pd.read_csv('jobs_original.csv')"
   ]
  },
  {
   "cell_type": "code",
   "execution_count": 6,
   "metadata": {},
   "outputs": [],
   "source": [
    "# dropping the column which is the same as the index\n",
    "jobs.drop('Unnamed: 0', axis=1, inplace=True)"
   ]
  },
  {
   "cell_type": "code",
   "execution_count": 7,
   "metadata": {},
   "outputs": [],
   "source": [
    "# dropping the duplicates\n",
    "jobs.drop(index=jobs[jobs.duplicated()].index, axis=0, inplace=True)"
   ]
  },
  {
   "cell_type": "code",
   "execution_count": 8,
   "metadata": {},
   "outputs": [],
   "source": [
    "# turning all values into lower case string\n",
    "jobs = jobs.apply(lambda x: x.astype(str).str.lower())"
   ]
  },
  {
   "cell_type": "code",
   "execution_count": 9,
   "metadata": {},
   "outputs": [],
   "source": [
    "# function for turning review_star values into numbers\n",
    "def extract_star(x):\n",
    "    if x != 'nan':\n",
    "        return float(re.findall('^\\d*\\.?\\d*', x)[0])\n",
    "    else:\n",
    "        return np.nan"
   ]
  },
  {
   "cell_type": "code",
   "execution_count": 10,
   "metadata": {},
   "outputs": [],
   "source": [
    "# function for turning review_number values into numbers\n",
    "def extract_review(x):\n",
    "    if x != 'nan':\n",
    "        return float((re.findall('(^\\d*.\\d*)', x)[0]).replace(',', ''))\n",
    "    else:\n",
    "        return np.nan"
   ]
  },
  {
   "cell_type": "code",
   "execution_count": 11,
   "metadata": {},
   "outputs": [],
   "source": [
    "# function for extracting salary values from salary\n",
    "def extract_salary(x, segment):\n",
    "    if len(re.findall('([\\d+.\\d+,]+)[\\s+].*\\s([a-zA-Z]+)', x)) != 0:\n",
    "        if segment == 'value':\n",
    "            if len(re.findall('- \\$(\\d+.\\d+).*', x)) == 0:\n",
    "                try:\n",
    "                    return float(re.findall('([\\d+.\\d+,]+)[\\s+].*\\s([a-zA-Z]+)', x)[0][0].replace(',', ''))\n",
    "                except:\n",
    "                    pass\n",
    "            else:\n",
    "                try:\n",
    "                    # if there is a range for salary, take the mean as the salary value\n",
    "                    return 0.5 * (float(re.findall('- \\$(\\d+.\\d+).*', x)[0].replace(',', '')) +\n",
    "                                 float(re.findall('([\\d+.\\d+,]+)[\\s+].*\\s([a-zA-Z]+)', x)[0][0].replace(',', '')))\n",
    "                except:\n",
    "                    pass\n",
    "        elif segment == 'unit':\n",
    "            return re.findall('([\\d+.\\d+,]+)[\\s+].*\\s([a-zA-Z]+)', x)[0][1]\n",
    "    else:\n",
    "        return np.nan"
   ]
  },
  {
   "cell_type": "code",
   "execution_count": 12,
   "metadata": {},
   "outputs": [],
   "source": [
    "# function for extracting the name of the state from location\n",
    "def extract_state(x):\n",
    "    if 'vic' in x or 'victoria' in x:\n",
    "        return 'vic'\n",
    "    if 'nsw' in x or 'new south wales' in x:\n",
    "        return 'nsw'\n",
    "    if 'qld' in x or 'queensland' in x:\n",
    "        return 'qld'\n",
    "    if 'wa' in x or 'western australia' in x:\n",
    "        return 'wa'\n",
    "    if 'sa' in x or 'south australia' in x:\n",
    "        return 'sa'\n",
    "    if 'tas' in x or 'tasmania' in x:\n",
    "        return 'tas'\n",
    "    if 'act' in x or 'australian capital territory' in x:\n",
    "        return 'act'\n",
    "    if 'nt' in x or 'northern territory' in x:\n",
    "        return 'nt'\n",
    "    if 'australia' in x:\n",
    "        return 'aus'\n",
    "    else:\n",
    "        return np.nan"
   ]
  },
  {
   "cell_type": "code",
   "execution_count": 13,
   "metadata": {},
   "outputs": [],
   "source": [
    "# function for extracting the employment type\n",
    "types_of_employment = []\n",
    "for val in jobs.employment_type.unique():\n",
    "    if len(re.findall('(\\d+)', val)) == 0 and val!= 'nan':   # if it does not have a number (i.e. salary) in it\n",
    "        types_of_employment.append(val)\n",
    "        \n",
    "def extraxt_employment(x):\n",
    "    if x in types_of_employment:\n",
    "        return x\n",
    "    else:\n",
    "        return np.nan"
   ]
  },
  {
   "cell_type": "code",
   "execution_count": 14,
   "metadata": {},
   "outputs": [],
   "source": [
    "# function for extracting the job description from the html\n",
    "def extract_description(x):\n",
    "    soup = BeautifulSoup(x, 'lxml')\n",
    "    element = soup.find(name='div', attrs={'id':'jobdescriptiontext'})\n",
    "    return element.text.replace('\\\\n\\\\n',' ').replace('\\\\n',' ')"
   ]
  },
  {
   "cell_type": "code",
   "execution_count": 15,
   "metadata": {},
   "outputs": [],
   "source": [
    "# since the salary is in different units, we need a function to estimate the annual salary\n",
    "def to_annual(salary, unit):\n",
    "    if unit == 'hour':\n",
    "        return salary*2000\n",
    "    elif unit == 'day':\n",
    "        return salary*250\n",
    "    elif unit == 'week':\n",
    "        return salary*50\n",
    "    elif unit == 'month':\n",
    "        return salary*12\n",
    "    elif unit == 'year':\n",
    "        return salary\n",
    "    else:\n",
    "        return np.nan"
   ]
  },
  {
   "cell_type": "code",
   "execution_count": 16,
   "metadata": {},
   "outputs": [],
   "source": [
    "# function for categorizing annual_salary\n",
    "def salary_cat(x):\n",
    "    if x<jobs.annual_salary.median():\n",
    "        return 'low'\n",
    "    elif x>=jobs.annual_salary.median():\n",
    "        return 'high'\n",
    "    else:\n",
    "        return np.nan"
   ]
  },
  {
   "cell_type": "code",
   "execution_count": 17,
   "metadata": {},
   "outputs": [],
   "source": [
    "# turning review_star values into numbers\n",
    "jobs['review_star'] = jobs.review_star.map(extract_star)"
   ]
  },
  {
   "cell_type": "code",
   "execution_count": 18,
   "metadata": {},
   "outputs": [],
   "source": [
    "# turning review_number values into numbers\n",
    "jobs['review_number'] = jobs.review_number.map(extract_review)"
   ]
  },
  {
   "cell_type": "code",
   "execution_count": 19,
   "metadata": {},
   "outputs": [],
   "source": [
    "# extracting the salary values from salary\n",
    "jobs['salary_value'] = jobs.salary.map(lambda x: extract_salary(x, 'value'))\n",
    "jobs['salary_unit'] = jobs.salary.map(lambda x: extract_salary(x, 'unit'))\n",
    "jobs.drop('salary', axis=1, inplace=True)"
   ]
  },
  {
   "cell_type": "code",
   "execution_count": 20,
   "metadata": {},
   "outputs": [],
   "source": [
    "# extracting the state values from location\n",
    "jobs['state'] = jobs.location.map(extract_state)"
   ]
  },
  {
   "cell_type": "code",
   "execution_count": 21,
   "metadata": {},
   "outputs": [
    {
     "data": {
      "text/plain": [
       "array(['home based'], dtype=object)"
      ]
     },
     "execution_count": 21,
     "metadata": {},
     "output_type": "execute_result"
    }
   ],
   "source": [
    "# locations that do not fall into any state\n",
    "jobs.location[jobs.state.isnull()].unique()"
   ]
  },
  {
   "cell_type": "code",
   "execution_count": 22,
   "metadata": {},
   "outputs": [
    {
     "data": {
      "text/html": [
       "<div>\n",
       "<style scoped>\n",
       "    .dataframe tbody tr th:only-of-type {\n",
       "        vertical-align: middle;\n",
       "    }\n",
       "\n",
       "    .dataframe tbody tr th {\n",
       "        vertical-align: top;\n",
       "    }\n",
       "\n",
       "    .dataframe thead th {\n",
       "        text-align: right;\n",
       "    }\n",
       "</style>\n",
       "<table border=\"1\" class=\"dataframe\">\n",
       "  <thead>\n",
       "    <tr style=\"text-align: right;\">\n",
       "      <th></th>\n",
       "      <th>title</th>\n",
       "      <th>department</th>\n",
       "      <th>location</th>\n",
       "      <th>employment_type</th>\n",
       "      <th>post_time</th>\n",
       "      <th>review_star</th>\n",
       "      <th>review_number</th>\n",
       "      <th>description</th>\n",
       "      <th>page_content</th>\n",
       "      <th>salary_value</th>\n",
       "      <th>salary_unit</th>\n",
       "      <th>state</th>\n",
       "    </tr>\n",
       "  </thead>\n",
       "  <tbody>\n",
       "    <tr>\n",
       "      <th>1185</th>\n",
       "      <td>cra ii</td>\n",
       "      <td>nan</td>\n",
       "      <td>home based</td>\n",
       "      <td>nan</td>\n",
       "      <td>- 19 days ago</td>\n",
       "      <td>NaN</td>\n",
       "      <td>NaN</td>\n",
       "      <td>[]</td>\n",
       "      <td>['&lt;body&gt;\\n    &lt;script type=\"text/javascript\" s...</td>\n",
       "      <td>NaN</td>\n",
       "      <td>NaN</td>\n",
       "      <td>NaN</td>\n",
       "    </tr>\n",
       "    <tr>\n",
       "      <th>1406</th>\n",
       "      <td>sr cra i</td>\n",
       "      <td>nan</td>\n",
       "      <td>home based</td>\n",
       "      <td>nan</td>\n",
       "      <td>- 19 days ago</td>\n",
       "      <td>NaN</td>\n",
       "      <td>NaN</td>\n",
       "      <td>[]</td>\n",
       "      <td>['&lt;body&gt;\\n    &lt;script type=\"text/javascript\" s...</td>\n",
       "      <td>NaN</td>\n",
       "      <td>NaN</td>\n",
       "      <td>NaN</td>\n",
       "    </tr>\n",
       "  </tbody>\n",
       "</table>\n",
       "</div>"
      ],
      "text/plain": [
       "         title department    location employment_type      post_time  \\\n",
       "1185    cra ii        nan  home based             nan  - 19 days ago   \n",
       "1406  sr cra i        nan  home based             nan  - 19 days ago   \n",
       "\n",
       "      review_star  review_number description  \\\n",
       "1185          NaN            NaN          []   \n",
       "1406          NaN            NaN          []   \n",
       "\n",
       "                                           page_content  salary_value  \\\n",
       "1185  ['<body>\\n    <script type=\"text/javascript\" s...           NaN   \n",
       "1406  ['<body>\\n    <script type=\"text/javascript\" s...           NaN   \n",
       "\n",
       "     salary_unit state  \n",
       "1185         NaN   NaN  \n",
       "1406         NaN   NaN  "
      ]
     },
     "execution_count": 22,
     "metadata": {},
     "output_type": "execute_result"
    }
   ],
   "source": [
    "jobs[jobs.location=='home based']"
   ]
  },
  {
   "cell_type": "code",
   "execution_count": 23,
   "metadata": {},
   "outputs": [],
   "source": [
    "# dropping the rows with home-based location since they don't give us any information\n",
    "jobs.drop(index=jobs[jobs.location=='home based'].index, inplace=True)"
   ]
  },
  {
   "cell_type": "code",
   "execution_count": 24,
   "metadata": {},
   "outputs": [],
   "source": [
    "jobs['employment_type'] = jobs.employment_type.map(extraxt_employment)"
   ]
  },
  {
   "cell_type": "code",
   "execution_count": 25,
   "metadata": {},
   "outputs": [],
   "source": [
    "# dropping post_time since it is not useful\n",
    "jobs.drop('post_time', axis=1, inplace=True)"
   ]
  },
  {
   "cell_type": "code",
   "execution_count": 26,
   "metadata": {},
   "outputs": [],
   "source": [
    "# dropping description since it is not useful\n",
    "jobs.drop('description', axis=1, inplace=True)"
   ]
  },
  {
   "cell_type": "code",
   "execution_count": 27,
   "metadata": {
    "scrolled": false
   },
   "outputs": [
    {
     "data": {
      "text/html": [
       "['<body>\\n    <script type=\"text/javascript\" src=\"/m/s/e1f3291/en_au.min.js\"></script><script>(function(_){_.__js_error__=[];_.onerror=function(){_.__js_error__.push(array.prototype.slice.call(arguments))}})(window);(function(e){const n={homepage:\"mobtk\",viewjob:\"mobvjtk\",viewjobjapan:\"mobvjtk\",serp:\"mobtk\",serpjapan:\"mobtk\"};const o={homepage:\"hp\",viewjob:\"vj\",viewjobjapan:\"vjjp\",serp:\"srch\",serpjapan:\"srchjp\"};const t=function(e){return n[e]};const r=function(e){return o[e]};const a=function(e,n){return\\'\"eventname\":\"mobpageloadinfo\",\\'+\\'\"type\":\"mobpageloadinfo\",\\'+\\'\"pageid\":\"\\'+e+\\'\",\"\\'+t(e)+\\'\":\"\\'+n+\\'\",\"pagename\":\"\\'+r(e)+\\'\"\\'};const i=function(){return e.screen.orientation.type.indexof(\"portrait\")>-1?\"portrait\":\"landscape\"};const c=function(){const n=e.devicepixelratio||1;var o=\\'\"pixelratio\":\\'+n+\",\"+\\'\"scrwidth\":\\'+math.floor(e.screen.width*n)+\",\"+\\'\"scrheight\":\\'+math.floor(e.screen.height*n);if(e.screen.orientation){o+=\\',\"scrorientation\":\"\\'+i()+\\'\"\\'}return o};const p=function(e){return encodeuricomponent(e).replace(/%20/g,\"+\")};e.logpageloadinfo=function(n,o,i){if(!image){return}const s=r(n);const d=t(n);if(!s||!d){return}var f=a(n,o);if(i&&e.screen){f+=\",\"+c()}const g=\"/m/rpc/frontendlogging?logtype=trackevent&modulename=event&application=indeedmobile\"+\"&pageid=\"+n+\"&data=\"+p(\"{\"+f+\"}\");const m=new image;m.src=g;m.height=m.width=0;m.style.display=\"block\";document.body.appendchild(m)}})(window);window.logpageloadinfo(\"viewjob\",\"1dik0qjat10me000\",  false );(function(t){function e(e){var n=e.target;while(n&&n!==t.documentelement){if(n.tagname===\"a\"){var r=n.getattribute(\"data-href\");if(r!==null){n.setattribute(\"href\",r);n.removeattribute(\"data-href\")}return}n=n.parentnode}}if(t.addeventlistener){\"ontouchstart\"in t?t.addeventlistener(\"touchstart\",e):t.addeventlistener(\"mousedown\",e)}})(document);window._initialdata={\"base64encodedjson\":\"eyjhijp0cnvllcjiijpmywxzzswiyyi6dhj1zswizci6zmfsc2usimuionrydwusimcioijodhrwoi8vyxuuaw5kzwvklmnvbs9tl2jhc2vjyw1wl3zpzxdqb2i_ams9ndflmji5m2jiodhlotuznczmcm9tpxnlcnamdmpzptmilcjoijoitwfpbhjvb20gt2zmawnlciisimkioijccmlzymfuzsbrteqilcjqijoib3jnyw5pyyisimwioiiifq\",\"baseinboxurl\":\"https:\\\\u002f\\\\u002finbox.indeed.com\",\"baseurl\":\"https:\\\\u002f\\\\u002fau.indeed.com\",\"clientsideproctorgroups\":{\"mobvjearlyapplytst\":false,\"mobvj2responsiveemployertst\":false,\"jasx_track_multisession_noapplies\":false,\"sal_insights_tab_redesign_tst\":false},\"companyfollowform\":{\"addalerturl\":\"\\\\u002falert?a=add&alert_params=followcompany%3d6b6ffe5215ca4de4&q=company%3a%27bgis%27&alert_period=weekly&output=json&verified=0&tk=1dik0qjat10me000&hct=5dd892f2db159a1043515ee5379b57c2\",\"canceltext\":\"by creating a company alert you agree to our <a href=\\\\\"\\\\u002flegal\\\\\" target=\\\\\"_blank\\\\\">terms<\\\\u002fa>. you can change your consent settings at any time by unsubscribing, or as detailed in our terms.\",\"checkalerturl\":\"\\\\u002frpc\\\\u002fjobalert?a=check&app=acme&q=company%3a%27bgis%27&followcompany=6b6ffe5215ca4de4\",\"confirmationheader\":\"please check your email\",\"confirmationsubheader\":\"we have sent a confirmation message\",\"confirmationtext\":\"click on the link in this email to start receiving your company alert.\",\"createalerturl\":\"\\\\u002fmy\\\\u002falerts?a=create&alert_params=followcompany%3d6b6ffe5215ca4de4&alert_keywords=company%3a%27bgis%27&alert_period=weekly&output=json&followcompany=6b6ffe5215ca4de4&hct=5dd892f2db159a1043515ee5379b57c2\",\"cta\":\"get job updates from bgis\",\"duplicateemailmessage\":\"you are already following this company.\",\"followbutton\":{\"buttonsize\":\"sm\",\"buttontype\":\"tertiary\",\"children\":\"follow\",\"disabled\":false,\"isblock\":false,\"isresponsive\":false,\"size\":\"sm\"},\"followingtext\":\"following\",\"input\":{\"disabled\":false,\"errortext\":\"this field is required\",\"helptext\":null,\"id\":null,\"issmall\":false,\"label\":\"my email:\",\"name\":\"email\",\"type\":\"text\",\"value\":null},\"invalidemailmessage\":\"please provide a valid email address.\",\"savebutton\":{\"buttonsize\":null,\"buttontype\":\"secondary\",\"children\":\"save\",\"disabled\":false,\"isblock\":true,\"isresponsive\":false,\"size\":\"sm\"}},\"country\":\"au\",\"ctk\":\"1dik0qj4485gh800\",\"dcmmodel\":{\"category\":\"jobse0\",\"source\":\"8232301\",\"type\":\"organic\"},\"desktop\":true,\"desktopsponsoredjobseendata\":\"tk=1dik0qjat10me000\",\"googleonetapmodel\":{\"basesecureurl\":\"https:\\\\u002f\\\\u002fsecure.indeed.com\",\"googleclientid\":\"1047839414793-v442kdo3pt0vb43l8nu2c5sh9lf4bsnj.apps.googleusercontent.com\",\"redirecturl\":null},\"indeedchatemployermodel\":{\"chatenabled\":false},\"jobkey\":\"41e2293bb88e9534\",\"joblocation\":\"brisbane qld\",\"jobseendata\":\"tk=1dik0qjat10me000&context=viewjobrecs\",\"jobtitle\":\"mailroom officer\",\"language\":\"en\",\"locale\":\"en_au\",\"localedata\":{\"\":[null,\"project-id-version: \\\\nreport-msgid-bugs-to: \\\\npot-creation-date: 2019-08-14 12:59+0900\\\\npo-revision-date: 2019-06-25 16:44-0500\\\\nlast-translator: ian guo <iguo@indeed.com>\\\\nlanguage-team: english <http:\\\\u002f\\\\u002fexample.com\\\\u002fweblate\\\\u002fprojects\\\\u002findeed\\\\u002findeedmobile-i18n-content\\\\u002fen_au\\\\u002f>\\\\nlanguage: en_au\\\\nmime-version: 1.0\\\\ncontent-type: text\\\\u002fplain; charset=utf-8\\\\ncontent-transfer-encoding: 8bit\\\\nplural-forms: nplurals=2; plural=n != 1;\\\\nx-generator: weblate 1.8\\\\n\"]},\"mobtk\":\"1dik0qjat10me000\",\"notifications\":{\"inboxlinkenabled\":false,\"messageslabel\":\"messages\",\"newmessagescountplurals\":[\"{0} new\",\"{0} new\"],\"notificationcenterenabled\":false,\"updatingtext\":\"checking...\"},\"originaljoblinkmodel\":{\"cookiename\":\"rclk\",\"cookiepath\":\"\\\\u002f\",\"cookievalue\":\"jk=41e2293bb88e9534&vjtk=1dik0qjat10me000&ts=1566187539805&rd=&qd=\"},\"pageid\":\"viewjob\",\"relatedlinks\":[{\"href\":\"\\\\u002fjobs?q=bgis&l=brisbane+qld\",\"linktext\":\"jobs at bgis in brisbane qld\"}],\"reportjobform\":{\"additionalinformationplaceholder\":\"additional information\",\"closeiconlabel\":\"close\",\"disclaimer\":\"all job ads are subject to indeed\\'s <a target=\\\\\"_blank\\\\\" href=\\\\\"\\\\u002flegal\\\\\">terms of service<\\\\u002fa>. we allow users to flag postings that may be in violation of those terms. job ads may also be flagged by indeed. however, no moderation system is perfect, and flagging a posting does not ensure that it will be removed.\",\"posthref\":\"\\\\u002fm\\\\u002frpc\\\\u002flog\\\\u002freport\\\\u002fjob?jobkey=41e2293bb88e9534&mobvjtk=1dik0qjat10me000&ismobile=false&indeedcsrftoken=mxqiww5lzwkddn43umrog82lrvrqrsul\",\"radiobuttongroup\":{\"errortext\":null,\"helptext\":null,\"isdisabled\":false,\"label\":\"report this job\",\"name\":null,\"radiobuttons\":[{\"id\":null,\"isdisabled\":false,\"label\":\"it is offensive, discriminatory\",\"name\":\"offensive\",\"value\":\"offensive\"},{\"id\":null,\"isdisabled\":false,\"label\":\"it seems like a fake job\",\"name\":\"fake\",\"value\":\"fake\"},{\"id\":null,\"isdisabled\":false,\"label\":\"it is inaccurate\",\"name\":\"inaccurate\",\"value\":\"inaccurate\"},{\"id\":null,\"isdisabled\":false,\"label\":\"it is an advertisement\",\"name\":\"advertisement\",\"value\":\"advertisement\"},{\"id\":null,\"isdisabled\":false,\"label\":\"other\",\"name\":\"other\",\"value\":\"other\"}],\"value\":null},\"submitbuttontext\":\"submit\",\"successheadline\":\"job successfully reported\",\"successtext\":\"thank you for helping us identify suspicious behavior on indeed\"},\"savejobbuttoncontainermodel\":{\"alreadysavedbuttonmodel\":{\"actions\":[\"saved\",\"applied\",\"interviewing\",\"offered\",\"hired\"],\"buttonsize\":\"block\",\"buttontype\":\"secondary\",\"contenthtml\":\"saved\",\"href\":\"\\\\u002f\",\"iconsize\":null},\"applyfromcomputerbuttonmodel\":null,\"applyfromcomputerlogurl\":\"\\\\u002fm\\\\u002frpc\\\\u002flog\\\\u002femailmyself?jk=41e2293bb88e9534&mobvjtk=1dik0qjat10me000&sbt=5dd892f2db159a1043515ee5379b57c2&ctk=1dik0qj4485gh800&acctkey=\",\"currentjobstate\":\"visited\",\"didyouapplypromptmodel\":{\"calloutmodel\":{\"actionsmap\":{\"no\":{\"children\":\"not interested\",\"classname\":null,\"href\":null,\"target\":null},\"later\":{\"children\":\"maybe later\",\"classname\":null,\"href\":null,\"target\":null},\"yes\":{\"children\":\"yes\",\"classname\":null,\"href\":null,\"target\":null}},\"caretposition\":null,\"children\":null,\"dismissarialabel\":\"close\",\"dismissattributes\":null,\"dismisshref\":null,\"heading\":\"did you apply?\"},\"jobkey\":\"41e2293bb88e9534\",\"possibleresponses\":{\"no\":\"no\",\"later\":\"later\",\"yes\":\"yes\"},\"usercanview\":false},\"didyouapplyresponseurl\":\"\\\\u002fm\\\\u002frpc\\\\u002fdidyouapply?tk=1dik0qjat10me000&jobkey=41e2293bb88e9534&originpage=viewjob&from=viewjob\",\"hashedcsrftoken\":\"5dd892f2db159a1043515ee5379b57c2\",\"isalreadysavedbuttonvisible\":false,\"isdisablejobstatuschange\":false,\"isloggedin\":false,\"issavewithoutloginenabled\":false,\"issyncjobs\":false,\"mobtk\":\"1dik0qjat10me000\",\"myindeedloginlink\":\"https:\\\\u002f\\\\u002fau.indeed.com\\\\u002faccount\\\\u002flogin?dest=%2fviewjob%3fjk%3d41e2293bb88e9534%26from%3dserp%26vjs%3d3\",\"myjobsapihref\":\"\\\\u002frpc\\\\u002flog\\\\u002fmyjobs\\\\u002ftransition_job_state?client=mobile&cause=statepicker&preservetimestamp=false&tk=1dik0qjat10me000&jobkey=41e2293bb88e9534&originpage=viewjob\",\"myjobsurl\":\"\\\\u002fmyjobs\\\\u002f?from=mobvj#\",\"pageid\":\"viewjob\",\"possiblejobactions\":{\"saved\":\"save\",\"applied\":\"apply\",\"interviewing\":\"interview\",\"offered\":\"offer\",\"hired\":\"hire\",\"visited\":\"visit\",\"archived\":\"archive\"},\"possiblejobstates\":{\"saved\":\"saved\",\"applied\":\"applied\",\"interviewing\":\"interviewing\",\"offered\":\"offered\",\"hired\":\"hired\",\"visited\":\"visited\",\"archived\":\"archived\"},\"savebuttonmodel\":{\"buttonsize\":\"block\",\"buttontype\":\"secondary\",\"contenthtml\":\"save this job\",\"datahref\":null,\"href\":\"\\\\u002f\",\"icon\":{\"icontitle\":\"save-icon\",\"icontype\":\"favorite-border\"},\"isblock\":false,\"largescreensizetext\":null,\"openinnewtab\":false,\"referrerpolicy\":null,\"rel\":null,\"sanitizedhref\":null,\"sanitizedhtml\":null,\"sticky\":false,\"target\":null,\"title\":null,\"viewjobdisplay\":\"desktop_standalone\"},\"showsavejobinlinecallout\":true,\"smallbuttonmodel\":null,\"uistates\":{\"interviewing\":\"interviewing\",\"offered\":\"offered\",\"saved\":\"saved\",\"visited\":\"visited\",\"hired\":\"hired\",\"archived\":\"archived\",\"applied\":\"applied\"},\"viewjobdisplay\":\"desktop_standalone\"},\"savejobcalloutmodel\":{\"actionsmap\":{\"createaccount\":{\"children\":\"create account (it\\'s free)\",\"classname\":null,\"href\":\"https:\\\\u002f\\\\u002fau.indeed.com\\\\u002faccount\\\\u002fregister?dest=%2fviewjob%3fjk%3d41e2293bb88e9534%26from%3dserp%26vjs%3d3\",\"target\":null},\"signin\":{\"children\":\"sign in\",\"classname\":null,\"href\":\"https:\\\\u002f\\\\u002fau.indeed.com\\\\u002faccount\\\\u002flogin?dest=%2fviewjob%3fjk%3d41e2293bb88e9534%26from%3dserp%26vjs%3d3\",\"target\":null}},\"caretposition\":null,\"children\":\"you must sign in to save jobs:\",\"dismissarialabel\":\"close\",\"dismissattributes\":null,\"dismisshref\":null,\"heading\":\"save jobs and view them from any computer.\"},\"savejobfailuremodalmodel\":{\"closearialabel\":\"close\",\"closebuttontext\":\"close\",\"message\":\"please retry\",\"signinbuttontext\":null,\"signinhref\":null,\"title\":\"failed to save job\"},\"savejoblimitexceededmodalmodel\":{\"closearialabel\":\"close\",\"closebuttontext\":null,\"message\":\"you reached the limit. please log in to save additional jobs.\",\"signinbuttontext\":\"sign in\",\"signinhref\":\"https:\\\\u002f\\\\u002fau.indeed.com\\\\u002faccount\\\\u002flogin?dest=%2fviewjob%3fjk%3d41e2293bb88e9534%26from%3dserp%26vjs%3d3&from=viewjob_savejoblimitmodal\",\"title\":\"you\\'ve already saved 20 jobs\"},\"viewjobbuttonlinkcontainermodel\":{\"clickcookiename\":\"rclk\",\"clickcookievalue\":\"jk=41e2293bb88e9534&vjtk=1dik0qjat10me000&ts=1566187539805&rd=&qd=\",\"jobkey\":\"41e2293bb88e9534\",\"shouldsetclicktrackingcookie\":true,\"viewjobbuttonlinkmodel\":{\"buttonsize\":\"block\",\"buttontype\":\"primary\",\"contenthtml\":\"apply now\",\"datahref\":null,\"href\":\"https:\\\\u002f\\\\u002fau.indeed.com\\\\u002frc\\\\u002fclk?jk=41e2293bb88e9534&from=vj&pos=bottom\",\"icon\":null,\"isblock\":true,\"largescreensizetext\":\"apply on company site\",\"openinnewtab\":true,\"referrerpolicy\":\"origin\",\"rel\":\"noopener\",\"sanitizedhref\":null,\"sanitizedhtml\":null,\"sticky\":false,\"target\":\"_blank\",\"title\":null,\"viewjobdisplay\":null}},\"viewjobdisplay\":\"desktop_standalone\"};</script><div class=\"jobsearch-viewjoblayout   jobsearch-viewjoblayout-changetextsize jobsearch-viewjoblayout-changetextcolor \"><div class=\"icl-u-xs-hide icl-u-lg-block\"><script id=\"_indeed_gnav_config\" type=\"application/json\">{\"jspath\":\"https://d3fw5vlhllyvee.cloudfront.net/dist/966d97ae78e928c369d9/scripts/desktop_jobseeker_header_external.js\",\"isdevmode\":false,\"isfallbackcontent\":false,\"isemployer\":false,\"primaryurl\":\"http://au.indeed.com/\",\"requesturl\":\"http://au.indeed.com/m/basecamp/viewjob?jk=41e2293bb88e9534\\\\u0026from=serp\\\\u0026vjs=3\",\"from\":\"gnav-menu-viewjob\",\"isshowsmallheader\":true,\"desktoppagelinks\":[{\"text\":\"find jobs\",\"href\":\"http://au.indeed.com/\",\"datahref\":\"http://au.indeed.com/?from=gnav-viewjob\",\"ishighlighted\":true},{\"text\":\"company reviews\",\"href\":\"http://au.indeed.com/companies\",\"datahref\":\"http://au.indeed.com/companies?from=gnav-viewjob\",\"ishighlighted\":false},{\"text\":\"find salaries\",\"href\":\"http://au.indeed.com/salaries\",\"datahref\":\"http://au.indeed.com/salaries?from=gnav-viewjob\",\"ishighlighted\":false}],\"varianttogglelink\":{\"text\":\"employers / post job\",\"href\":\"http://au.indeed.com/hire?co=au\\\\u0026hl=en\",\"datahref\":\"http://au.indeed.com/hire?co=au\\\\u0026hl=en\\\\u0026from=gnav-menu-viewjob\\\\u0026ikw=gnav-header-hire\\\\u0026isid=employerlink-au\"},\"country\":\"au\",\"logohref\":\"/?from=gnav-viewjob\",\"logoname\":\"inactive\",\"appname\":\"jobsearch--indeedmobile\",\"inboxapihref\":\"https://inbox.indeed.com/api/getconversationcount?from=gnav-util-viewjob\\\\u0026gnavtk=1dik0qjb689md802\\\\u0026tk=1dik0qjat10me000\\\\u0026co=au\\\\u0026hl=en\",\"inboxhref\":\"https://inbox.indeed.com/messages?from=gnav-util-viewjob\\\\u0026gnavtk=1dik0qjb689md802\\\\u0026tk=1dik0qjat10me000\\\\u0026co=au\\\\u0026hl=en\",\"logroute\":\"https://t.indeed.com/gnav/log?from=jobsearch--indeedmobile-viewjob\\\\u0026parentlogid=1dik0qjb689md802\\\\u0026hostapptk=1dik0qjat10me000\",\"inboxlogtuple\":\"gnavinbox:12140b7982d032f1660f59e3e976c72d\",\"isinboxtestactive\":false,\"isshowinboxicon\":false,\"inboxtestbucket\":-1,\"selectedicon\":\"\",\"shouldlowernaviconminwidth\":true,\"inboxlogtype\":\"gnavinbox\",\"inboxlth\":\"12140b7982d032f1660f59e3e976c72d\",\"notificationapihref\":\"https://www.indeed.com/notifications/api/1/getnotificationscount?client=gnav\\\\u0026from=gnav-util-viewjob\\\\u0026gnavtk=1dik0qjb689md802\\\\u0026tk=1dik0qjat10me000\",\"notificationhref\":\"https://www.indeed.com/notifications?from=gnav-util-viewjob\\\\u0026gnavtk=1dik0qjb689md802\\\\u0026tk=1dik0qjat10me000\\\\u0026co=au\\\\u0026hl=en\",\"isnotificationtestactive\":false,\"isshownotificationicon\":false,\"notificationtestbucket\":-1,\"notificationlogtype\":\"gnavnotification\",\"notificationlth\":\"6d669dfa33371660f3e683b38b9f3ddc\",\"jserrorlogtype\":\"gnavjserror\",\"jserrorlth\":\"6411ec182c6acd8714dc2d03716eed1d\",\"jsenabledlogtype\":\"gnavjsenabled\",\"jsenabledlth\":\"5e9311c1001227ca5c6c32db123fb854\",\"interactionlogtype\":\"gnavinteraction\",\"interactionlth\":\"87caa20c31fa9e447264b1615339f1ce\",\"passportaccounttext\":\"sign in\",\"passportaccounturl\":\"https://secure.indeed.com/account/login?hl=en_au\\\\u0026co=au\\\\u0026continue=http%3a%2f%2fau.indeed.com%2fm%2fbasecamp%2fviewjob%3fjk%3d41e2293bb88e9534%26from%3dserp%26vjs%3d3\\\\u0026tmpl=desktop\\\\u0026service=mob\\\\u0026from=gnav-util-viewjob\",\"showsecondarystylesigninbutton\":true,\"language\":\"en\",\"isshowlanguageswitcher\":false}</script><style>[dir=ltr] .gnav .icl-logo,[dir=rtl] .gnav .icl-logo{box-sizing:border-box!important;display:inline-block!important}[dir] .gnav .icl-logo{background-repeat:no-repeat!important}[dir] .gnav .icl-logo--wordmark{background-image:url(\"data:image/svg+xml;charset=utf8,%3csvg xmlns=\\'http://www.w3.org/2000/svg\\' xmlns:xlink=\\'http://www.w3.org/1999/xlink\\' viewbox=\\'0 0 320 80\\' focusable=\\'false\\'%3e%3cpath d=\\'m287.31 13.4a5.24 5.24 0 0 0-4.22-1.76 5 5 0 0 0-4.22 1.92 9 9 0 0 0-1.49 5.59v37a24.49 24.49 0 0 0-7-5.52 16.88 16.88 0 0 0-5.2-1.56 25.92 25.92 0 0 0-3.6-.24a18.43 18.43 0 0 0 247.06 36c-3.67 4.23-5.51 10.09-5.51 17.65a33.74 33.74 0 0 0 243 63.6a24 24 0 0 0 4.06 8 19.15 19.15 0 0 0 6.41 5.24 17.87 17.87 0 0 0 8 1.84 19.14 19.14 0 0 0 3.75-.35 14.73 14.73 0 0 0 2.27-.55 19.32 19.32 0 0 0 5.12-2.66 30.13 30.13 0 0 0 4.81-4.54v1.17a7.52 7.52 0 0 0 1.6 5.13 5.66 5.66 0 0 0 8.21.08 7.48 7.48 0 0 0 1.8-5.17v18.48a7.76 7.76 0 0 0-1.72-5.08zm-12.15 49.22a11.56 11.56 0 0 1-4.18 5 10.7 10.7 0 0 1-5.78 1.64 10.45 10.45 0 0 1-5.78-1.72 11.84 11.84 0 0 1-4.18-5.16 20.67 20.67 0 0 1-1.52-8.37 20.86 20.86 0 0 1 1.45-8.14 12 12 0 0 1 4-5.4 9.68 9.68 0 0 1 5.94-1.88h.12a9.93 9.93 0 0 1 5.74 1.84 12.56 12.56 0 0 1 4.22 5.28 19.89 19.89 0 0 1 1.56 8.29 20.36 20.36 0 0 1-1.59 8.62zm-37.9.51a4.38 4.38 0 0 0-3-1 4 4 0 0 0-2.62.78c-1.52 1.41-2.74 2.54-3.67 3.36a33.69 33.69 0 0 1-3.13 2.31 12.3 12.3 0 0 1-3.44 1.57 14 14 0 0 1-3.95.51 6.6 6.6 0 0 1-.9 0 10.72 10.72 0 0 1-5-1.57 11.55 11.55 0 0 1-4.3-4.66a17.22 17.22 0 0 1 205.6 57h23.54c3.17 0 5.65-.34 7.37-1.2s2.62-2.9 2.62-5.91a20.41 20.41 0 0 0-2.54-9.66 19.64 19.64 0 0 0-7.59-7.74 23.28 23.28 0 0 0-12.12-3h-.35a27.4 27.4 0 0 0-9.53 1.75 21.07 21.07 0 0 0-7.54 5 22.48 22.48 0 0 0-4.61 7.86 30.26 30.26 0 0 0-1.6 9.94c0 7.59 2.15 13.54 6.45 18 4.06 4.19 9.69 6.38 16.84 6.61h1.25a27.65 27.65 0 0 0 9-1.33 22.39 22.39 0 0 0 6.48-3.32 16 16 0 0 0 3.87-4.23 7.8 7.8 0 0 0 1.29-3.8 3.58 3.58 0 0 0-1.17-2.84zm-28.14-22.4a9.58 9.58 0 0 1 7.39-3.09 9.94 9.94 0 0 1 7.58 3.05c1.91 2 3 5.25 3.32 9.4h205.6c.4-4.09 1.57-7.29 3.52-9.36zm189 63.13a4.38 4.38 0 0 0-3-1 4 4 0 0 0-2.62.78c-1.52 1.41-2.74 2.54-3.67 3.36a33.69 33.69 0 0 1-3.13 2.31 12.3 12.3 0 0 1-3.44 1.57 14 14 0 0 1-3.95.51 6.6 6.6 0 0 1-.9 0 10.72 10.72 0 0 1-5-1.57 11.55 11.55 0 0 1-4.3-4.66 17.22 17.22 0 0 1-1.64-7.43h23.54c3.17 0 5.65-.34 7.37-1.2s2.62-2.9 2.62-5.91a20.41 20.41 0 0 0-2.54-9.66 19.64 19.64 0 0 0-7.58-7.71 23.28 23.28 0 0 0-12.12-3h-.35a27.4 27.4 0 0 0-9.54 1.72 21.07 21.07 0 0 0-7.54 5 22.48 22.48 0 0 0-4.61 7.86 30.26 30.26 0 0 0-1.6 9.94c0 7.59 2.15 13.54 6.45 18 4.06 4.19 9.69 6.38 16.84 6.61h1.25a27.65 27.65 0 0 0 9-1.33a22.39 22.39 0 0 0 185 74a16 16 0 0 0 3.87-4.23 7.8 7.8 0 0 0 1.29-3.8 3.58 3.58 0 0 0-1.16-2.84zm-28.14-22.4a9.58 9.58 0 0 1 7.39-3.09 9.94 9.94 0 0 1 7.58 3.05c1.91 2 3 5.25 3.32 9.4h-21.8c.39-4.09 1.56-7.29 3.52-9.36zm-21.65-27.17a5.26 5.26 0 0 0 135 11.8a5 5 0 0 0-4.22 1.92c-1.31 1.52-1.65 3.24-1.65 5.7v37.2a23.57 23.57 0 0 0-6.62-5.57 17.21 17.21 0 0 0-5.2-1.56 25.92 25.92 0 0 0-3.6-.24 18.38 18.38 0 0 0-14.54 6.34c-3.63 4.23-5.47 10.1-5.47 17.65a35.11 35.11 0 0 0 1.37 9.94 24.13 24.13 0 0 0 4.1 8 19.15 19.15 0 0 0 6.41 5.24 17.87 17.87 0 0 0 8 1.84 19.72 19.72 0 0 0 3.75-.35 14.67 14.67 0 0 0 2.27-.55 19.32 19.32 0 0 0 5.12-2.66 31.93 31.93 0 0 0 4.81-4.54v1.17a7.52 7.52 0 0 0 1.6 5.13 5.62 5.62 0 0 0 8.17.08 7.53 7.53 0 0 0 1.56-5.2v18.68a7.87 7.87 0 0 0-1.65-5.12zm-11.9 49.22a11.37 11.37 0 0 1-4.22 5 10.57 10.57 0 0 1-5.74 1.64 10.44 10.44 0 0 1-5.78-1.72 11.58 11.58 0 0 1-4.18-5.16 20.68 20.68 0 0 1-1.52-8.37 21.64 21.64 0 0 1 1.41-8.14 12.08 12.08 0 0 1 4.06-5.4 9.57 9.57 0 0 1 5.9-1.88h.16a9.72 9.72 0 0 1 5.6 1.88 12.35 12.35 0 0 1 4.26 5.28 20.52 20.52 0 0 1 1.56 8.29 21 21 0 0 1-1.51 8.58zm26 71.27v-28.8c.82.08 1.6.12 2.42.12a20.27 20.27 0 0 0 39 39.65v31.62c0 2.7-.49 4.7-1.71 6a6.16 6.16 0 0 1-4.77 2 6 6 0 0 1-4.69-2c-1.21-1.33-1.84-3.33-1.84-6zm-.12-69c34-.69 43.28-.53 50.23 5.5a11.79 11.79 0 0 1 3.36 4.5c.7 2.27-2.46-.23-2.89-.55a30.92 30.92 0 0 0-7.07-3.6c29.95 1.66 17 9.29 9 21.15a64.11 64.11 0 0 0 1.61 38a9.59 9.59 0 0 1-.7 2.11c-.35.67-.16-1.8-.16-1.88a52 52 0 0 1 1.41-7.36c5.87 17.94 14.08 7.18 25.88 2.25zm10.59 32a9.92 9.92 0 1 1 40.81 21a9.88 9.88 0 0 1-4.34 13.29zm20.87 2.53v1.5a21.48 21.48 0 0 1 6.9-6.13 18.79 18.79 0 0 1 8.65-1.94 17.35 17.35 0 0 1 8.45 2.06 13 13 0 0 1 5.55 5.82 13.56 13.56 0 0 1 1.55 4.78 48.84 48.84 0 0 1 .35 6.48v22.24a7.92 7.92 0 0 1 87.13 77a5.41 5.41 0 0 1-4.27 1.86a5.48 5.48 0 0 1 78.52 77a7.81 7.81 0 0 1-1.62-5.4v51.7c0-4-.59-7-1.68-9.09s-3.3-3.14-6.55-3.14a9.84 9.84 0 0 0-5.82 1.9a11 11 0 0 0 59 46.65c-.58 1.79-.91 5.09-.91 10v14.96c0 2.45-.52 4.23-1.65 5.47a5.68 5.68 0 0 1-4.34 1.82 5.38 5.38 0 0 1-4.29-1.9 7.82 7.82 0 0 1-1.67-5.4v37c0-2.29.5-4 1.51-5.09a5.1 5.1 0 0 1 4.07-1.71 5.41 5.41 0 0 1 2.83.74 5.29 5.29 0 0 1 2.06 2.25 8 8 0 0 1 .74 3.64z\\' fill=\\'%232164f3\\' fill-rule=\\'evenodd\\'/%3e%3c/svg%3e\")!important}[dir=ltr] .gnav .icl-logo--wordmark--lg,[dir=rtl] .gnav .icl-logo--wordmark--lg{width:160px!important;height:40px!important}[dir=ltr] .gnav .icl-logo--wordmark--md,[dir=rtl] .gnav .icl-logo--wordmark--md{width:120px!important;height:30px!important}[dir=ltr] .gnav .icl-logo--wordmark--sm,[dir=rtl] .gnav .icl-logo--wordmark--sm{width:80px!important;height:20px!important}[dir] .gnav .icl-logo--wordmark--black{background-image:url(\"data:image/svg+xml;charset=utf8,%3csvg xmlns=\\'http://www.w3.org/2000/svg\\' xmlns:xlink=\\'http://www.w3.org/1999/xlink\\' viewbox=\\'0 0 320 80\\' focusable=\\'false\\'%3e%3cpath d=\\'m287.31 13.4a5.24 5.24 0 0 0-4.22-1.76 5 5 0 0 0-4.22 1.92 9 9 0 0 0-1.49 5.59v37a24.49 24.49 0 0 0-7-5.52 16.88 16.88 0 0 0-5.2-1.56 25.92 25.92 0 0 0-3.6-.24a18.43 18.43 0 0 0 247.06 36c-3.67 4.23-5.51 10.09-5.51 17.65a33.74 33.74 0 0 0 243 63.6a24 24 0 0 0 4.06 8 19.15 19.15 0 0 0 6.41 5.24 17.87 17.87 0 0 0 8 1.84 19.14 19.14 0 0 0 3.75-.35 14.73 14.73 0 0 0 2.27-.55 19.32 19.32 0 0 0 5.12-2.66 30.13 30.13 0 0 0 4.81-4.54v1.17a7.52 7.52 0 0 0 1.6 5.13 5.66 5.66 0 0 0 8.21.08 7.48 7.48 0 0 0 1.8-5.17v18.48a7.76 7.76 0 0 0-1.72-5.08zm-12.15 49.22a11.56 11.56 0 0 1-4.18 5 10.7 10.7 0 0 1-5.78 1.64 10.45 10.45 0 0 1-5.78-1.72 11.84 11.84 0 0 1-4.18-5.16 20.67 20.67 0 0 1-1.52-8.37 20.86 20.86 0 0 1 1.45-8.14 12 12 0 0 1 4-5.4 9.68 9.68 0 0 1 5.94-1.88h.12a9.93 9.93 0 0 1 5.74 1.84 12.56 12.56 0 0 1 4.22 5.28 19.89 19.89 0 0 1 1.56 8.29 20.36 20.36 0 0 1-1.59 8.62zm-37.9.51a4.38 4.38 0 0 0-3-1 4 4 0 0 0-2.62.78c-1.52 1.41-2.74 2.54-3.67 3.36a33.69 33.69 0 0 1-3.13 2.31 12.3 12.3 0 0 1-3.44 1.57 14 14 0 0 1-3.95.51 6.6 6.6 0 0 1-.9 0 10.72 10.72 0 0 1-5-1.57 11.55 11.55 0 0 1-4.3-4.66a17.22 17.22 0 0 1 205.6 57h23.54c3.17 0 5.65-.34 7.37-1.2s2.62-2.9 2.62-5.91a20.41 20.41 0 0 0-2.54-9.66 19.64 19.64 0 0 0-7.59-7.74 23.28 23.28 0 0 0-12.12-3h-.35a27.4 27.4 0 0 0-9.53 1.75 21.07 21.07 0 0 0-7.54 5 22.48 22.48 0 0 0-4.61 7.86 30.26 30.26 0 0 0-1.6 9.94c0 7.59 2.15 13.54 6.45 18 4.06 4.19 9.69 6.38 16.84 6.61h1.25a27.65 27.65 0 0 0 9-1.33 22.39 22.39 0 0 0 6.48-3.32 16 16 0 0 0 3.87-4.23 7.8 7.8 0 0 0 1.29-3.8 3.58 3.58 0 0 0-1.17-2.84zm-28.14-22.4a9.58 9.58 0 0 1 7.39-3.09 9.94 9.94 0 0 1 7.58 3.05c1.91 2 3 5.25 3.32 9.4h205.6c.4-4.09 1.57-7.29 3.52-9.36zm189 63.13a4.38 4.38 0 0 0-3-1 4 4 0 0 0-2.62.78c-1.52 1.41-2.74 2.54-3.67 3.36a33.69 33.69 0 0 1-3.13 2.31 12.3 12.3 0 0 1-3.44 1.57 14 14 0 0 1-3.95.51 6.6 6.6 0 0 1-.9 0 10.72 10.72 0 0 1-5-1.57 11.55 11.55 0 0 1-4.3-4.66 17.22 17.22 0 0 1-1.64-7.43h23.54c3.17 0 5.65-.34 7.37-1.2s2.62-2.9 2.62-5.91a20.41 20.41 0 0 0-2.54-9.66 19.64 19.64 0 0 0-7.58-7.71 23.28 23.28 0 0 0-12.12-3h-.35a27.4 27.4 0 0 0-9.54 1.72 21.07 21.07 0 0 0-7.54 5 22.48 22.48 0 0 0-4.61 7.86 30.26 30.26 0 0 0-1.6 9.94c0 7.59 2.15 13.54 6.45 18 4.06 4.19 9.69 6.38 16.84 6.61h1.25a27.65 27.65 0 0 0 9-1.33a22.39 22.39 0 0 0 185 74a16 16 0 0 0 3.87-4.23 7.8 7.8 0 0 0 1.29-3.8 3.58 3.58 0 0 0-1.16-2.84zm-28.14-22.4a9.58 9.58 0 0 1 7.39-3.09 9.94 9.94 0 0 1 7.58 3.05c1.91 2 3 5.25 3.32 9.4h-21.8c.39-4.09 1.56-7.29 3.52-9.36zm-21.65-27.17a5.26 5.26 0 0 0 135 11.8a5 5 0 0 0-4.22 1.92c-1.31 1.52-1.65 3.24-1.65 5.7v37.2a23.57 23.57 0 0 0-6.62-5.57 17.21 17.21 0 0 0-5.2-1.56 25.92 25.92 0 0 0-3.6-.24 18.38 18.38 0 0 0-14.54 6.34c-3.63 4.23-5.47 10.1-5.47 17.65a35.11 35.11 0 0 0 1.37 9.94 24.13 24.13 0 0 0 4.1 8 19.15 19.15 0 0 0 6.41 5.24 17.87 17.87 0 0 0 8 1.84 19.72 19.72 0 0 0 3.75-.35 14.67 14.67 0 0 0 2.27-.55 19.32 19.32 0 0 0 5.12-2.66 31.93 31.93 0 0 0 4.81-4.54v1.17a7.52 7.52 0 0 0 1.6 5.13 5.62 5.62 0 0 0 8.17.08 7.53 7.53 0 0 0 1.56-5.2v18.68a7.87 7.87 0 0 0-1.65-5.12zm-11.9 49.22a11.37 11.37 0 0 1-4.22 5 10.57 10.57 0 0 1-5.74 1.64 10.44 10.44 0 0 1-5.78-1.72 11.58 11.58 0 0 1-4.18-5.16 20.68 20.68 0 0 1-1.52-8.37 21.64 21.64 0 0 1 1.41-8.14 12.08 12.08 0 0 1 4.06-5.4 9.57 9.57 0 0 1 5.9-1.88h.16a9.72 9.72 0 0 1 5.6 1.88 12.35 12.35 0 0 1 4.26 5.28 20.52 20.52 0 0 1 1.56 8.29 21 21 0 0 1-1.51 8.58zm26 71.27v-28.8c.82.08 1.6.12 2.42.12a20.27 20.27 0 0 0 39 39.65v31.62c0 2.7-.49 4.7-1.71 6a6.16 6.16 0 0 1-4.77 2 6 6 0 0 1-4.69-2c-1.21-1.33-1.84-3.33-1.84-6zm-.12-69c34-.69 43.28-.53 50.23 5.5a11.79 11.79 0 0 1 3.36 4.5c.7 2.27-2.46-.23-2.89-.55a30.92 30.92 0 0 0-7.07-3.6c29.95 1.66 17 9.29 9 21.15a64.11 64.11 0 0 0 1.61 38a9.59 9.59 0 0 1-.7 2.11c-.35.67-.16-1.8-.16-1.88a52 52 0 0 1 1.41-7.36c5.87 17.94 14.08 7.18 25.88 2.25zm10.59 32a9.92 9.92 0 1 1 40.81 21a9.88 9.88 0 0 1-4.34 13.29zm20.87 2.53v1.5a21.48 21.48 0 0 1 6.9-6.13 18.79 18.79 0 0 1 8.65-1.94 17.35 17.35 0 0 1 8.45 2.06 13 13 0 0 1 5.55 5.82 13.56 13.56 0 0 1 1.55 4.78 48.84 48.84 0 0 1 .35 6.48v22.24a7.92 7.92 0 0 1 87.13 77a5.41 5.41 0 0 1-4.27 1.86a5.48 5.48 0 0 1 78.52 77a7.81 7.81 0 0 1-1.62-5.4v51.7c0-4-.59-7-1.68-9.09s-3.3-3.14-6.55-3.14a9.84 9.84 0 0 0-5.82 1.9a11 11 0 0 0 59 46.65c-.58 1.79-.91 5.09-.91 10v14.96c0 2.45-.52 4.23-1.65 5.47a5.68 5.68 0 0 1-4.34 1.82 5.38 5.38 0 0 1-4.29-1.9 7.82 7.82 0 0 1-1.67-5.4v37c0-2.29.5-4 1.51-5.09a5.1 5.1 0 0 1 4.07-1.71 5.41 5.41 0 0 1 2.83.74 5.29 5.29 0 0 1 2.06 2.25 8 8 0 0 1 .74 3.64z\\' fill=\\'%23000000\\' fill-rule=\\'evenodd\\'/%3e%3c/svg%3e\")!important}[dir] .gnav .icl-logo--wordmark--inverted,[dir] .gnav .icl-logo--wordmark--white{background-image:url(\"data:image/svg+xml;charset=utf8,%3csvg xmlns=\\'http://www.w3.org/2000/svg\\' xmlns:xlink=\\'http://www.w3.org/1999/xlink\\' viewbox=\\'0 0 320 80\\' focusable=\\'false\\'%3e%3cpath d=\\'m287.31 13.4a5.24 5.24 0 0 0-4.22-1.76 5 5 0 0 0-4.22 1.92 9 9 0 0 0-1.49 5.59v37a24.49 24.49 0 0 0-7-5.52 16.88 16.88 0 0 0-5.2-1.56 25.92 25.92 0 0 0-3.6-.24a18.43 18.43 0 0 0 247.06 36c-3.67 4.23-5.51 10.09-5.51 17.65a33.74 33.74 0 0 0 243 63.6a24 24 0 0 0 4.06 8 19.15 19.15 0 0 0 6.41 5.24 17.87 17.87 0 0 0 8 1.84 19.14 19.14 0 0 0 3.75-.35 14.73 14.73 0 0 0 2.27-.55 19.32 19.32 0 0 0 5.12-2.66 30.13 30.13 0 0 0 4.81-4.54v1.17a7.52 7.52 0 0 0 1.6 5.13 5.66 5.66 0 0 0 8.21.08 7.48 7.48 0 0 0 1.8-5.17v18.48a7.76 7.76 0 0 0-1.72-5.08zm-12.15 49.22a11.56 11.56 0 0 1-4.18 5 10.7 10.7 0 0 1-5.78 1.64 10.45 10.45 0 0 1-5.78-1.72 11.84 11.84 0 0 1-4.18-5.16 20.67 20.67 0 0 1-1.52-8.37 20.86 20.86 0 0 1 1.45-8.14 12 12 0 0 1 4-5.4 9.68 9.68 0 0 1 5.94-1.88h.12a9.93 9.93 0 0 1 5.74 1.84 12.56 12.56 0 0 1 4.22 5.28 19.89 19.89 0 0 1 1.56 8.29 20.36 20.36 0 0 1-1.59 8.62zm-37.9.51a4.38 4.38 0 0 0-3-1 4 4 0 0 0-2.62.78c-1.52 1.41-2.74 2.54-3.67 3.36a33.69 33.69 0 0 1-3.13 2.31 12.3 12.3 0 0 1-3.44 1.57 14 14 0 0 1-3.95.51 6.6 6.6 0 0 1-.9 0 10.72 10.72 0 0 1-5-1.57 11.55 11.55 0 0 1-4.3-4.66a17.22 17.22 0 0 1 205.6 57h23.54c3.17 0 5.65-.34 7.37-1.2s2.62-2.9 2.62-5.91a20.41 20.41 0 0 0-2.54-9.66 19.64 19.64 0 0 0-7.59-7.74 23.28 23.28 0 0 0-12.12-3h-.35a27.4 27.4 0 0 0-9.53 1.75 21.07 21.07 0 0 0-7.54 5 22.48 22.48 0 0 0-4.61 7.86 30.26 30.26 0 0 0-1.6 9.94c0 7.59 2.15 13.54 6.45 18 4.06 4.19 9.69 6.38 16.84 6.61h1.25a27.65 27.65 0 0 0 9-1.33 22.39 22.39 0 0 0 6.48-3.32 16 16 0 0 0 3.87-4.23 7.8 7.8 0 0 0 1.29-3.8 3.58 3.58 0 0 0-1.17-2.84zm-28.14-22.4a9.58 9.58 0 0 1 7.39-3.09 9.94 9.94 0 0 1 7.58 3.05c1.91 2 3 5.25 3.32 9.4h205.6c.4-4.09 1.57-7.29 3.52-9.36zm189 63.13a4.38 4.38 0 0 0-3-1 4 4 0 0 0-2.62.78c-1.52 1.41-2.74 2.54-3.67 3.36a33.69 33.69 0 0 1-3.13 2.31 12.3 12.3 0 0 1-3.44 1.57 14 14 0 0 1-3.95.51 6.6 6.6 0 0 1-.9 0 10.72 10.72 0 0 1-5-1.57 11.55 11.55 0 0 1-4.3-4.66 17.22 17.22 0 0 1-1.64-7.43h23.54c3.17 0 5.65-.34 7.37-1.2s2.62-2.9 2.62-5.91a20.41 20.41 0 0 0-2.54-9.66 19.64 19.64 0 0 0-7.58-7.71 23.28 23.28 0 0 0-12.12-3h-.35a27.4 27.4 0 0 0-9.54 1.72 21.07 21.07 0 0 0-7.54 5 22.48 22.48 0 0 0-4.61 7.86 30.26 30.26 0 0 0-1.6 9.94c0 7.59 2.15 13.54 6.45 18 4.06 4.19 9.69 6.38 16.84 6.61h1.25a27.65 27.65 0 0 0 9-1.33a22.39 22.39 0 0 0 185 74a16 16 0 0 0 3.87-4.23 7.8 7.8 0 0 0 1.29-3.8 3.58 3.58 0 0 0-1.16-2.84zm-28.14-22.4a9.58 9.58 0 0 1 7.39-3.09 9.94 9.94 0 0 1 7.58 3.05c1.91 2 3 5.25 3.32 9.4h-21.8c.39-4.09 1.56-7.29 3.52-9.36zm-21.65-27.17a5.26 5.26 0 0 0 135 11.8a5 5 0 0 0-4.22 1.92c-1.31 1.52-1.65 3.24-1.65 5.7v37.2a23.57 23.57 0 0 0-6.62-5.57 17.21 17.21 0 0 0-5.2-1.56 25.92 25.92 0 0 0-3.6-.24 18.38 18.38 0 0 0-14.54 6.34c-3.63 4.23-5.47 10.1-5.47 17.65a35.11 35.11 0 0 0 1.37 9.94 24.13 24.13 0 0 0 4.1 8 19.15 19.15 0 0 0 6.41 5.24 17.87 17.87 0 0 0 8 1.84 19.72 19.72 0 0 0 3.75-.35 14.67 14.67 0 0 0 2.27-.55 19.32 19.32 0 0 0 5.12-2.66 31.93 31.93 0 0 0 4.81-4.54v1.17a7.52 7.52 0 0 0 1.6 5.13 5.62 5.62 0 0 0 8.17.08 7.53 7.53 0 0 0 1.56-5.2v18.68a7.87 7.87 0 0 0-1.65-5.12zm-11.9 49.22a11.37 11.37 0 0 1-4.22 5 10.57 10.57 0 0 1-5.74 1.64 10.44 10.44 0 0 1-5.78-1.72 11.58 11.58 0 0 1-4.18-5.16 20.68 20.68 0 0 1-1.52-8.37 21.64 21.64 0 0 1 1.41-8.14 12.08 12.08 0 0 1 4.06-5.4 9.57 9.57 0 0 1 5.9-1.88h.16a9.72 9.72 0 0 1 5.6 1.88 12.35 12.35 0 0 1 4.26 5.28 20.52 20.52 0 0 1 1.56 8.29 21 21 0 0 1-1.51 8.58zm26 71.27v-28.8c.82.08 1.6.12 2.42.12a20.27 20.27 0 0 0 39 39.65v31.62c0 2.7-.49 4.7-1.71 6a6.16 6.16 0 0 1-4.77 2 6 6 0 0 1-4.69-2c-1.21-1.33-1.84-3.33-1.84-6zm-.12-69c34-.69 43.28-.53 50.23 5.5a11.79 11.79 0 0 1 3.36 4.5c.7 2.27-2.46-.23-2.89-.55a30.92 30.92 0 0 0-7.07-3.6c29.95 1.66 17 9.29 9 21.15a64.11 64.11 0 0 0 1.61 38a9.59 9.59 0 0 1-.7 2.11c-.35.67-.16-1.8-.16-1.88a52 52 0 0 1 1.41-7.36c5.87 17.94 14.08 7.18 25.88 2.25zm10.59 32a9.92 9.92 0 1 1 40.81 21a9.88 9.88 0 0 1-4.34 13.29zm20.87 2.53v1.5a21.48 21.48 0 0 1 6.9-6.13 18.79 18.79 0 0 1 8.65-1.94 17.35 17.35 0 0 1 8.45 2.06 13 13 0 0 1 5.55 5.82 13.56 13.56 0 0 1 1.55 4.78 48.84 48.84 0 0 1 .35 6.48v22.24a7.92 7.92 0 0 1 87.13 77a5.41 5.41 0 0 1-4.27 1.86a5.48 5.48 0 0 1 78.52 77a7.81 7.81 0 0 1-1.62-5.4v51.7c0-4-.59-7-1.68-9.09s-3.3-3.14-6.55-3.14a9.84 9.84 0 0 0-5.82 1.9a11 11 0 0 0 59 46.65c-.58 1.79-.91 5.09-.91 10v14.96c0 2.45-.52 4.23-1.65 5.47a5.68 5.68 0 0 1-4.34 1.82 5.38 5.38 0 0 1-4.29-1.9 7.82 7.82 0 0 1-1.67-5.4v37c0-2.29.5-4 1.51-5.09a5.1 5.1 0 0 1 4.07-1.71 5.41 5.41 0 0 1 2.83.74 5.29 5.29 0 0 1 2.06 2.25 8 8 0 0 1 .74 3.64z\\' fill=\\'%23ffffff\\' fill-rule=\\'evenodd\\'/%3e%3c/svg%3e\")!important}[dir] .gnav .icl-logo--lettermark{background-image:url(\"data:image/svg+xml;charset=utf8,%3csvg xmlns=\\'http://www.w3.org/2000/svg\\' xmlns:xlink=\\'http://www.w3.org/1999/xlink\\' viewbox=\\'0 0 120 120\\' focusable=\\'false\\'%3e%3cdefs%3e%3cpath id=\\'icl-logo-svgid_1_\\' d=\\'m52.2 9c11-4 23.6-3.8 33.1 4.4 1.8 1.7 3.8 3.7 4.6 6.2 1 3.1-3.3-.3-3.9-.7-3.1-2-6.2-3.7-9.6-4.9-18.6-5.8-36.2 4.6-47.1 20.8-4.6 7.1-7.5 14.7-10 22.9-.3.9-.5 2.1-1 2.9-.5.9-.2-2.5-.2-2.6.4-3.4 1.1-6.7 1.9-10 5-17.6 16.2-32.3 32.2-39zm14.1 42c-6.9 3.5-15.3.8-18.8-6.1-3.5-7-.7-15.4 6.2-18.9 6.9-3.5 15.3-.8 18.8 6.1 3.5 7 .7 15.4-6.2 18.9zm50 103.2v62.5c1.2.1 2.4.2 3.7.2 6 0 11.5-1.5 16.3-4.1v44.7c0 3.8-1 6.6-2.8 8.5-1.8 1.9-4.3 2.8-7.3 2.8-2.9 0-5.2-.9-7.1-2.9-1.8-2-2.8-4.8-2.8-8.5z\\' /%3e%3c/defs%3e%3cclippath id=\\'icl-logo-svgid_2_\\'%3e%3cuse xlink:href=\\'%23icl-logo-svgid_1_\\' overflow=\\'visible\\' /%3e%3c/clippath%3e%3cpath style=\\'clip-path: url(%23icl-logo-svgid_2_); fill: %232164f3;\\' d=\\'m-2-13.5h112v148h-2z\\' /%3e%3c/svg%3e\")!important}[dir=ltr] .gnav .icl-logo--lettermark--lg,[dir=rtl] .gnav .icl-logo--lettermark--lg{width:40px!important;height:40px!important}[dir=ltr] .gnav .icl-logo--lettermark--md,[dir=rtl] .gnav .icl-logo--lettermark--md{width:30px!important;height:30px!important}[dir=ltr] .gnav .icl-logo--lettermark--sm,[dir=rtl] .gnav .icl-logo--lettermark--sm{width:20px!important;height:20px!important}[dir] .gnav .icl-logo--lettermark--black{background-image:url(\"data:image/svg+xml;charset=utf8,%3csvg xmlns=\\'http://www.w3.org/2000/svg\\' xmlns:xlink=\\'http://www.w3.org/1999/xlink\\' viewbox=\\'0 0 120 120\\' focusable=\\'false\\'%3e%3cdefs%3e%3cpath id=\\'icl-logo-svgid_1_\\' d=\\'m52.2 9c11-4 23.6-3.8 33.1 4.4 1.8 1.7 3.8 3.7 4.6 6.2 1 3.1-3.3-.3-3.9-.7-3.1-2-6.2-3.7-9.6-4.9-18.6-5.8-36.2 4.6-47.1 20.8-4.6 7.1-7.5 14.7-10 22.9-.3.9-.5 2.1-1 2.9-.5.9-.2-2.5-.2-2.6.4-3.4 1.1-6.7 1.9-10 5-17.6 16.2-32.3 32.2-39zm14.1 42c-6.9 3.5-15.3.8-18.8-6.1-3.5-7-.7-15.4 6.2-18.9 6.9-3.5 15.3-.8 18.8 6.1 3.5 7 .7 15.4-6.2 18.9zm50 103.2v62.5c1.2.1 2.4.2 3.7.2 6 0 11.5-1.5 16.3-4.1v44.7c0 3.8-1 6.6-2.8 8.5-1.8 1.9-4.3 2.8-7.3 2.8-2.9 0-5.2-.9-7.1-2.9-1.8-2-2.8-4.8-2.8-8.5z\\' /%3e%3c/defs%3e%3cclippath id=\\'icl-logo-svgid_2_\\'%3e%3cuse xlink:href=\\'%23icl-logo-svgid_1_\\' overflow=\\'visible\\' /%3e%3c/clippath%3e%3cpath style=\\'clip-path: url(%23icl-logo-svgid_2_); fill: %23000000;\\' d=\\'m-2-13.5h112v148h-2z\\' /%3e%3c/svg%3e\")!important}[dir] .gnav .icl-logo--lettermark--inverted,[dir] .gnav .icl-logo--lettermark--white{background-image:url(\"data:image/svg+xml;charset=utf8,%3csvg xmlns=\\'http://www.w3.org/2000/svg\\' xmlns:xlink=\\'http://www.w3.org/1999/xlink\\' viewbox=\\'0 0 120 120\\' focusable=\\'false\\'%3e%3cdefs%3e%3cpath id=\\'icl-logo-svgid_1_\\' d=\\'m52.2 9c11-4 23.6-3.8 33.1 4.4 1.8 1.7 3.8 3.7 4.6 6.2 1 3.1-3.3-.3-3.9-.7-3.1-2-6.2-3.7-9.6-4.9-18.6-5.8-36.2 4.6-47.1 20.8-4.6 7.1-7.5 14.7-10 22.9-.3.9-.5 2.1-1 2.9-.5.9-.2-2.5-.2-2.6.4-3.4 1.1-6.7 1.9-10 5-17.6 16.2-32.3 32.2-39zm14.1 42c-6.9 3.5-15.3.8-18.8-6.1-3.5-7-.7-15.4 6.2-18.9 6.9-3.5 15.3-.8 18.8 6.1 3.5 7 .7 15.4-6.2 18.9zm50 103.2v62.5c1.2.1 2.4.2 3.7.2 6 0 11.5-1.5 16.3-4.1v44.7c0 3.8-1 6.6-2.8 8.5-1.8 1.9-4.3 2.8-7.3 2.8-2.9 0-5.2-.9-7.1-2.9-1.8-2-2.8-4.8-2.8-8.5z\\' /%3e%3c/defs%3e%3cclippath id=\\'icl-logo-svgid_2_\\'%3e%3cuse xlink:href=\\'%23icl-logo-svgid_1_\\' overflow=\\'visible\\' /%3e%3c/clippath%3e%3cpath style=\\'clip-path: url(%23icl-logo-svgid_2_); fill: %23ffffff;\\' d=\\'m-2-13.5h112v148h-2z\\' /%3e%3c/svg%3e\")!important}[dir=ltr] .gnav .icl-indeedlogokatakana,[dir=rtl] .gnav .icl-indeedlogokatakana{box-sizing:border-box!important;display:inline-block!important}[dir] .gnav .icl-indeedlogokatakana{background-repeat:no-repeat!important;background-image:url(\"data:image/svg+xml;charset=utf8,%3csvg xmlns=\\'http://www.w3.org/2000/svg\\' xmlns:xlink=\\'http://www.w3.org/1999/xlink\\' viewbox=\\'0 0 210.03 58.05\\' focusable=\\'false\\'%3e%3cpath style=\\'fill:%232164f3;\\' d=\\'m202.67 47.28a8.32 8.32 0 0 1-3 3.59 7.92 7.92 0 0 1-4.28 1.13 7.78 7.78 0 0 1-4.24-1.26 8.48 8.48 0 0 1-3-3.68 14.42 14.42 0 0 1-1.15-5.9 14.55 14.55 0 0 1 1.06-5.79 8.59 8.59 0 0 1 3-3.85 7.19 7.19 0 0 1 4.34-1.34h.08a7.4 7.4 0 0 1 4.2 1.31 9 9 0 0 1 3.08 3.76 13.86 13.86 0 0 1 1.14 5.94 14.19 14.19 0 0 1-1.14 6.11m8.91-35.06a3.86 3.86 0 0 0-3.12-1.24 3.66 3.66 0 0 0-3.09 1.37 6.31 6.31 0 0 0-1.08 4v29a17.82 17.82 0 0 0-5.11-4 12.73 12.73 0 0 0-3.79-1.12 19.64 19.64 0 0 0-2.62-.17 13.62 13.62 0 0 0-10.62 4.51q-4 4.51-4 12.56a23.61 23.61 0 0 0 1 7.08 16.94 16.94 0 0 0 3 5.68 13.93 13.93 0 0 0 4.68 3.73 13.35 13.35 0 0 0 5.79 1.38 14.41 14.41 0 0 0 2.74-.25 11.43 11.43 0 0 0 1.65-.4 14.18 14.18 0 0 0 3.74-1.89 21.78 21.78 0 0 0 3.51-3.24v.82a5.28 5.28 0 0 0 1.17 3.65 4.22 4.22 0 0 0 6 .08 5.29 5.29 0 0 0 1.17-3.71v15.88a5.5 5.5 0 0 0-1.08-3.65m154.87 31.9a7.08 7.08 0 0 1 5.4-2.2 7.36 7.36 0 0 1 5.53 2.17c1.41 1.46 2.23 3.65 2.43 6.6h152.3a10.7 10.7 0 0 1 2.56-6.57m20.55 15.75a3.24 3.24 0 0 0-2.2-.72 3 3 0 0 0-1.91.55c-1.11 1-2 1.81-2.68 2.4a23.86 23.86 0 0 1-2.29 1.64 9.11 9.11 0 0 1-2.5 1.12 10.57 10.57 0 0 1-2.89.36 4.77 4.77 0 0 1-.65 0 7.92 7.92 0 0 1-3.65-1.12 8.28 8.28 0 0 1-3.1-3.34 11.58 11.58 0 0 1-1.2-5.18h17.21a12.53 12.53 0 0 0 5.37-1c1.29-.66 1.91-2.06 1.91-4.21a14.36 14.36 0 0 0-7.44-12.34 17.37 17.37 0 0 0-8.85-2.12h-.26a20.47 20.47 0 0 0-6.93 1.23 15.44 15.44 0 0 0-5.51 3.56 15.93 15.93 0 0 0-3.37 5.6 21.12 21.12 0 0 0-1.17 7.08c0 5.41 1.57 9.64 4.71 12.79 3 3 7.08 4.54 12.3 4.71h.91a20.72 20.72 0 0 0 6.56-1 16.69 16.69 0 0 0 4.74-2.37 11.41 11.41 0 0 0 2.82-3 5.44 5.44 0 0 0 1-2.7 2.5 2.5 0 0 0-.86-2m119.63 31.9a7.08 7.08 0 0 1 5.4-2.2 7.37 7.37 0 0 1 5.53 2.17c1.43 1.46 2.23 3.65 2.46 6.6h-16a11.08 11.08 0 0 1 2.57-6.57m18.37 15a3 3 0 0 0-2 .55c-1.09 1-2 1.81-2.68 2.4a23.46 23.46 0 0 1-2.26 1.64 9.25 9.25 0 0 1-2.54 1.12 10.4 10.4 0 0 1-2.88.36 4.77 4.77 0 0 1-.65 0 8 8 0 0 1-3.65-1.12 8.22 8.22 0 0 1-3.11-3.32 11.18 11.18 0 0 1-1.19-5.15h17.24a12.68 12.68 0 0 0 5.37-1c1.26-.66 1.88-2.06 1.88-4.21a14.2 14.2 0 0 0-1.83-6.93 14.36 14.36 0 0 0-5.53-5.49 17.46 17.46 0 0 0-8.85-2.12h125a20.56 20.56 0 0 0-6.93 1.23 15 15 0 0 0-5.48 3.56 15.51 15.51 0 0 0-3.4 5.6 21 21 0 0 0-1.19 7.16c0 5.41 1.59 9.64 4.74 12.79q4.45 4.47 12.27 4.71h.91a20.57 20.57 0 0 0 6.56-1 16.57 16.57 0 0 0 4.74-2.37 11 11 0 0 0 2.83-3 5.45 5.45 0 0 0 1-2.7 2.58 2.58 0 0 0-.82-2 3.36 3.36 0 0 0-2.2-.72m20.88 53v32.48c.59 0 1.17.08 1.77.08a15.42 15.42 0 0 0 7.82-2.09v53a6.1 6.1 0 0 1-1.34 4.3 4.55 4.55 0 0 1-3.46 1.42 4.45 4.45 0 0 1-3.43-1.45a6.06 6.06 0 0 1 20.88 53m95 47.28a8.15 8.15 0 0 1-3.08 3.59a7.85 7.85 0 0 1 87.69 52a7.77 7.77 0 0 1-4.26-1.26 8.31 8.31 0 0 1-3.06-3.68 14.44 14.44 0 0 1-1.11-5.94 15.14 15.14 0 0 1 1-5.79 8.63 8.63 0 0 1 3-3.85 7.1 7.1 0 0 1 4.31-1.34h.12a7.23 7.23 0 0 1 4.17 1.31 8.83 8.83 0 0 1 3.11 3.76 14.34 14.34 0 0 1 1.15 5.94 14.66 14.66 0 0 1-1.15 6.11m8.85-35.06a3.88 3.88 0 0 0-3-1.26 3.65 3.65 0 0 0-3.08 1.37 6.15 6.15 0 0 0-1.09 4v29a17.82 17.82 0 0 0-5.11-4 12.93 12.93 0 0 0-3.79-1.12 19.61 19.61 0 0 0-2.75-.12 13.57 13.57 0 0 0-10.61 4.51q-4 4.57-4 12.61a24.57 24.57 0 0 0 1 7.08 17.06 17.06 0 0 0 3 5.68a13.86 13.86 0 0 0 79 57.38a13.33 13.33 0 0 0 5.93 1.33 14.85 14.85 0 0 0 2.74-.25 11.39 11.39 0 0 0 1.65-.4 14.16 14.16 0 0 0 3.74-1.89 23 23 0 0 0 3.5-3.24v.82a5.28 5.28 0 0 0 1.17 3.65 4.15 4.15 0 0 0 5.94 0 5.28 5.28 0 0 0 1.17-3.7v15.88a5.47 5.47 0 0 0-1.06-3.65m44.57 28.5v1.06a15.71 15.71 0 0 1 5.08-4.41a14.14 14.14 0 0 1 56 23.76a13 13 0 0 1 6.22 1.48 9.41 9.41 0 0 1 4.08 4.18 9.48 9.48 0 0 1 1.14 3.43 33.93 33.93 0 0 1 .26 4.65v16a5.57 5.57 0 0 1-1.23 3.9 4 4 0 0 1-3.13 1.34 4.08 4.08 0 0 1-3.2-1.37 5.5 5.5 0 0 1-1.23-3.87v39.17a14.19 14.19 0 0 0-1.2-6.51c-.8-1.5-2.43-2.26-4.82-2.26a7.39 7.39 0 0 0-4.31 1.36 8 8 0 0 0-2.85 3.79 26.63 26.63 0 0 0-.62 7.2v10.72a5.54 5.54 0 0 1-1.25 4 4.24 4.24 0 0 1-3.2 1.28 4 4 0 0 1-3.14-1.37 5.52 5.52 0 0 1-1.23-3.87v28.64a5.16 5.16 0 0 1 37.43 25a3.8 3.8 0 0 1 3-1.23 4 4 0 0 1 2.08.53a3.79 3.79 0 0 1 44 25.91a5.62 5.62 0 0 1 .54 2.59m21 3.84c5.94-2.09 12.7-2 17.82 2.31a8.41 8.41 0 0 1 2.46 3.24c.51 1.61-1.79-.17-2.11-.39a22.84 22.84 0 0 0 34 6.43c-10-3-19.43 2.43-25.31 10.89a45.07 45.07 0 0 0-5.37 12 6.44 6.44 0 0 1-.51 1.5c-.26.48-.11-1.28-.11-1.34a36 36 0 0 1 1-5.24c6.36 15 12.35 7.41 21 3.86\\' transform=\\'translate(-2.62 -.66)\\'/%3e%3cpath style=\\'fill:%232164f3;\\' d=\\'m28.7 26.66a7.3 7.3 0 0 1-9.7-3.09 6.93 6.93 0 0 1 2.89-9.36l.28-.14a7.3 7.3 0 0 1 9.73 3.06 6.93 6.93 0 0 1-2.9 9.36l-.28.14m118.4 8.36c-1.66 1.22-3.42 2.17-4.14 2.17a1.22 1.22 0 0 1-1.19-1.25c0-.7.3-.83 1.75-1.5a16.28 16.28 0 0 0 6.09-5.38c.51-.85.66-1.08 1.24-1.08a1.33 1.33 0 0 1 1.35 1.17c0 1-1.9 3.08-2.67 3.81v7.29c0 .61-.44 1-1.21 1s-1.22-.35-1.22-1zm131.25 6.49a1.66 1.66 0 0 1-1-.48c-.7-.57-1.42-1.14-2.26-1.76a1 1 0 0 1-.51-.85 1.39 1.39 0 0 1 1.28-1.32c.41 0 .72.16 1.68.85 1.65 1.18 2.13 1.66 2.13 2.19a1.46 1.46 0 0 1-1.32 1.37zm8.5-.46a2.9 2.9 0 0 1-.63 1.34c-3.37 4.95-9.07 6.72-10.17 6.72a1.25 1.25 0 0 1-1.19-1.3v-.07c0-.92.59-1.08 1.55-1.35a14.64 14.64 0 0 0 5.76-3.17 12.46 12.46 0 0 0 2.2-2.71c.33-.53.6-.72 1-.72a1.45 1.45 0 0 1 139.76 6zm161.46 9.82a8.36 8.36 0 0 1-3.24 1.62 1.12 1.12 0 0 1-1-1.18 1 1 0 0 1 .6-.92l.86-.41a13.3 13.3 0 0 0 4.8-4.28c.44-.69.66-.88 1.11-.88a1.25 1.25 0 0 1 1.27 1.06c0 .72-1.33 2.21-2.2 3.09v5.79c0 .56-.41.88-1.11.88s-1.11-.32-1.11-.88zm171 9c-.6 0-.93-.42-.93-1.17s.33-1.18.93-1.18h11c.6 0 .93.42.93 1.18s182.65 9 182 9zm190.26 5a33.35 33.35 0 0 1 194 6.52c1.22.63 1.47.88 1.47 1.49a1.28 1.28 0 0 1-1.18 1.37 1.77 1.77 0 0 1-.82-.26 23.76 23.76 0 0 0-3.21-1.56v5.89c0 .63-.44 1-1.22 1s-1.22-.35-1.22-1v2.28c0-.63.44-1 1.22-1s1.22.35 1.22 1zm2.57-2.57c.3 0 .48.16 1 .9s.56.88.56 1.12a.82.82 0 0 1-.86.72.65.65 0 0 1-.6-.39c-.32-.48-.45-.66-.74-1.06a.92.92 0 0 1-.23-.54.85.85 0 0 1 .87-.79zm1.75-1c.3 0 .51.19 1.08 1 .39.53.53.79.53 1a.83.83 0 0 1-.88.73.64.64 0 0 1-.56-.33 12.76 12.76 0 0 0-.75-1.14.84.84 0 0 1-.25-.54.86.86 0 0 1 .87-.8zm144 4.18h6.65c.57 0 .89-.41.89-1.11a1.72 1.72 0 0 0 0-.28.93.93 0 0 0-.5-.77.74.74 0 0 0-.28-.07h-6.73c-.56 0-.89.41-.89 1.12s.33 1.11.86 1.11zm153.65.66a.74.74 0 0 0-.76.66c0 .17 0 .25.39.72a7.06 7.06 0 0 1 .41.63c.16.28.33.46.57.46a.74.74 0 0 0 .76-.7c-.02-.29-.78-1.77-1.37-1.77zm152.21 1.29a.74.74 0 0 0-.76.66c0 .17 0 .25.39.72a7.06 7.06 0 0 1 .41.63c.16.28.33.46.57.46a.74.74 0 0 0 .76-.7c-.04-.26-.78-1.77-1.37-1.77zm153.3 5.43h-11c-.57 0-.89.41-.89 1.12s.32 1.11.89 1.11h4.7c-.17 2.3-.82 3.42-2.54 4.46-.6.36-.77.6-.77 1.06a1.3 1.3 0 0 0 1.24 1.3c.77 0 2-.89 3-2.13a8.16 8.16 0 0 0 1.53-4.68h3.89c.57 0 .89-.41.89-1.11s-.37-1.13-.94-1.13z\\' transform=\\'translate(-2.62 -.66)\\'/%3e%3c/svg%3e\")!important}[dir=ltr] .gnav .icl-indeedlogokatakana--lg,[dir=rtl] .gnav .icl-indeedlogokatakana--lg{width:160px!important;height:40px!important}[dir=ltr] .gnav .icl-indeedlogokatakana--md,[dir=rtl] .gnav .icl-indeedlogokatakana--md{width:120px!important;height:30px!important}[dir=ltr] .gnav .icl-indeedlogokatakana--sm,[dir=rtl] .gnav .icl-indeedlogokatakana--sm{width:80px!important;height:20px!important}[dir] .gnav .icl-indeedlogokatakana--black{background-image:url(\"data:image/svg+xml;charset=utf8,%3csvg xmlns=\\'http://www.w3.org/2000/svg\\' xmlns:xlink=\\'http://www.w3.org/1999/xlink\\' viewbox=\\'0 0 210.03 58.05\\' focusable=\\'false\\'%3e%3cpath style=\\'fill:%23000000\\' d=\\'m202.67 47.28a8.32 8.32 0 0 1-3 3.59 7.92 7.92 0 0 1-4.28 1.13 7.78 7.78 0 0 1-4.24-1.26 8.48 8.48 0 0 1-3-3.68 14.42 14.42 0 0 1-1.15-5.9 14.55 14.55 0 0 1 1.06-5.79 8.59 8.59 0 0 1 3-3.85 7.19 7.19 0 0 1 4.34-1.34h.08a7.4 7.4 0 0 1 4.2 1.31 9 9 0 0 1 3.08 3.76 13.86 13.86 0 0 1 1.14 5.94 14.19 14.19 0 0 1-1.14 6.11m8.91-35.06a3.86 3.86 0 0 0-3.12-1.24 3.66 3.66 0 0 0-3.09 1.37 6.31 6.31 0 0 0-1.08 4v29a17.82 17.82 0 0 0-5.11-4 12.73 12.73 0 0 0-3.79-1.12 19.64 19.64 0 0 0-2.62-.17 13.62 13.62 0 0 0-10.62 4.51q-4 4.51-4 12.56a23.61 23.61 0 0 0 1 7.08 16.94 16.94 0 0 0 3 5.68 13.93 13.93 0 0 0 4.68 3.73 13.35 13.35 0 0 0 5.79 1.38 14.41 14.41 0 0 0 2.74-.25 11.43 11.43 0 0 0 1.65-.4 14.18 14.18 0 0 0 3.74-1.89 21.78 21.78 0 0 0 3.51-3.24v.82a5.28 5.28 0 0 0 1.17 3.65 4.22 4.22 0 0 0 6 .08 5.29 5.29 0 0 0 1.17-3.71v15.88a5.5 5.5 0 0 0-1.08-3.65m154.87 31.9a7.08 7.08 0 0 1 5.4-2.2 7.36 7.36 0 0 1 5.53 2.17c1.41 1.46 2.23 3.65 2.43 6.6h152.3a10.7 10.7 0 0 1 2.56-6.57m20.55 15.75a3.24 3.24 0 0 0-2.2-.72 3 3 0 0 0-1.91.55c-1.11 1-2 1.81-2.68 2.4a23.86 23.86 0 0 1-2.29 1.64 9.11 9.11 0 0 1-2.5 1.12 10.57 10.57 0 0 1-2.89.36 4.77 4.77 0 0 1-.65 0 7.92 7.92 0 0 1-3.65-1.12 8.28 8.28 0 0 1-3.1-3.34 11.58 11.58 0 0 1-1.2-5.18h17.21a12.53 12.53 0 0 0 5.37-1c1.29-.66 1.91-2.06 1.91-4.21a14.36 14.36 0 0 0-7.44-12.34 17.37 17.37 0 0 0-8.85-2.12h-.26a20.47 20.47 0 0 0-6.93 1.23 15.44 15.44 0 0 0-5.51 3.56 15.93 15.93 0 0 0-3.37 5.6 21.12 21.12 0 0 0-1.17 7.08c0 5.41 1.57 9.64 4.71 12.79 3 3 7.08 4.54 12.3 4.71h.91a20.72 20.72 0 0 0 6.56-1 16.69 16.69 0 0 0 4.74-2.37 11.41 11.41 0 0 0 2.82-3 5.44 5.44 0 0 0 1-2.7 2.5 2.5 0 0 0-.86-2m119.63 31.9a7.08 7.08 0 0 1 5.4-2.2 7.37 7.37 0 0 1 5.53 2.17c1.43 1.46 2.23 3.65 2.46 6.6h-16a11.08 11.08 0 0 1 2.57-6.57m18.37 15a3 3 0 0 0-2 .55c-1.09 1-2 1.81-2.68 2.4a23.46 23.46 0 0 1-2.26 1.64 9.25 9.25 0 0 1-2.54 1.12 10.4 10.4 0 0 1-2.88.36 4.77 4.77 0 0 1-.65 0 8 8 0 0 1-3.65-1.12 8.22 8.22 0 0 1-3.11-3.32 11.18 11.18 0 0 1-1.19-5.15h17.24a12.68 12.68 0 0 0 5.37-1c1.26-.66 1.88-2.06 1.88-4.21a14.2 14.2 0 0 0-1.83-6.93 14.36 14.36 0 0 0-5.53-5.49 17.46 17.46 0 0 0-8.85-2.12h125a20.56 20.56 0 0 0-6.93 1.23 15 15 0 0 0-5.48 3.56 15.51 15.51 0 0 0-3.4 5.6 21 21 0 0 0-1.19 7.16c0 5.41 1.59 9.64 4.74 12.79q4.45 4.47 12.27 4.71h.91a20.57 20.57 0 0 0 6.56-1 16.57 16.57 0 0 0 4.74-2.37 11 11 0 0 0 2.83-3 5.45 5.45 0 0 0 1-2.7 2.58 2.58 0 0 0-.82-2 3.36 3.36 0 0 0-2.2-.72m20.88 53v32.48c.59 0 1.17.08 1.77.08a15.42 15.42 0 0 0 7.82-2.09v53a6.1 6.1 0 0 1-1.34 4.3 4.55 4.55 0 0 1-3.46 1.42 4.45 4.45 0 0 1-3.43-1.45a6.06 6.06 0 0 1 20.88 53m95 47.28a8.15 8.15 0 0 1-3.08 3.59a7.85 7.85 0 0 1 87.69 52a7.77 7.77 0 0 1-4.26-1.26 8.31 8.31 0 0 1-3.06-3.68 14.44 14.44 0 0 1-1.11-5.94 15.14 15.14 0 0 1 1-5.79 8.63 8.63 0 0 1 3-3.85 7.1 7.1 0 0 1 4.31-1.34h.12a7.23 7.23 0 0 1 4.17 1.31 8.83 8.83 0 0 1 3.11 3.76 14.34 14.34 0 0 1 1.15 5.94 14.66 14.66 0 0 1-1.15 6.11m8.85-35.06a3.88 3.88 0 0 0-3-1.26 3.65 3.65 0 0 0-3.08 1.37 6.15 6.15 0 0 0-1.09 4v29a17.82 17.82 0 0 0-5.11-4 12.93 12.93 0 0 0-3.79-1.12 19.61 19.61 0 0 0-2.75-.12 13.57 13.57 0 0 0-10.61 4.51q-4 4.57-4 12.61a24.57 24.57 0 0 0 1 7.08 17.06 17.06 0 0 0 3 5.68a13.86 13.86 0 0 0 79 57.38a13.33 13.33 0 0 0 5.93 1.33 14.85 14.85 0 0 0 2.74-.25 11.39 11.39 0 0 0 1.65-.4 14.16 14.16 0 0 0 3.74-1.89 23 23 0 0 0 3.5-3.24v.82a5.28 5.28 0 0 0 1.17 3.65 4.15 4.15 0 0 0 5.94 0 5.28 5.28 0 0 0 1.17-3.7v15.88a5.47 5.47 0 0 0-1.06-3.65m44.57 28.5v1.06a15.71 15.71 0 0 1 5.08-4.41a14.14 14.14 0 0 1 56 23.76a13 13 0 0 1 6.22 1.48 9.41 9.41 0 0 1 4.08 4.18 9.48 9.48 0 0 1 1.14 3.43 33.93 33.93 0 0 1 .26 4.65v16a5.57 5.57 0 0 1-1.23 3.9 4 4 0 0 1-3.13 1.34 4.08 4.08 0 0 1-3.2-1.37 5.5 5.5 0 0 1-1.23-3.87v39.17a14.19 14.19 0 0 0-1.2-6.51c-.8-1.5-2.43-2.26-4.82-2.26a7.39 7.39 0 0 0-4.31 1.36 8 8 0 0 0-2.85 3.79 26.63 26.63 0 0 0-.62 7.2v10.72a5.54 5.54 0 0 1-1.25 4 4.24 4.24 0 0 1-3.2 1.28 4 4 0 0 1-3.14-1.37 5.52 5.52 0 0 1-1.23-3.87v28.64a5.16 5.16 0 0 1 37.43 25a3.8 3.8 0 0 1 3-1.23 4 4 0 0 1 2.08.53a3.79 3.79 0 0 1 44 25.91a5.62 5.62 0 0 1 .54 2.59m21 3.84c5.94-2.09 12.7-2 17.82 2.31a8.41 8.41 0 0 1 2.46 3.24c.51 1.61-1.79-.17-2.11-.39a22.84 22.84 0 0 0 34 6.43c-10-3-19.43 2.43-25.31 10.89a45.07 45.07 0 0 0-5.37 12 6.44 6.44 0 0 1-.51 1.5c-.26.48-.11-1.28-.11-1.34a36 36 0 0 1 1-5.24c6.36 15 12.35 7.41 21 3.86\\' transform=\\'translate(-2.62 -.66)\\'/%3e%3cpath style=\\'fill:%23000000\\' d=\\'m28.7 26.66a7.3 7.3 0 0 1-9.7-3.09 6.93 6.93 0 0 1 2.89-9.36l.28-.14a7.3 7.3 0 0 1 9.73 3.06 6.93 6.93 0 0 1-2.9 9.36l-.28.14m118.4 8.36c-1.66 1.22-3.42 2.17-4.14 2.17a1.22 1.22 0 0 1-1.19-1.25c0-.7.3-.83 1.75-1.5a16.28 16.28 0 0 0 6.09-5.38c.51-.85.66-1.08 1.24-1.08a1.33 1.33 0 0 1 1.35 1.17c0 1-1.9 3.08-2.67 3.81v7.29c0 .61-.44 1-1.21 1s-1.22-.35-1.22-1zm131.25 6.49a1.66 1.66 0 0 1-1-.48c-.7-.57-1.42-1.14-2.26-1.76a1 1 0 0 1-.51-.85 1.39 1.39 0 0 1 1.28-1.32c.41 0 .72.16 1.68.85 1.65 1.18 2.13 1.66 2.13 2.19a1.46 1.46 0 0 1-1.32 1.37zm8.5-.46a2.9 2.9 0 0 1-.63 1.34c-3.37 4.95-9.07 6.72-10.17 6.72a1.25 1.25 0 0 1-1.19-1.3v-.07c0-.92.59-1.08 1.55-1.35a14.64 14.64 0 0 0 5.76-3.17 12.46 12.46 0 0 0 2.2-2.71c.33-.53.6-.72 1-.72a1.45 1.45 0 0 1 139.76 6zm161.46 9.82a8.36 8.36 0 0 1-3.24 1.62 1.12 1.12 0 0 1-1-1.18 1 1 0 0 1 .6-.92l.86-.41a13.3 13.3 0 0 0 4.8-4.28c.44-.69.66-.88 1.11-.88a1.25 1.25 0 0 1 1.27 1.06c0 .72-1.33 2.21-2.2 3.09v5.79c0 .56-.41.88-1.11.88s-1.11-.32-1.11-.88zm171 9c-.6 0-.93-.42-.93-1.17s.33-1.18.93-1.18h11c.6 0 .93.42.93 1.18s182.65 9 182 9zm190.26 5a33.35 33.35 0 0 1 194 6.52c1.22.63 1.47.88 1.47 1.49a1.28 1.28 0 0 1-1.18 1.37 1.77 1.77 0 0 1-.82-.26 23.76 23.76 0 0 0-3.21-1.56v5.89c0 .63-.44 1-1.22 1s-1.22-.35-1.22-1v2.28c0-.63.44-1 1.22-1s1.22.35 1.22 1zm2.57-2.57c.3 0 .48.16 1 .9s.56.88.56 1.12a.82.82 0 0 1-.86.72.65.65 0 0 1-.6-.39c-.32-.48-.45-.66-.74-1.06a.92.92 0 0 1-.23-.54.85.85 0 0 1 .87-.79zm1.75-1c.3 0 .51.19 1.08 1 .39.53.53.79.53 1a.83.83 0 0 1-.88.73.64.64 0 0 1-.56-.33 12.76 12.76 0 0 0-.75-1.14.84.84 0 0 1-.25-.54.86.86 0 0 1 .87-.8zm144 4.18h6.65c.57 0 .89-.41.89-1.11a1.72 1.72 0 0 0 0-.28.93.93 0 0 0-.5-.77.74.74 0 0 0-.28-.07h-6.73c-.56 0-.89.41-.89 1.12s.33 1.11.86 1.11zm153.65.66a.74.74 0 0 0-.76.66c0 .17 0 .25.39.72a7.06 7.06 0 0 1 .41.63c.16.28.33.46.57.46a.74.74 0 0 0 .76-.7c-.02-.29-.78-1.77-1.37-1.77zm152.21 1.29a.74.74 0 0 0-.76.66c0 .17 0 .25.39.72a7.06 7.06 0 0 1 .41.63c.16.28.33.46.57.46a.74.74 0 0 0 .76-.7c-.04-.26-.78-1.77-1.37-1.77zm153.3 5.43h-11c-.57 0-.89.41-.89 1.12s.32 1.11.89 1.11h4.7c-.17 2.3-.82 3.42-2.54 4.46-.6.36-.77.6-.77 1.06a1.3 1.3 0 0 0 1.24 1.3c.77 0 2-.89 3-2.13a8.16 8.16 0 0 0 1.53-4.68h3.89c.57 0 .89-.41.89-1.11s-.37-1.13-.94-1.13z\\' transform=\\'translate(-2.62 -.66)\\'/%3e%3c/svg%3e\")!important}[dir] .gnav .icl-indeedlogokatakana--inverted,[dir] .gnav .icl-indeedlogokatakana--white{background-image:url(\"data:image/svg+xml;charset=utf8,%3csvg xmlns=\\'http://www.w3.org/2000/svg\\' xmlns:xlink=\\'http://www.w3.org/1999/xlink\\' viewbox=\\'0 0 210.03 58.05\\' focusable=\\'false\\'%3e%3cpath style=\\'fill:%23ffffff\\' d=\\'m202.67 47.28a8.32 8.32 0 0 1-3 3.59 7.92 7.92 0 0 1-4.28 1.13 7.78 7.78 0 0 1-4.24-1.26 8.48 8.48 0 0 1-3-3.68 14.42 14.42 0 0 1-1.15-5.9 14.55 14.55 0 0 1 1.06-5.79 8.59 8.59 0 0 1 3-3.85 7.19 7.19 0 0 1 4.34-1.34h.08a7.4 7.4 0 0 1 4.2 1.31 9 9 0 0 1 3.08 3.76 13.86 13.86 0 0 1 1.14 5.94 14.19 14.19 0 0 1-1.14 6.11m8.91-35.06a3.86 3.86 0 0 0-3.12-1.24 3.66 3.66 0 0 0-3.09 1.37 6.31 6.31 0 0 0-1.08 4v29a17.82 17.82 0 0 0-5.11-4 12.73 12.73 0 0 0-3.79-1.12 19.64 19.64 0 0 0-2.62-.17 13.62 13.62 0 0 0-10.62 4.51q-4 4.51-4 12.56a23.61 23.61 0 0 0 1 7.08 16.94 16.94 0 0 0 3 5.68 13.93 13.93 0 0 0 4.68 3.73 13.35 13.35 0 0 0 5.79 1.38 14.41 14.41 0 0 0 2.74-.25 11.43 11.43 0 0 0 1.65-.4 14.18 14.18 0 0 0 3.74-1.89 21.78 21.78 0 0 0 3.51-3.24v.82a5.28 5.28 0 0 0 1.17 3.65 4.22 4.22 0 0 0 6 .08 5.29 5.29 0 0 0 1.17-3.71v15.88a5.5 5.5 0 0 0-1.08-3.65m154.87 31.9a7.08 7.08 0 0 1 5.4-2.2 7.36 7.36 0 0 1 5.53 2.17c1.41 1.46 2.23 3.65 2.43 6.6h152.3a10.7 10.7 0 0 1 2.56-6.57m20.55 15.75a3.24 3.24 0 0 0-2.2-.72 3 3 0 0 0-1.91.55c-1.11 1-2 1.81-2.68 2.4a23.86 23.86 0 0 1-2.29 1.64 9.11 9.11 0 0 1-2.5 1.12 10.57 10.57 0 0 1-2.89.36 4.77 4.77 0 0 1-.65 0 7.92 7.92 0 0 1-3.65-1.12 8.28 8.28 0 0 1-3.1-3.34 11.58 11.58 0 0 1-1.2-5.18h17.21a12.53 12.53 0 0 0 5.37-1c1.29-.66 1.91-2.06 1.91-4.21a14.36 14.36 0 0 0-7.44-12.34 17.37 17.37 0 0 0-8.85-2.12h-.26a20.47 20.47 0 0 0-6.93 1.23 15.44 15.44 0 0 0-5.51 3.56 15.93 15.93 0 0 0-3.37 5.6 21.12 21.12 0 0 0-1.17 7.08c0 5.41 1.57 9.64 4.71 12.79 3 3 7.08 4.54 12.3 4.71h.91a20.72 20.72 0 0 0 6.56-1 16.69 16.69 0 0 0 4.74-2.37 11.41 11.41 0 0 0 2.82-3 5.44 5.44 0 0 0 1-2.7 2.5 2.5 0 0 0-.86-2m119.63 31.9a7.08 7.08 0 0 1 5.4-2.2 7.37 7.37 0 0 1 5.53 2.17c1.43 1.46 2.23 3.65 2.46 6.6h-16a11.08 11.08 0 0 1 2.57-6.57m18.37 15a3 3 0 0 0-2 .55c-1.09 1-2 1.81-2.68 2.4a23.46 23.46 0 0 1-2.26 1.64 9.25 9.25 0 0 1-2.54 1.12 10.4 10.4 0 0 1-2.88.36 4.77 4.77 0 0 1-.65 0 8 8 0 0 1-3.65-1.12 8.22 8.22 0 0 1-3.11-3.32 11.18 11.18 0 0 1-1.19-5.15h17.24a12.68 12.68 0 0 0 5.37-1c1.26-.66 1.88-2.06 1.88-4.21a14.2 14.2 0 0 0-1.83-6.93 14.36 14.36 0 0 0-5.53-5.49 17.46 17.46 0 0 0-8.85-2.12h125a20.56 20.56 0 0 0-6.93 1.23 15 15 0 0 0-5.48 3.56 15.51 15.51 0 0 0-3.4 5.6 21 21 0 0 0-1.19 7.16c0 5.41 1.59 9.64 4.74 12.79q4.45 4.47 12.27 4.71h.91a20.57 20.57 0 0 0 6.56-1 16.57 16.57 0 0 0 4.74-2.37 11 11 0 0 0 2.83-3 5.45 5.45 0 0 0 1-2.7 2.58 2.58 0 0 0-.82-2 3.36 3.36 0 0 0-2.2-.72m20.88 53v32.48c.59 0 1.17.08 1.77.08a15.42 15.42 0 0 0 7.82-2.09v53a6.1 6.1 0 0 1-1.34 4.3 4.55 4.55 0 0 1-3.46 1.42 4.45 4.45 0 0 1-3.43-1.45a6.06 6.06 0 0 1 20.88 53m95 47.28a8.15 8.15 0 0 1-3.08 3.59a7.85 7.85 0 0 1 87.69 52a7.77 7.77 0 0 1-4.26-1.26 8.31 8.31 0 0 1-3.06-3.68 14.44 14.44 0 0 1-1.11-5.94 15.14 15.14 0 0 1 1-5.79 8.63 8.63 0 0 1 3-3.85 7.1 7.1 0 0 1 4.31-1.34h.12a7.23 7.23 0 0 1 4.17 1.31 8.83 8.83 0 0 1 3.11 3.76 14.34 14.34 0 0 1 1.15 5.94 14.66 14.66 0 0 1-1.15 6.11m8.85-35.06a3.88 3.88 0 0 0-3-1.26 3.65 3.65 0 0 0-3.08 1.37 6.15 6.15 0 0 0-1.09 4v29a17.82 17.82 0 0 0-5.11-4 12.93 12.93 0 0 0-3.79-1.12 19.61 19.61 0 0 0-2.75-.12 13.57 13.57 0 0 0-10.61 4.51q-4 4.57-4 12.61a24.57 24.57 0 0 0 1 7.08 17.06 17.06 0 0 0 3 5.68a13.86 13.86 0 0 0 79 57.38a13.33 13.33 0 0 0 5.93 1.33 14.85 14.85 0 0 0 2.74-.25 11.39 11.39 0 0 0 1.65-.4 14.16 14.16 0 0 0 3.74-1.89 23 23 0 0 0 3.5-3.24v.82a5.28 5.28 0 0 0 1.17 3.65 4.15 4.15 0 0 0 5.94 0 5.28 5.28 0 0 0 1.17-3.7v15.88a5.47 5.47 0 0 0-1.06-3.65m44.57 28.5v1.06a15.71 15.71 0 0 1 5.08-4.41a14.14 14.14 0 0 1 56 23.76a13 13 0 0 1 6.22 1.48 9.41 9.41 0 0 1 4.08 4.18 9.48 9.48 0 0 1 1.14 3.43 33.93 33.93 0 0 1 .26 4.65v16a5.57 5.57 0 0 1-1.23 3.9 4 4 0 0 1-3.13 1.34 4.08 4.08 0 0 1-3.2-1.37 5.5 5.5 0 0 1-1.23-3.87v39.17a14.19 14.19 0 0 0-1.2-6.51c-.8-1.5-2.43-2.26-4.82-2.26a7.39 7.39 0 0 0-4.31 1.36 8 8 0 0 0-2.85 3.79 26.63 26.63 0 0 0-.62 7.2v10.72a5.54 5.54 0 0 1-1.25 4 4.24 4.24 0 0 1-3.2 1.28 4 4 0 0 1-3.14-1.37 5.52 5.52 0 0 1-1.23-3.87v28.64a5.16 5.16 0 0 1 37.43 25a3.8 3.8 0 0 1 3-1.23 4 4 0 0 1 2.08.53a3.79 3.79 0 0 1 44 25.91a5.62 5.62 0 0 1 .54 2.59m21 3.84c5.94-2.09 12.7-2 17.82 2.31a8.41 8.41 0 0 1 2.46 3.24c.51 1.61-1.79-.17-2.11-.39a22.84 22.84 0 0 0 34 6.43c-10-3-19.43 2.43-25.31 10.89a45.07 45.07 0 0 0-5.37 12 6.44 6.44 0 0 1-.51 1.5c-.26.48-.11-1.28-.11-1.34a36 36 0 0 1 1-5.24c6.36 15 12.35 7.41 21 3.86\\' transform=\\'translate(-2.62 -.66)\\'/%3e%3cpath style=\\'fill:%23ffffff\\' d=\\'m28.7 26.66a7.3 7.3 0 0 1-9.7-3.09 6.93 6.93 0 0 1 2.89-9.36l.28-.14a7.3 7.3 0 0 1 9.73 3.06 6.93 6.93 0 0 1-2.9 9.36l-.28.14m118.4 8.36c-1.66 1.22-3.42 2.17-4.14 2.17a1.22 1.22 0 0 1-1.19-1.25c0-.7.3-.83 1.75-1.5a16.28 16.28 0 0 0 6.09-5.38c.51-.85.66-1.08 1.24-1.08a1.33 1.33 0 0 1 1.35 1.17c0 1-1.9 3.08-2.67 3.81v7.29c0 .61-.44 1-1.21 1s-1.22-.35-1.22-1zm131.25 6.49a1.66 1.66 0 0 1-1-.48c-.7-.57-1.42-1.14-2.26-1.76a1 1 0 0 1-.51-.85 1.39 1.39 0 0 1 1.28-1.32c.41 0 .72.16 1.68.85 1.65 1.18 2.13 1.66 2.13 2.19a1.46 1.46 0 0 1-1.32 1.37zm8.5-.46a2.9 2.9 0 0 1-.63 1.34c-3.37 4.95-9.07 6.72-10.17 6.72a1.25 1.25 0 0 1-1.19-1.3v-.07c0-.92.59-1.08 1.55-1.35a14.64 14.64 0 0 0 5.76-3.17 12.46 12.46 0 0 0 2.2-2.71c.33-.53.6-.72 1-.72a1.45 1.45 0 0 1 139.76 6zm161.46 9.82a8.36 8.36 0 0 1-3.24 1.62 1.12 1.12 0 0 1-1-1.18 1 1 0 0 1 .6-.92l.86-.41a13.3 13.3 0 0 0 4.8-4.28c.44-.69.66-.88 1.11-.88a1.25 1.25 0 0 1 1.27 1.06c0 .72-1.33 2.21-2.2 3.09v5.79c0 .56-.41.88-1.11.88s-1.11-.32-1.11-.88zm171 9c-.6 0-.93-.42-.93-1.17s.33-1.18.93-1.18h11c.6 0 .93.42.93 1.18s182.65 9 182 9zm190.26 5a33.35 33.35 0 0 1 194 6.52c1.22.63 1.47.88 1.47 1.49a1.28 1.28 0 0 1-1.18 1.37 1.77 1.77 0 0 1-.82-.26 23.76 23.76 0 0 0-3.21-1.56v5.89c0 .63-.44 1-1.22 1s-1.22-.35-1.22-1v2.28c0-.63.44-1 1.22-1s1.22.35 1.22 1zm2.57-2.57c.3 0 .48.16 1 .9s.56.88.56 1.12a.82.82 0 0 1-.86.72.65.65 0 0 1-.6-.39c-.32-.48-.45-.66-.74-1.06a.92.92 0 0 1-.23-.54.85.85 0 0 1 .87-.79zm1.75-1c.3 0 .51.19 1.08 1 .39.53.53.79.53 1a.83.83 0 0 1-.88.73.64.64 0 0 1-.56-.33 12.76 12.76 0 0 0-.75-1.14.84.84 0 0 1-.25-.54.86.86 0 0 1 .87-.8zm144 4.18h6.65c.57 0 .89-.41.89-1.11a1.72 1.72 0 0 0 0-.28.93.93 0 0 0-.5-.77.74.74 0 0 0-.28-.07h-6.73c-.56 0-.89.41-.89 1.12s.33 1.11.86 1.11zm153.65.66a.74.74 0 0 0-.76.66c0 .17 0 .25.39.72a7.06 7.06 0 0 1 .41.63c.16.28.33.46.57.46a.74.74 0 0 0 .76-.7c-.02-.29-.78-1.77-1.37-1.77zm152.21 1.29a.74.74 0 0 0-.76.66c0 .17 0 .25.39.72a7.06 7.06 0 0 1 .41.63c.16.28.33.46.57.46a.74.74 0 0 0 .76-.7c-.04-.26-.78-1.77-1.37-1.77zm153.3 5.43h-11c-.57 0-.89.41-.89 1.12s.32 1.11.89 1.11h4.7c-.17 2.3-.82 3.42-2.54 4.46-.6.36-.77.6-.77 1.06a1.3 1.3 0 0 0 1.24 1.3c.77 0 2-.89 3-2.13a8.16 8.16 0 0 0 1.53-4.68h3.89c.57 0 .89-.41.89-1.11s-.37-1.13-.94-1.13z\\' transform=\\'translate(-2.62 -.66)\\'/%3e%3c/svg%3e\")!important}[dir=ltr] .gnav .gnav-logo-icon.is-employer,[dir=rtl] .gnav .gnav-logo-icon.is-employer{height:40px!important;width:90px!important}[dir=ltr] .gnav .gnav-logo-icon .icl-indeedlogo,[dir=ltr] .gnav .gnav-logo-icon .icl-indeedlogokatakana,[dir=rtl] .gnav .gnav-logo-icon .icl-indeedlogo,[dir=rtl] .gnav .gnav-logo-icon .icl-indeedlogokatakana{position:static!important}[dir=ltr] .gnav .gnav-logo-icon .icl-indeedlogokatakana--sm,[dir=rtl] .gnav .gnav-logo-icon .icl-indeedlogokatakana--sm{height:25px!important;width:88px!important}[dir=ltr] .gnav .gnav-pagelink{margin-right:1.5rem!important}[dir=ltr] .gnav .gnav-pagelink,[dir=rtl] .gnav .gnav-pagelink{font-family:helvetica neue,helvetica,arial,liberation sans,roboto,noto,sans-serif!important;font-size:.875rem!important;letter-spacing:0!important;font-weight:400!important;line-height:1.43!important;color:#6f6f6f!important;text-decoration:none!important;display:-webkit-box!important;display:-webkit-flex!important;display:flex!important;-webkit-box-align:center!important;-webkit-align-items:center!important;align-items:center!important}[dir=rtl] .gnav .gnav-pagelink{margin-left:1.5rem!important}[dir=ltr] .gnav .gnav-pagelink:last-child{margin-right:0!important}[dir=rtl] .gnav .gnav-pagelink:last-child{margin-left:0!important}[dir=ltr] .gnav .gnav-pagelink:active,[dir=ltr] .gnav .gnav-pagelink:focus,[dir=ltr] .gnav .gnav-pagelink:hover,[dir=ltr] .gnav .gnav-pagelink:visited,[dir=rtl] .gnav .gnav-pagelink:active,[dir=rtl] .gnav .gnav-pagelink:focus,[dir=rtl] .gnav .gnav-pagelink:hover,[dir=rtl] .gnav .gnav-pagelink:visited{text-decoration:none!important}[dir=ltr] .gnav .gnav-pagelink-helplink,[dir=rtl] .gnav .gnav-pagelink-helplink{font-family:helvetica neue,helvetica,arial,liberation sans,roboto,noto,sans-serif!important;font-size:.75rem!important;letter-spacing:0!important;font-weight:700!important;line-height:1.34!important}[dir=ltr] .gnav .gnav-pagelink-helplink:last-child{margin-right:1rem!important}[dir=rtl] .gnav .gnav-pagelink-helplink:last-child{margin-left:1rem!important}[dir=ltr] .gnav .gnav-pagelink-text:not(:last-child){margin-right:1rem!important}[dir=rtl] .gnav .gnav-pagelink-text:not(:last-child){margin-left:1rem!important}[dir=ltr] .gnav .gnav-pagelink-text:not(:last-child):last-child{margin-right:0!important}[dir=rtl] .gnav .gnav-pagelink-text:not(:last-child):last-child{margin-left:0!important}[dir=ltr] .gnav .gnav-pagelink:visited,[dir=rtl] .gnav .gnav-pagelink:visited{color:#6f6f6f!important}[dir=ltr] .gnav .gnav-pagelink:hover,[dir=rtl] .gnav .gnav-pagelink:hover{color:#000!important}[dir=ltr] .gnav .gnav-pagelink.is-highlighted,[dir=ltr] .gnav .gnav-pagelink:active,[dir=rtl] .gnav .gnav-pagelink.is-highlighted,[dir=rtl] .gnav .gnav-pagelink:active{color:#000!important;margin-top:2px!important}[dir=ltr] .gnav .gnav-pagelink.is-employer,[dir=rtl] .gnav .gnav-pagelink.is-employer{color:#fff!important}[dir=ltr] .gnav .gnav-pagelink.with-border,[dir=rtl] .gnav .gnav-pagelink.with-border{margin-bottom:-2px!important;border-bottom:2px solid transparent!important}[dir=ltr] .gnav .gnav-pagelink.with-border.is-employer,[dir=rtl] .gnav .gnav-pagelink.with-border.is-employer{margin-bottom:0!important}[dir=ltr] .gnav .gnav-pagelink.with-border:hover,[dir=rtl] .gnav .gnav-pagelink.with-border:hover{border-bottom-color:#1497ff!important}[dir=ltr] .gnav .gnav-pagelink.with-border.is-highlighted,[dir=ltr] .gnav .gnav-pagelink.with-border:active,[dir=rtl] .gnav .gnav-pagelink.with-border.is-highlighted,[dir=rtl] .gnav .gnav-pagelink.with-border:active{border-bottom-color:#085ff7!important}[dir=ltr] .gnav .gnav-pagelink.with-border.is-employer:hover,[dir=rtl] .gnav .gnav-pagelink.with-border.is-employer:hover{border-bottom-color:#ffdcd0!important}[dir=ltr] .gnav .gnav-pagelink.with-border.is-employer.is-highlighted,[dir=ltr] .gnav .gnav-pagelink.with-border.is-employer:active,[dir=rtl] .gnav .gnav-pagelink.with-border.is-employer.is-highlighted,[dir=rtl] .gnav .gnav-pagelink.with-border.is-employer:active{border-bottom-color:#ff946d!important}[dir=ltr] .gnav .gnav-employerhelplink,[dir=rtl] .gnav .gnav-employerhelplink{display:-webkit-box!important;display:-webkit-flex!important;display:flex!important;-webkit-box-align:stretch!important;-webkit-align-items:stretch!important;align-items:stretch!important}[dir=ltr] .gnav .gnav-employerhelplink:after{margin-right:1rem!important}[dir=ltr] .gnav .gnav-employerhelplink:after,[dir=rtl] .gnav .gnav-employerhelplink:after{content:\"|\"!important;padding:0 4px!important;color:#6f6f6f!important;font-size:26px!important;height:36px!important;-webkit-align-self:center!important;align-self:center!important}[dir=rtl] .gnav .gnav-employerhelplink:after{margin-left:1rem!important}[dir=ltr] .gnav .gnav-employerhelplink .gnav-pagelink-helplink,[dir=rtl] .gnav .gnav-employerhelplink .gnav-pagelink-helplink{display:-webkit-box!important;display:-webkit-flex!important;display:flex!important;-webkit-box-align:center!important;-webkit-align-items:center!important;align-items:center!important;-webkit-align-self:stretch!important;align-self:stretch!important}[dir=ltr] .gnav .gnav-employerhelplink>a{margin-right:.5rem!important}[dir=ltr] .gnav .gnav-employerhelplink>a,[dir=rtl] .gnav .gnav-employerhelplink>a{color:#fff!important;-webkit-align-self:center!important;align-self:center!important;font-family:helvetica neue,helvetica,arial,liberation sans,roboto,noto,sans-serif!important;font-size:.75rem!important;letter-spacing:0!important;font-weight:700!important;line-height:1.34!important}[dir=rtl] .gnav .gnav-employerhelplink>a{margin-left:.5rem!important}[dir=ltr] .gnav .icl-button--sm,[dir=rtl] .gnav .icl-button--sm{font-family:helvetica neue,helvetica,arial,liberation sans,roboto,noto,sans-serif!important;font-size:.75rem!important;letter-spacing:0!important;font-weight:700!important;line-height:1.34!important;line-height:1.5rem!important}[dir] .gnav .icl-button--sm{padding-top:.25rem!important;padding-bottom:.25rem!important}[dir=ltr] .gnav .icl-button--sm,[dir=rtl] .gnav .icl-button--sm{padding-left:1rem!important;padding-right:1rem!important}[dir=ltr] .gnav .icl-button,[dir=ltr] .gnav .icl-button--primary,[dir=rtl] .gnav .icl-button,[dir=rtl] .gnav .icl-button--primary{box-sizing:border-box!important;display:inline-block!important;color:#fff!important;-webkit-font-smoothing:antialiased!important;overflow:hidden!important;text-overflow:ellipsis!important;text-decoration:none!important;white-space:nowrap!important;-webkit-highlight:none!important;-webkit-tap-highlight-color:rgba(0,0,0,0)!important;-webkit-touch-callout:none!important;-webkit-appearance:none!important;appearance:none!important;-webkit-user-select:none!important;user-select:none!important}[dir] .gnav .icl-button,[dir] .gnav .icl-button--primary{margin:0!important;text-align:center!important;background-color:#085ff7!important;border:.125rem solid #085ff7!important;border-radius:6.25rem!important;background-repeat:repeat-x!important;cursor:pointer!important}[dir] .gnav .icl-button--primary::-moz-focus-inner,[dir] .gnav .icl-button::-moz-focus-inner{border:0!important}[dir=ltr] .gnav .icl-button--primary:disabled,[dir=ltr] .gnav .icl-button--primary:disabled:hover,[dir=ltr] .gnav .icl-button:disabled,[dir=ltr] .gnav .icl-button:disabled:hover,[dir=rtl] .gnav .icl-button--primary:disabled,[dir=rtl] .gnav .icl-button--primary:disabled:hover,[dir=rtl] .gnav .icl-button:disabled,[dir=rtl] .gnav .icl-button:disabled:hover{color:#ccc!important}[dir] .gnav .icl-button--primary:disabled,[dir] .gnav .icl-button--primary:disabled:hover,[dir] .gnav .icl-button:disabled,[dir] .gnav .icl-button:disabled:hover{cursor:default!important;background:#fff!important;border:.125rem solid #ececec!important}[dir=ltr] .gnav .icl-button--primary:visited,[dir=ltr] .gnav .icl-button:visited,[dir=rtl] .gnav .icl-button--primary:visited,[dir=rtl] .gnav .icl-button:visited{color:#fff!important}[dir=ltr] .gnav .icl-button--primary:active,[dir=ltr] .gnav .icl-button--primary:focus,[dir=ltr] .gnav .icl-button--primary:hover,[dir=ltr] .gnav .icl-button:active,[dir=ltr] .gnav .icl-button:focus,[dir=ltr] .gnav .icl-button:hover,[dir=rtl] .gnav .icl-button--primary:active,[dir=rtl] .gnav .icl-button--primary:focus,[dir=rtl] .gnav .icl-button--primary:hover,[dir=rtl] .gnav .icl-button:active,[dir=rtl] .gnav .icl-button:focus,[dir=rtl] .gnav .icl-button:hover{color:#fff!important;text-decoration:none!important}[dir] .gnav .icl-button--primary:active,[dir] .gnav .icl-button--primary:focus,[dir] .gnav .icl-button--primary:hover,[dir] .gnav .icl-button:active,[dir] .gnav .icl-button:focus,[dir] .gnav .icl-button:hover{background-color:#0044e3!important;border-color:#0044e3!important}[dir=ltr] .gnav .icl-button--primary:focus,[dir=ltr] .gnav .icl-button:focus,[dir=rtl] .gnav .icl-button--primary:focus,[dir=rtl] .gnav .icl-button:focus{-webkit-box-shadow:0 0 0 2px #fff,0 0 0 4px #085ff7!important;outline:0!important}[dir] .gnav .icl-button--primary:focus,[dir] .gnav .icl-button:focus{box-shadow:0 0 0 2px #fff,0 0 0 4px #085ff7!important;background-color:#085ff7!important;border-color:#085ff7!important}[dir=ltr] .gnav .icl-button--secondary,[dir=rtl] .gnav .icl-button--secondary{box-sizing:border-box!important;display:inline-block!important;color:#085ff7!important;-webkit-font-smoothing:antialiased!important;overflow:hidden!important;text-overflow:ellipsis!important;text-decoration:none!important;white-space:nowrap!important;-webkit-highlight:none!important;-webkit-tap-highlight-color:rgba(0,0,0,0)!important;-webkit-touch-callout:none!important;-webkit-appearance:none!important;appearance:none!important;-webkit-user-select:none!important;user-select:none!important}[dir] .gnav .icl-button--secondary{margin:0!important;text-align:center!important;background-color:#fff!important;border:.125rem solid #085ff7!important;border-radius:6.25rem!important;background-repeat:repeat-x!important;cursor:pointer!important}[dir] .gnav .icl-button--secondary::-moz-focus-inner{border:0!important}[dir=ltr] .gnav .icl-button--secondary:disabled,[dir=ltr] .gnav .icl-button--secondary:disabled:hover,[dir=rtl] .gnav .icl-button--secondary:disabled,[dir=rtl] .gnav .icl-button--secondary:disabled:hover{color:#ccc!important}[dir] .gnav .icl-button--secondary:disabled,[dir] .gnav .icl-button--secondary:disabled:hover{cursor:default!important;background:#fff!important;border:.125rem solid #ececec!important}[dir=ltr] .gnav .icl-button--secondary:visited,[dir=rtl] .gnav .icl-button--secondary:visited{color:#085ff7!important}[dir=ltr] .gnav .icl-button--secondary:active,[dir=ltr] .gnav .icl-button--secondary:focus,[dir=ltr] .gnav .icl-button--secondary:hover,[dir=rtl] .gnav .icl-button--secondary:active,[dir=rtl] .gnav .icl-button--secondary:focus,[dir=rtl] .gnav .icl-button--secondary:hover{color:#0044e3!important;text-decoration:none!important}[dir] .gnav .icl-button--secondary:active,[dir] .gnav .icl-button--secondary:focus,[dir] .gnav .icl-button--secondary:hover{background-color:#f9f9f9!important;border-color:#0044e3!important}[dir=ltr] .gnav .icl-button--secondary:focus,[dir=rtl] .gnav .icl-button--secondary:focus{-webkit-box-shadow:0 0 0 2px #fff,0 0 0 4px #085ff7!important;outline:0!important}[dir] .gnav .icl-button--secondary:focus{box-shadow:0 0 0 2px #fff,0 0 0 4px #085ff7!important}[dir=ltr] .gnav .icl-button--secondary:focus,[dir=rtl] .gnav .icl-button--secondary:focus{color:#085ff7!important}[dir] .gnav .icl-button--secondary:focus{background-color:#fff!important;border-color:#085ff7!important}[dir=ltr] .gnav .gnav-employerhiringlink,[dir=rtl] .gnav .gnav-employerhiringlink{display:-webkit-box!important;display:-webkit-flex!important;display:flex!important;-webkit-box-align:center!important;-webkit-align-items:center!important;align-items:center!important}[dir=ltr] .gnav .gnav-employerhiringlink:after{margin-right:1rem!important}[dir=ltr] .gnav .gnav-employerhiringlink:after,[dir=rtl] .gnav .gnav-employerhiringlink:after{content:\"|\"!important;padding:0 4px!important;color:#6f6f6f!important;font-size:26px!important;height:36px!important;-webkit-align-self:center!important;align-self:center!important}[dir=rtl] .gnav .gnav-employerhiringlink:after{margin-left:1rem!important}[dir=ltr] .gnav .gnav-employerhiringlink-link{margin-right:1rem!important}[dir=rtl] .gnav .gnav-employerhiringlink-link{margin-left:1rem!important}[dir=ltr] .gnav .gnav-pagelinks,[dir=rtl] .gnav .gnav-pagelinks{display:-webkit-box!important;display:-webkit-flex!important;display:flex!important;-webkit-box-pack:start!important;-webkit-justify-content:flex-start!important;justify-content:flex-start!important;-webkit-box-align:center!important;-webkit-align-items:center!important;align-items:center!important;-webkit-box-orient:horizontal!important;-webkit-box-direction:normal!important;-webkit-flex-flow:row nowrap!important;flex-flow:row nowrap!important;-webkit-box-align:stretch!important;-webkit-align-items:stretch!important;align-items:stretch!important}[dir=ltr] .gnav .gnav-pagelinks>*{margin-right:1.5rem!important}[dir=rtl] .gnav .gnav-pagelinks>*{margin-left:1.5rem!important}[dir=ltr] .gnav .gnav-pagelinks>:last-child{margin-right:0!important}[dir=rtl] .gnav .gnav-pagelinks>:last-child{margin-left:0!important}[dir=ltr] .gnav .gnav-pagelinks>*,[dir=rtl] .gnav .gnav-pagelinks>*{-webkit-box-flex:0!important;-webkit-flex:0 0 auto!important;flex:0 0 auto!important}@media (max-width:30em){[dir=ltr] .gnav .gnav-pagelinks,[dir=rtl] .gnav .gnav-pagelinks{-webkit-box-orient:horizontal!important;-webkit-box-direction:normal!important;-webkit-flex-flow:row wrap!important;flex-flow:row wrap!important}[dir=ltr] .gnav .gnav-pagelinks>*{-webkit-flex-basis:100%!important;flex-basis:100%!important;margin-right:0!important}[dir=rtl] .gnav .gnav-pagelinks>*{-webkit-flex-basis:100%!important;flex-basis:100%!important;margin-left:0!important}}[dir=ltr] .gnav .gnav-employermessagestoggle #notification-center-wrapper,[dir=rtl] .gnav .gnav-employermessagestoggle #notification-center-wrapper{position:relative!important;top:2px!important;display:-webkit-box!important;display:-webkit-flex!important;display:flex!important}[dir=ltr] .gnav .gnav-employermessagestoggle #notification-center-wrapper>div,[dir=rtl] .gnav .gnav-employermessagestoggle #notification-center-wrapper>div{display:-webkit-box!important;display:-webkit-flex!important;display:flex!important;-webkit-box-align:center!important;-webkit-align-items:center!important;align-items:center!important;-webkit-align-self:stretch!important;align-self:stretch!important}[dir=ltr] .gnav .gnav-employermessagestoggle #notification-center-wrapper #notification-center{padding-left:1rem!important;padding-right:.5rem!important}[dir=ltr] .gnav .gnav-employermessagestoggle #notification-center-wrapper #notification-center,[dir=rtl] .gnav .gnav-employermessagestoggle #notification-center-wrapper #notification-center{position:relative!important;-webkit-align-self:stretch!important;align-self:stretch!important;-webkit-box-align:center!important;-webkit-align-items:center!important;align-items:center!important;display:-webkit-box!important;display:-webkit-flex!important;display:flex!important;cursor:pointer!important;min-width:44px!important;box-sizing:border-box!important}[dir=rtl] .gnav .gnav-employermessagestoggle #notification-center-wrapper #notification-center{padding-right:1rem!important;padding-left:.5rem!important}[dir=ltr] .gnav .gnav-employermessagestoggle #notification-center-wrapper #nc-mail:before,[dir=rtl] .gnav .gnav-employermessagestoggle #notification-center-wrapper #nc-mail:before{background-image:url(\"data:image/svg+xml;charset=utf8,%3csvg xmlns=\\'http://www.w3.org/2000/svg\\' fill=\\'white\\' width=\\'24\\' height=\\'24\\' viewbox=\\'0 0 24 22\\'%3e%3cg%3e%3cpath d=\\'m14 4v0h0v10h3v4l3-2.25v18h7l6 4v-4h5v4zm6 9.25l5 10v8h2v2h10v2h6zm22 16h-5v2.26l-2.89-1.93-.5-.34h8v6h14z\\'/%3e%3cpath d=\\'m10 9h10v1h10zm10 12h10v1h10z\\'/%3e%3c/g%3e%3c/svg%3e\")!important;height:24px!important;width:24px!important}[dir=ltr] .gnav .gnav-employermessagestoggle #notification-center-wrapper a.navcontainer,[dir=rtl] .gnav .gnav-employermessagestoggle #notification-center-wrapper a.navcontainer{display:none!important}[dir=ltr] .gnav .gnav-employermessagestoggle #notification-center-wrapper #notification-center-modal_table{position:relative!important;left:-268px!important;top:63px!important}[dir=rtl] .gnav .gnav-employermessagestoggle #notification-center-wrapper #notification-center-modal_table{position:relative!important;right:-268px!important;top:63px!important}[dir=ltr] .gnav .gnav-employermessagestoggle #notification-center-wrapper #notification-center-modal_box{left:0!important;top:0!important}[dir=rtl] .gnav .gnav-employermessagestoggle #notification-center-wrapper #notification-center-modal_box{right:0!important;top:0!important}[dir=ltr] .gnav .gnav-menutoggle,[dir=rtl] .gnav .gnav-menutoggle{display:-webkit-box!important;display:-webkit-flex!important;display:flex!important;-webkit-box-align:stretch!important;-webkit-align-items:stretch!important;align-items:stretch!important}[dir=ltr] .gnav .gnav-menutoggle-menu{right:-13px!important;left:auto!important}[dir=ltr] .gnav .gnav-menutoggle-menu,[dir=rtl] .gnav .gnav-menutoggle-menu{background-color:#fff!important;display:none!important;cursor:default!important;border:1px solid #ccc!important;z-index:1000!important;box-shadow:0 0 24px 4px rgba(0,0,0,.125)!important;border-radius:0 0 .5rem .5rem!important;position:absolute!important;min-width:300px!important;top:calc(100% + 2px)!important}[dir=rtl] .gnav .gnav-menutoggle-menu{left:-13px!important;right:auto!important}[dir=ltr] .gnav .gnav-menutoggle-menu.is-showing,[dir=rtl] .gnav .gnav-menutoggle-menu.is-showing{display:block!important}[dir=ltr] .gnav .gnav-menutoggle-menu:before{right:30px!important}[dir=ltr] .gnav .gnav-menutoggle-menu:before,[dir=rtl] .gnav .gnav-menutoggle-menu:before{position:absolute!important;top:-10px!important;content:\"\"!important;width:0!important;height:0!important;border-left:10px solid transparent!important;border-right:10px solid transparent!important;border-bottom:10px solid #fff!important;z-index:2!important}[dir=rtl] .gnav .gnav-menutoggle-menu:before{left:30px!important}[dir=ltr] .gnav .gnav-menutoggle-menu:after{right:28px!important}[dir=ltr] .gnav .gnav-menutoggle-menu:after,[dir=rtl] .gnav .gnav-menutoggle-menu:after{position:absolute!important;top:-12px!important;content:\"\"!important;width:0!important;height:0!important;border-left:12px solid transparent!important;border-right:12px solid transparent!important;border-bottom:12px solid rgba(0,0,0,.025)!important;z-index:1!important}[dir=rtl] .gnav .gnav-menutoggle-menu:after{left:28px!important}[dir=ltr] .gnav .gnav-menutoggle-label,[dir=rtl] .gnav .gnav-menutoggle-label{display:-webkit-box!important;display:-webkit-flex!important;display:flex!important;-webkit-box-align:center!important;-webkit-align-items:center!important;align-items:center!important;-webkit-align-self:stretch!important;align-self:stretch!important;cursor:pointer!important}[dir=ltr] .gnav .icl-icon,[dir=rtl] .gnav .icl-icon{box-sizing:border-box!important;display:inline-block!important;vertical-align:middle!important;height:3rem!important;width:3rem!important}[dir=ltr] .gnav .icl-icon--md,[dir=rtl] .gnav .icl-icon--md{height:1.5rem!important;width:1.5rem!important}[dir=ltr] .gnav .icl-icon--sm,[dir=rtl] .gnav .icl-icon--sm{height:1.125rem!important;width:1.125rem!important}[dir=ltr] .gnav .icl-icon--left{margin-right:.2rem!important}[dir=rtl] .gnav .icl-icon--left{margin-left:.2rem!important}[dir=ltr] .gnav .icl-icon--blue,[dir=rtl] .gnav .icl-icon--blue{fill:#085ff7!important}[dir=ltr] .gnav .icl-icon--grey,[dir=rtl] .gnav .icl-icon--grey{fill:#ccc!important}[dir=ltr] .gnav .gnav-switchaccountmenu,[dir=rtl] .gnav .gnav-switchaccountmenu{padding:1rem!important}[dir=ltr] .gnav .gnav-switchaccountmenu-title,[dir=rtl] .gnav .gnav-switchaccountmenu-title{font-family:helvetica neue,helvetica,arial,liberation sans,roboto,noto,sans-serif!important;font-size:.875rem!important;letter-spacing:0!important;font-weight:700!important;line-height:1.43!important;color:#6f6f6f!important;margin:0!important}[dir=ltr] .gnav .gnav-switchaccountmenu-account,[dir=rtl] .gnav .gnav-switchaccountmenu-account{padding-top:1rem!important;padding-bottom:1rem!important;cursor:pointer!important;display:-webkit-box!important;display:-webkit-flex!important;display:flex!important}[dir=ltr] .gnav .gnav-switchaccountmenu-account+.gnav-switchaccountmenu-account,[dir=rtl] .gnav .gnav-switchaccountmenu-account+.gnav-switchaccountmenu-account{border-top:1px solid #ececec!important}[dir=ltr] .gnav .gnav-switchaccountmenu-selectindicator{margin-right:.5rem!important;width:18px!important}[dir=rtl] .gnav .gnav-switchaccountmenu-selectindicator{margin-left:.5rem!important;width:18px!important}[dir=ltr] .gnav .gnav-switchaccountmenu-company,[dir=rtl] .gnav .gnav-switchaccountmenu-company{font-family:helvetica neue,helvetica,arial,liberation sans,roboto,noto,sans-serif!important;font-size:1rem!important;letter-spacing:0!important;font-weight:700!important;line-height:1.38!important;color:#2d2d2d!important}[dir=ltr] .gnav .gnav-switchaccountmenu-email,[dir=rtl] .gnav .gnav-switchaccountmenu-email{font-family:helvetica neue,helvetica,arial,liberation sans,roboto,noto,sans-serif!important;font-size:.875rem!important;letter-spacing:0!important;font-weight:400!important;line-height:1.43!important;color:#2d2d2d!important}[dir=ltr] .gnav .gnav-switchaccounttoggle,[dir=rtl] .gnav .gnav-switchaccounttoggle{position:relative!important;display:-webkit-box!important;display:-webkit-flex!important;display:flex!important;color:#fff!important;cursor:pointer!important}[dir=ltr] .gnav .gnav-switchaccounttoggle:after{margin-right:1rem!important}[dir=ltr] .gnav .gnav-switchaccounttoggle:after,[dir=rtl] .gnav .gnav-switchaccounttoggle:after{content:\"|\"!important;padding:0 4px!important;color:#6f6f6f!important;font-size:26px!important;height:36px!important;-webkit-align-self:center!important;align-self:center!important}[dir=rtl] .gnav .gnav-switchaccounttoggle:after{margin-left:1rem!important}[dir=ltr] .gnav .gnav-switchaccounttoggle-label{margin-right:1rem!important}[dir=ltr] .gnav .gnav-switchaccounttoggle-label,[dir=rtl] .gnav .gnav-switchaccounttoggle-label{display:-webkit-box!important;display:-webkit-flex!important;display:flex!important;-webkit-box-orient:vertical!important;-webkit-box-direction:normal!important;-webkit-flex-direction:column!important;flex-direction:column!important;-webkit-box-pack:center!important;-webkit-justify-content:center!important;justify-content:center!important}[dir=rtl] .gnav .gnav-switchaccounttoggle-label{margin-left:1rem!important}[dir=ltr] .gnav .gnav-switchaccounttoggle-company,[dir=rtl] .gnav .gnav-switchaccounttoggle-company{font-family:helvetica neue,helvetica,arial,liberation sans,roboto,noto,sans-serif!important;font-size:.75rem!important;letter-spacing:0!important;font-weight:700!important;line-height:1.34!important}[dir=ltr] .gnav .gnav-switchaccounttoggle-email,[dir=rtl] .gnav .gnav-switchaccounttoggle-email{font-family:helvetica neue,helvetica,arial,liberation sans,roboto,noto,sans-serif!important;font-size:.6875rem!important;letter-spacing:0!important;font-weight:400!important;line-height:1.46!important}[dir=ltr] .gnav .gnav-switchaccounttoggle .gnav-menutoggle-menu,[dir=rtl] .gnav .gnav-switchaccounttoggle .gnav-menutoggle-menu{top:calc(100% + 16px)!important}[dir=ltr] .gnav .gnav-switchaccounttoggle .gnav-menutoggle-menu:before{right:calc(50% - 24px)!important}[dir=rtl] .gnav .gnav-switchaccounttoggle .gnav-menutoggle-menu:before{left:calc(50% - 24px)!important}[dir=ltr] .gnav .gnav-switchaccounttoggle .gnav-menutoggle-menu:after{right:calc(50% - 26px)!important}[dir=rtl] .gnav .gnav-switchaccounttoggle .gnav-menutoggle-menu:after{left:calc(50% - 26px)!important}[dir=ltr] .gnav .icl-iconfunctional,[dir=ltr] .gnav .icl-iconfunctional-label,[dir=rtl] .gnav .icl-iconfunctional,[dir=rtl] .gnav .icl-iconfunctional-label{box-sizing:border-box!important}[dir=ltr] .gnav .icl-iconfunctional,[dir=rtl] .gnav .icl-iconfunctional{display:inline-block!important;overflow:hidden!important}[dir] .gnav .icl-iconfunctional{background-repeat:no-repeat!important;background-position:50%!important}[dir=ltr] .gnav .icl-iconfunctional--md,[dir=rtl] .gnav .icl-iconfunctional--md{line-height:1.5rem!important;height:1.5rem!important;width:1.5rem!important}[dir] .gnav .icl-iconfunctional--md.icl-iconfunctional--interviews{background-image:url(\"data:image/svg+xml;charset=utf8,%3csvg xmlns=\\'http://www.w3.org/2000/svg\\' viewbox=\\'0 0 24 22\\' focusable=\\'false\\'%3e%3cg%3e%3cpath d=\\'m14 4v0h0v10h3v4l3-2.25v18h7l6 4v-4h5v4zm6 9.25l5 10v8h2v2h10v2h6zm22 16h-5v2.26l-2.89-1.93-.5-.34h8v6h14z\\'/%3e%3cpath d=\\'m10 9h10v1h10zm10 12h10v1h10z\\'/%3e%3c/g%3e%3c/svg%3e\")!important}[dir] .gnav .icl-iconfunctional--md.icl-iconfunctional--notifications{background-image:url(\"data:image/svg+xml;charset=utf8,%3csvg xmlns=\\'http://www.w3.org/2000/svg\\' viewbox=\\'0 0 18 24\\' focusable=\\'false\\'%3e%3cg fill=\\'none\\' fill-rule=\\'evenodd\\'%3e%3ccircle fill=\\'%23000\\' cx=\\'9\\' cy=\\'2\\' r=\\'2\\'/%3e%3ccircle stroke=\\'%23000\\' cx=\\'6\\' cy=\\'20\\' r=\\'1.5\\'/%3e%3cpath d=\\'m1 19h16v-8c0-4.4183-3.5817-8-8-8s-8 3.5817-8 8v8z\\' stroke=\\'%23000\\' stroke-width=\\'2\\'/%3e%3cpath fill=\\'%23000\\' d=\\'m1 15h16v1h1z\\'/%3e%3c/g%3e%3c/svg%3e\")!important}[dir] .gnav .icl-iconfunctional--md.icl-iconfunctional--profile{background-image:url(\"data:image/svg+xml;charset=utf8,%3csvg xmlns=\\'http://www.w3.org/2000/svg\\' viewbox=\\'0 0 20 22\\' focusable=\\'false\\'%3e%3cg%3e%3cpath d=\\'m10 11a5.5 5.5 0 1 0-5.5-5.5a5.5 5.5 0 0 0 10 11zm0-9a3.5 3.5 0 1 1-3.5 3.5a3.5 3.5 0 0 1 10 2zm17.86 14.85a4 4 0 0 0 14 12h6a4 4 0 0 0-3.83 2.85l0 22h20zm12.59 14l10 16.59 7.41 14zm-9.9 6l1.37-4.57a2 2 0 0 1 6 14l4 4 4-4a2 2 0 0 1 1.92 1.43l17.31 20z\\'/%3e%3c/g%3e%3c/svg%3e\")!important}[dir] .gnav .icl-iconfunctional--md.icl-iconfunctional--resume{background-image:url(\"data:image/svg+xml;charset=utf8,%3csvg xmlns=\\'http://www.w3.org/2000/svg\\' viewbox=\\'0 0 18 22\\' focusable=\\'false\\'%3e%3cg%3e%3cpath d=\\'m4 13h10v1h4zm4 16h10v1h4z\\'/%3e%3cpath d=\\'m14.63 0h0v22h18v4zm16 20h2v2h11.7l16 4.73z\\'/%3e%3cpath d=\\'m4 11h10v5h4zm1-5h8v4h5z\\'/%3e%3c/g%3e%3c/svg%3e\")!important}[dir] .gnav .icl-iconfunctional--md.icl-iconfunctional--salary{background-image:url(\"data:image/svg+xml;charset=utf8,%3csvg xmlns=\\'http://www.w3.org/2000/svg\\' viewbox=\\'0 0 22 16\\' focusable=\\'false\\'%3e%3cg%3e%3cpath d=\\'m17.14 0h0v16h22v0zm2 5.9a5 5 0 0 0 5.9 2h10.2a5 5 0 0 0 20 5.9v4.2a5 5 0 0 0-3.9 3.9h5.9a5 5 0 0 0 2 10.1zm18-1a4 4 0 0 1 17.14 2h20zm4.86 2a4 4 0 0 1 2 4.86v2zm2 14v-2.86a4 4 0 0 1 4.86 14zm15.14 0a4 4 0 0 1 20 11.14v14z\\'/%3e%3cpath d=\\'m11 12a4 4 0 1 0-4-4 4 4 0 0 0 4 4zm0-7a3 3 0 1 1-3 3 3 3 0 0 1 3-3z\\'/%3e%3c/g%3e%3c/svg%3e\")!important}[dir] .gnav .icl-iconfunctional--md.icl-iconfunctional--search{background-image:url(\"data:image/svg+xml;charset=utf8,%3csvg xmlns=\\'http://www.w3.org/2000/svg\\' viewbox=\\'0 0 22.09 22.09\\' focusable=\\'false\\'%3e%3cpath d=\\'m22.09 20.74l-5.23-5.23a9.5 9.5 0 1 0-1.35 1.35l5.23 5.23zm9.5 17a7.5 7.5 0 1 1 17 9.5 7.51 7.51 0 0 1 9.5 17z\\'/%3e%3c/svg%3e\")!important}[dir] .gnav .icl-iconfunctional--md.icl-iconfunctional--subscriptions{background-image:url(\"data:image/svg+xml;charset=utf8,%3csvg xmlns=\\'http://www.w3.org/2000/svg\\' viewbox=\\'0 0 22 16\\' focusable=\\'false\\'%3e%3cpath d=\\'m0 0v16h22v0zm18.68 2l11 7.84 3.32 2zm20 14h2v2l9 7 9-7z\\'/%3e%3c/svg%3e\")!important}[dir=ltr] .gnav .icl-iconfunctional-label,[dir=rtl] .gnav .icl-iconfunctional-label{clip:rect(0 0 0 0)!important;height:1px!important;overflow:hidden!important;position:absolute!important;width:1px!important}[dir] .gnav .icl-iconfunctional-label{border:0!important;margin:-1px!important;padding:0!important}[dir=ltr] .gnav .gnav-navicon,[dir=rtl] .gnav .gnav-navicon{position:relative!important;-webkit-align-self:stretch!important;align-self:stretch!important;-webkit-box-align:center!important;-webkit-align-items:center!important;align-items:center!important;-webkit-box-pack:center!important;-webkit-justify-content:center!important;justify-content:center!important;display:-webkit-box!important;display:-webkit-flex!important;display:flex!important;min-width:44px!important;box-sizing:border-box!important}[dir=ltr] .gnav .gnav-navicon--hasaltindicator:after,[dir=ltr] .gnav .gnav-navicon--hasindicator:after{background-color:#e03400!important;content:\"\"!important;height:9px!important;width:9px!important;border-radius:50%!important;position:absolute!important;top:-10px!important;left:19px!important}[dir=rtl] .gnav .gnav-navicon--hasaltindicator:after,[dir=rtl] .gnav .gnav-navicon--hasindicator:after{background-color:#e03400!important;content:\"\"!important;height:9px!important;width:9px!important;border-radius:50%!important;position:absolute!important;top:-10px!important;right:19px!important}[dir=ltr] .gnav .gnav-navicon-countindicator,[dir=rtl] .gnav .gnav-navicon-countindicator{background-color:#e03400!important;font-family:helvetica neue,helvetica,arial,liberation sans,roboto,noto,sans-serif!important;font-size:.875rem!important;letter-spacing:0!important;font-weight:700!important;line-height:1.43!important;box-sizing:initial!important;position:absolute!important;min-height:1.25rem!important;min-width:1.25rem!important;max-width:2rem!important;line-height:1.25rem!important;color:#fff!important;font-size:14px!important;border-radius:1.25rem!important;text-align:center!important}[dir=ltr] .gnav .gnav-navicon-countindicator--withpadding,[dir=rtl] .gnav .gnav-navicon-countindicator--withpadding{padding-left:.125rem!important;padding-right:.125rem!important}[dir=ltr] .gnav .gnav-mobileheader .gnav-navicon-countindicator{top:6px!important;left:26px!important}[dir=rtl] .gnav .gnav-mobileheader .gnav-navicon-countindicator{top:6px!important;right:26px!important}[dir=ltr] .gnav .gnav-mobileheader .gnav-navicon--hasaltindicator:after,[dir=ltr] .gnav .gnav-mobileheader .gnav-navicon--hasindicator:after{top:12px!important;left:26px!important}[dir=rtl] .gnav .gnav-mobileheader .gnav-navicon--hasaltindicator:after,[dir=rtl] .gnav .gnav-mobileheader .gnav-navicon--hasindicator:after{top:12px!important;right:26px!important}[dir=ltr] .gnav .gnav-desktopheader .gnav-navicon,[dir=rtl] .gnav .gnav-desktopheader .gnav-navicon{padding-left:1rem!important;padding-right:1rem!important}[dir=ltr] .gnav .gnav-desktopheader .gnav-navicon-countindicator{top:16px!important;left:32px!important}[dir=rtl] .gnav .gnav-desktopheader .gnav-navicon-countindicator{top:16px!important;right:32px!important}[dir=ltr] .gnav .gnav-desktopheader .gnav-navicon--hasaltindicator:after,[dir=ltr] .gnav .gnav-desktopheader .gnav-navicon--hasindicator:after{top:20px!important;left:32px!important}[dir=rtl] .gnav .gnav-desktopheader .gnav-navicon--hasaltindicator:after,[dir=rtl] .gnav .gnav-desktopheader .gnav-navicon--hasindicator:after{top:20px!important;right:32px!important}[dir=ltr] .gnav .gnav-desktopheader.is-small-header .gnav-navicon-countindicator{top:6px!important;left:32px!important}[dir=rtl] .gnav .gnav-desktopheader.is-small-header .gnav-navicon-countindicator{top:6px!important;right:32px!important}[dir=ltr] .gnav .gnav-desktopheader.is-small-header .gnav-navicon--hasaltindicator:after,[dir=ltr] .gnav .gnav-desktopheader.is-small-header .gnav-navicon--hasindicator:after{top:10px!important;left:32px!important}[dir=rtl] .gnav .gnav-desktopheader.is-small-header .gnav-navicon--hasaltindicator:after,[dir=rtl] .gnav .gnav-desktopheader.is-small-header .gnav-navicon--hasindicator:after{top:10px!important;right:32px!important}[dir=ltr] .gnav .gnav-accountmenulinks,[dir=rtl] .gnav .gnav-accountmenulinks{font-family:helvetica neue,helvetica,arial,liberation sans,roboto,noto,sans-serif!important;font-size:1rem!important;letter-spacing:0!important;font-weight:400!important;line-height:1.38!important;width:375px!important;display:-webkit-box!important;display:-webkit-flex!important;display:flex!important;-webkit-box-orient:vertical!important;-webkit-box-direction:normal!important;-webkit-flex-direction:column!important;flex-direction:column!important;padding-top:1rem!important}[dir=ltr] .gnav .gnav-accountmenulinks-link,[dir=rtl] .gnav .gnav-accountmenulinks-link{padding-left:1.5rem!important;padding-right:1.5rem!important;margin-bottom:.5rem!important;text-decoration:none!important;color:#000!important;display:-webkit-box!important;display:-webkit-flex!important;display:flex!important;-webkit-box-pack:start!important;-webkit-justify-content:flex-start!important;justify-content:flex-start!important;-webkit-box-align:center!important;-webkit-align-items:center!important;align-items:center!important;-webkit-box-orient:horizontal!important;-webkit-box-direction:normal!important;-webkit-flex-flow:row nowrap!important;flex-flow:row nowrap!important;border-top:none!important;line-height:44px!important}[dir=ltr] .gnav .gnav-accountmenulinks-link:active,[dir=ltr] .gnav .gnav-accountmenulinks-link:focus,[dir=ltr] .gnav .gnav-accountmenulinks-link:hover,[dir=ltr] .gnav .gnav-accountmenulinks-link:visited,[dir=rtl] .gnav .gnav-accountmenulinks-link:active,[dir=rtl] .gnav .gnav-accountmenulinks-link:focus,[dir=rtl] .gnav .gnav-accountmenulinks-link:hover,[dir=rtl] .gnav .gnav-accountmenulinks-link:visited{text-decoration:none!important}[dir=ltr] .gnav .gnav-accountmenulinks-link>*{margin-right:0!important}[dir=rtl] .gnav .gnav-accountmenulinks-link>*{margin-left:0!important}[dir=ltr] .gnav .gnav-accountmenulinks-link>:last-child{margin-right:0!important}[dir=rtl] .gnav .gnav-accountmenulinks-link>:last-child{margin-left:0!important}[dir=ltr] .gnav .gnav-accountmenulinks-link>*,[dir=rtl] .gnav .gnav-accountmenulinks-link>*{-webkit-box-flex:0!important;-webkit-flex:0 0 auto!important;flex:0 0 auto!important}@media (max-width:30em){[dir=ltr] .gnav .gnav-accountmenulinks-link,[dir=rtl] .gnav .gnav-accountmenulinks-link{-webkit-box-orient:horizontal!important;-webkit-box-direction:normal!important;-webkit-flex-flow:row wrap!important;flex-flow:row wrap!important}[dir=ltr] .gnav .gnav-accountmenulinks-link>*{-webkit-flex-basis:100%!important;flex-basis:100%!important;margin-right:0!important}[dir=rtl] .gnav .gnav-accountmenulinks-link>*{-webkit-flex-basis:100%!important;flex-basis:100%!important;margin-left:0!important}}[dir=ltr] .gnav .gnav-accountmenulinks-link>:nth-child(2){margin-left:auto!important}[dir=rtl] .gnav .gnav-accountmenulinks-link>:nth-child(2){margin-right:auto!important}[dir=ltr] .gnav .gnav-accountmenulinks-link:hover,[dir=rtl] .gnav .gnav-accountmenulinks-link:hover{background-color:#ececec!important}[dir=ltr] .gnav .gnav-accountmenulinks-linkicon,[dir=rtl] .gnav .gnav-accountmenulinks-linkicon{display:-webkit-box!important;display:-webkit-flex!important;display:flex!important;-webkit-box-pack:start!important;-webkit-justify-content:flex-start!important;justify-content:flex-start!important;-webkit-box-align:center!important;-webkit-align-items:center!important;align-items:center!important;-webkit-box-orient:horizontal!important;-webkit-box-direction:normal!important;-webkit-flex-flow:row nowrap!important;flex-flow:row nowrap!important}[dir=ltr] .gnav .gnav-accountmenulinks-linkicon>*{margin-right:0!important}[dir=rtl] .gnav .gnav-accountmenulinks-linkicon>*{margin-left:0!important}[dir=ltr] .gnav .gnav-accountmenulinks-linkicon>:last-child{margin-right:0!important}[dir=rtl] .gnav .gnav-accountmenulinks-linkicon>:last-child{margin-left:0!important}[dir=ltr] .gnav .gnav-accountmenulinks-linkicon>*,[dir=rtl] .gnav .gnav-accountmenulinks-linkicon>*{-webkit-box-flex:0!important;-webkit-flex:0 0 auto!important;flex:0 0 auto!important}@media (max-width:30em){[dir=ltr] .gnav .gnav-accountmenulinks-linkicon,[dir=rtl] .gnav .gnav-accountmenulinks-linkicon{-webkit-box-orient:horizontal!important;-webkit-box-direction:normal!important;-webkit-flex-flow:row wrap!important;flex-flow:row wrap!important}[dir=ltr] .gnav .gnav-accountmenulinks-linkicon>*{-webkit-flex-basis:100%!important;flex-basis:100%!important;margin-right:0!important}[dir=rtl] .gnav .gnav-accountmenulinks-linkicon>*{-webkit-flex-basis:100%!important;flex-basis:100%!important;margin-left:0!important}}[dir=ltr] .gnav .gnav-accountmenulinks-linkicon>:nth-child(2){margin-left:auto!important}[dir=rtl] .gnav .gnav-accountmenulinks-linkicon>:nth-child(2){margin-right:auto!important}[dir=ltr] .gnav .gnav-accountmenulinks.is-employer .gnav-accountmenulinks-section,[dir=rtl] .gnav .gnav-accountmenulinks.is-employer .gnav-accountmenulinks-section{padding:.5rem 0!important;display:-webkit-box!important;display:-webkit-flex!important;display:flex!important;-webkit-box-orient:vertical!important;-webkit-box-direction:normal!important;-webkit-flex-direction:column!important;flex-direction:column!important}[dir=ltr] .gnav .gnav-accountmenulinks.is-employer .gnav-accountmenulinks-section+.gnav-accountmenulinks-section,[dir=rtl] .gnav .gnav-accountmenulinks.is-employer .gnav-accountmenulinks-section+.gnav-accountmenulinks-section{border-top:1px solid #ececec!important}[dir=ltr] .gnav .gnav-accountmenulinks.is-employer .gnav-accountmenulinks-section .gnav-accountmenulinks-sectiontitle,[dir=rtl] .gnav .gnav-accountmenulinks.is-employer .gnav-accountmenulinks-section .gnav-accountmenulinks-sectiontitle{padding-left:1.5rem!important;padding-right:1.5rem!important;margin-bottom:1rem!important;font-family:helvetica neue,helvetica,arial,liberation sans,roboto,noto,sans-serif!important;font-size:1rem!important;letter-spacing:0!important;font-weight:700!important;line-height:1.38!important;color:#6f6f6f!important}[dir=ltr] .gnav .gnav-accountmenulinks.is-employer .gnav-accountmenulinks-section:not(:first-child),[dir=rtl] .gnav .gnav-accountmenulinks.is-employer .gnav-accountmenulinks-section:not(:first-child){padding-top:1.5rem!important}[dir=ltr] .gnav .gnav-accountmenu-user,[dir=rtl] .gnav .gnav-accountmenu-user{font-family:helvetica neue,helvetica,arial,liberation sans,roboto,noto,sans-serif!important;font-size:1rem!important;letter-spacing:0!important;font-weight:700!important;line-height:1.38!important;padding:2rem 1.5rem 1rem!important;margin:0!important}[dir=ltr] .gnav .gnav-accountmenu-signout,[dir=ltr] .gnav .gnav-accountmenu-varianttoggle,[dir=rtl] .gnav .gnav-accountmenu-signout,[dir=rtl] .gnav .gnav-accountmenu-varianttoggle{color:#085ff7!important;font-family:helvetica neue,helvetica,arial,liberation sans,roboto,noto,sans-serif!important;font-size:1rem!important;letter-spacing:0!important;font-weight:400!important;line-height:1.38!important;padding:1rem!important;text-decoration:none!important;border-top:1px solid #ececec!important;text-align:center!important;display:block!important}[dir=ltr] .gnav .gnav-accountmenu-signout:active,[dir=ltr] .gnav .gnav-accountmenu-signout:focus,[dir=ltr] .gnav .gnav-accountmenu-signout:hover,[dir=ltr] .gnav .gnav-accountmenu-signout:visited,[dir=ltr] .gnav .gnav-accountmenu-varianttoggle:active,[dir=ltr] .gnav .gnav-accountmenu-varianttoggle:focus,[dir=ltr] .gnav .gnav-accountmenu-varianttoggle:hover,[dir=ltr] .gnav .gnav-accountmenu-varianttoggle:visited,[dir=rtl] .gnav .gnav-accountmenu-signout:active,[dir=rtl] .gnav .gnav-accountmenu-signout:focus,[dir=rtl] .gnav .gnav-accountmenu-signout:hover,[dir=rtl] .gnav .gnav-accountmenu-signout:visited,[dir=rtl] .gnav .gnav-accountmenu-varianttoggle:active,[dir=rtl] .gnav .gnav-accountmenu-varianttoggle:focus,[dir=rtl] .gnav .gnav-accountmenu-varianttoggle:hover,[dir=rtl] .gnav .gnav-accountmenu-varianttoggle:visited{text-decoration:none!important}[dir=ltr] .gnav .gnav-accountmenu-signout:focus,[dir=ltr] .gnav .gnav-accountmenu-signout:hover,[dir=ltr] .gnav .gnav-accountmenu-varianttoggle:focus,[dir=ltr] .gnav .gnav-accountmenu-varianttoggle:hover,[dir=rtl] .gnav .gnav-accountmenu-signout:focus,[dir=rtl] .gnav .gnav-accountmenu-signout:hover,[dir=rtl] .gnav .gnav-accountmenu-varianttoggle:focus,[dir=rtl] .gnav .gnav-accountmenu-varianttoggle:hover{color:#1497ff!important}[dir=ltr] .gnav .gnav-accountmenu-useremail,[dir=rtl] .gnav .gnav-accountmenu-useremail{margin-top:0!important;margin-bottom:-20px!important}[dir=ltr] .gnav .gnav-accounttoggle,[dir=rtl] .gnav .gnav-accounttoggle{position:relative!important}[dir=ltr] .gnav .gnav-accounttoggle.is-employer .gnav-menutoggle-label>svg,[dir=rtl] .gnav .gnav-accounttoggle.is-employer .gnav-menutoggle-label>svg{fill:#fff!important}[dir=ltr] .gnav .gnav-accountswitcherlist,[dir=rtl] .gnav .gnav-accountswitcherlist{padding:1rem 1.5rem!important;display:-webkit-box!important;display:-webkit-flex!important;display:flex!important;-webkit-box-orient:vertical!important;-webkit-box-direction:normal!important;-webkit-flex-flow:column!important;flex-flow:column!important}[dir=ltr] .gnav .gnav-accountswitcherlist-heading,[dir=rtl] .gnav .gnav-accountswitcherlist-heading{font-family:helvetica neue,helvetica,arial,liberation sans,roboto,noto,sans-serif!important;font-size:1rem!important;letter-spacing:0!important;font-weight:700!important;line-height:1.38!important;padding-top:1rem!important;padding-bottom:.5rem!important;color:#6f6f6f!important}[dir=ltr] .gnav .gnav-accountswitcherlist-item,[dir=rtl] .gnav .gnav-accountswitcherlist-item{font-size:.9rem!important;padding:1rem 1.5rem!important;text-decoration:none!important;color:#000!important}[dir=ltr] .gnav .gnav-accountswitcherlist-item:active,[dir=ltr] .gnav .gnav-accountswitcherlist-item:focus,[dir=ltr] .gnav .gnav-accountswitcherlist-item:hover,[dir=ltr] .gnav .gnav-accountswitcherlist-item:visited,[dir=rtl] .gnav .gnav-accountswitcherlist-item:active,[dir=rtl] .gnav .gnav-accountswitcherlist-item:focus,[dir=rtl] .gnav .gnav-accountswitcherlist-item:hover,[dir=rtl] .gnav .gnav-accountswitcherlist-item:visited{text-decoration:none!important}[dir=ltr] .gnav .gnav-accountswitcherlist-item:focus,[dir=ltr] .gnav .gnav-accountswitcherlist-item:hover,[dir=rtl] .gnav .gnav-accountswitcherlist-item:focus,[dir=rtl] .gnav .gnav-accountswitcherlist-item:hover{background-color:#ececec!important}[dir=ltr] .gnav .gnav-accountswitcherlist-item:not(:last-child),[dir=rtl] .gnav .gnav-accountswitcherlist-item:not(:last-child){border-bottom:1px solid #ececec!important}[dir=ltr] .gnav .gnav-accountswitcherlist-selected{position:absolute!important;left:1.5rem!important}[dir=rtl] .gnav .gnav-accountswitcherlist-selected{position:absolute!important;right:1.5rem!important}[dir=ltr] .gnav .gnav-accountswitcherlist-companyname,[dir=rtl] .gnav .gnav-accountswitcherlist-companyname{font-family:helvetica neue,helvetica,arial,liberation sans,roboto,noto,sans-serif!important;font-size:1rem!important;letter-spacing:0!important;font-weight:700!important;line-height:1.38!important}[dir=ltr] .gnav .gnav-accountswitcherlist-email,[dir=rtl] .gnav .gnav-accountswitcherlist-email{font-family:helvetica neue,helvetica,arial,liberation sans,roboto,noto,sans-serif!important;font-size:.75rem!important;letter-spacing:0!important;font-weight:400!important;line-height:1.34!important}[dir=ltr] .gnav .gnav-accountswitcher:after{margin-right:1rem!important}[dir=ltr] .gnav .gnav-accountswitcher:after,[dir=rtl] .gnav .gnav-accountswitcher:after{content:\"|\"!important;padding:0 4px!important;color:#6f6f6f!important;font-size:26px!important;height:36px!important;-webkit-align-self:center!important;align-self:center!important}[dir=rtl] .gnav .gnav-accountswitcher:after{margin-left:1rem!important}[dir=ltr] .gnav .gnav-accountswitcher-companyname{padding-right:1rem!important}[dir=ltr] .gnav .gnav-accountswitcher-companyname,[dir=rtl] .gnav .gnav-accountswitcher-companyname{color:#fff!important;font-family:helvetica neue,helvetica,arial,liberation sans,roboto,noto,sans-serif!important;font-size:.75rem!important;letter-spacing:0!important;font-weight:700!important;line-height:1.34!important}[dir=rtl] .gnav .gnav-accountswitcher-companyname{padding-left:1rem!important}[dir=ltr] .gnav .gnav-accountswitcher-text{padding-right:1rem!important}[dir=ltr] .gnav .gnav-accountswitcher-text,[dir=rtl] .gnav .gnav-accountswitcher-text{color:#fff!important;font-family:helvetica neue,helvetica,arial,liberation sans,roboto,noto,sans-serif!important;font-size:.625rem!important;letter-spacing:0!important;font-weight:400!important;line-height:1.4!important}[dir=rtl] .gnav .gnav-accountswitcher-text{padding-left:1rem!important}[dir=ltr] .gnav .gnav-accountswitcher>.gnav-menutoggle-label,[dir=rtl] .gnav .gnav-accountswitcher>.gnav-menutoggle-label{-webkit-box-orient:vertical!important;-webkit-box-direction:normal!important;-webkit-flex-direction:column!important;flex-direction:column!important;-webkit-box-align:start!important;-webkit-align-items:flex-start!important;align-items:flex-start!important}[dir=ltr] .gnav .gnav-accountswitcher>.gnav-menutoggle-menu{right:164px!important;top:100%!important}[dir=rtl] .gnav .gnav-accountswitcher>.gnav-menutoggle-menu{left:164px!important;top:100%!important}[dir=ltr] .gnav .gnav-profilenavlinks,[dir=rtl] .gnav .gnav-profilenavlinks{display:-webkit-box!important;display:-webkit-flex!important;display:flex!important;-webkit-box-pack:start!important;-webkit-justify-content:flex-start!important;justify-content:flex-start!important;-webkit-box-align:center!important;-webkit-align-items:center!important;align-items:center!important;-webkit-box-orient:horizontal!important;-webkit-box-direction:normal!important;-webkit-flex-flow:row nowrap!important;flex-flow:row nowrap!important}[dir=ltr] .gnav .gnav-profilenavlinks>*{margin-right:0!important}[dir=rtl] .gnav .gnav-profilenavlinks>*{margin-left:0!important}[dir=ltr] .gnav .gnav-profilenavlinks>:last-child{margin-right:0!important}[dir=rtl] .gnav .gnav-profilenavlinks>:last-child{margin-left:0!important}[dir=ltr] .gnav .gnav-profilenavlinks>*,[dir=rtl] .gnav .gnav-profilenavlinks>*{-webkit-box-flex:0!important;-webkit-flex:0 0 auto!important;flex:0 0 auto!important}@media (max-width:30em){[dir=ltr] .gnav .gnav-profilenavlinks,[dir=rtl] .gnav .gnav-profilenavlinks{-webkit-box-orient:horizontal!important;-webkit-box-direction:normal!important;-webkit-flex-flow:row wrap!important;flex-flow:row wrap!important}[dir=ltr] .gnav .gnav-profilenavlinks>*{-webkit-flex-basis:100%!important;flex-basis:100%!important;margin-right:0!important}[dir=rtl] .gnav .gnav-profilenavlinks>*{-webkit-flex-basis:100%!important;flex-basis:100%!important;margin-left:0!important}}[dir=ltr] .gnav .gnav-profilenavlinks-link,[dir=rtl] .gnav .gnav-profilenavlinks-link{display:-webkit-box!important;display:-webkit-flex!important;display:flex!important;-webkit-box-align:stretch!important;-webkit-align-items:stretch!important;align-items:stretch!important;-webkit-align-self:stretch!important;align-self:stretch!important}[dir=ltr] .gnav .gnav-profilenavlinks-link.with-border,[dir=rtl] .gnav .gnav-profilenavlinks-link.with-border{margin-bottom:-2px!important;border-bottom:2px solid transparent!important}[dir=ltr] .gnav .gnav-profilenavlinks-link.with-border.is-employer,[dir=rtl] .gnav .gnav-profilenavlinks-link.with-border.is-employer{margin-bottom:0!important}[dir=ltr] .gnav .gnav-profilenavlinks-link.with-border:hover,[dir=rtl] .gnav .gnav-profilenavlinks-link.with-border:hover{border-bottom-color:#1497ff!important}[dir=ltr] .gnav .gnav-profilenavlinks-link.with-border.is-highlighted,[dir=ltr] .gnav .gnav-profilenavlinks-link.with-border:active,[dir=rtl] .gnav .gnav-profilenavlinks-link.with-border.is-highlighted,[dir=rtl] .gnav .gnav-profilenavlinks-link.with-border:active{border-bottom-color:#085ff7!important}[dir=ltr] .gnav .gnav-profilenavlinks-link.with-border.is-employer:hover,[dir=rtl] .gnav .gnav-profilenavlinks-link.with-border.is-employer:hover{border-bottom-color:#ffdcd0!important}[dir=ltr] .gnav .gnav-profilenavlinks-link.with-border.is-employer.is-highlighted,[dir=ltr] .gnav .gnav-profilenavlinks-link.with-border.is-employer:active,[dir=rtl] .gnav .gnav-profilenavlinks-link.with-border.is-employer.is-highlighted,[dir=rtl] .gnav .gnav-profilenavlinks-link.with-border.is-employer:active{border-bottom-color:#ff946d!important}[dir=ltr] .gnav .gnav-profilenavlinks-link:not(.placeholder),[dir=rtl] .gnav .gnav-profilenavlinks-link:not(.placeholder){min-width:44px!important}[dir=ltr] .gnav .gnav-loggedoutaccountlink,[dir=rtl] .gnav .gnav-loggedoutaccountlink{-webkit-align-self:center!important;align-self:center!important;display:-webkit-box!important;display:-webkit-flex!important;display:flex!important;-webkit-box-align:center!important;-webkit-align-items:center!important;align-items:center!important;margin-left:.25rem!important;margin-right:.25rem!important}[dir=ltr] .gnav .gnav-loggedoutaccountlink>.gnav-loggedoutaccountlink-signin{margin-right:1rem!important}[dir=rtl] .gnav .gnav-loggedoutaccountlink>.gnav-loggedoutaccountlink-signin{margin-left:1rem!important}[dir=ltr] .gnav .gnav-loggedoutaccountlink.with-separator:after{margin-right:1rem!important}[dir=ltr] .gnav .gnav-loggedoutaccountlink.with-separator:after,[dir=rtl] .gnav .gnav-loggedoutaccountlink.with-separator:after{content:\"|\"!important;padding:0 4px!important;color:#6f6f6f!important;font-size:26px!important;height:36px!important;-webkit-align-self:center!important;align-self:center!important}[dir=rtl] .gnav .gnav-loggedoutaccountlink.with-separator:after{margin-left:1rem!important}[dir=ltr] .gnav .gnav-loggedoutaccountlink-signinicon+.gnav-loggedoutaccountlink-text{margin-left:.25rem!important}[dir=rtl] .gnav .gnav-loggedoutaccountlink-signinicon+.gnav-loggedoutaccountlink-text{margin-right:.25rem!important}[dir=ltr] .gnav .gnav-loggedoutaccountlink-signinicon,[dir=rtl] .gnav .gnav-loggedoutaccountlink-signinicon{position:relative!important;top:2px!important}@media (max-width:370px){[dir=ltr] .gnav .gnav-loggedoutaccountlink-signinicon,[dir=rtl] .gnav .gnav-loggedoutaccountlink-signinicon{display:none!important}}[dir=ltr] .gnav .gnav-varianttogglelink-forjobseekers,[dir=rtl] .gnav .gnav-varianttogglelink-forjobseekers{display:-webkit-box!important;display:-webkit-flex!important;display:flex!important}[dir=ltr] .gnav .gnav-varianttogglelink-forjobseekers .gnav-pagelink,[dir=rtl] .gnav .gnav-varianttogglelink-forjobseekers .gnav-pagelink{font-family:helvetica neue,helvetica,arial,liberation sans,roboto,noto,sans-serif!important;font-size:.75rem!important;letter-spacing:0!important;font-weight:700!important;line-height:1.34!important}[dir=ltr] .gnav .gnav-varianttogglelink-foremployers,[dir=rtl] .gnav .gnav-varianttogglelink-foremployers{display:-webkit-box!important;display:-webkit-flex!important;display:flex!important}[dir=ltr] .gnav .gnav-varianttogglelink-foremployers:before{margin-right:1rem!important}[dir=ltr] .gnav .gnav-varianttogglelink-foremployers:before,[dir=rtl] .gnav .gnav-varianttogglelink-foremployers:before{content:\"|\"!important;padding:0 4px!important;color:#ececec!important;font-size:26px!important;height:36px!important;-webkit-align-self:center!important;align-self:center!important}[dir=rtl] .gnav .gnav-varianttogglelink-foremployers:before{margin-left:1rem!important}[dir=ltr] .gnav .gnav-languageswitcher,[dir=rtl] .gnav .gnav-languageswitcher{display:-webkit-box!important;display:-webkit-flex!important;display:flex!important;-webkit-box-align:center!important;-webkit-align-items:center!important;align-items:center!important}[dir=ltr] .gnav .gnav-languageswitcher:before,[dir=rtl] .gnav .gnav-languageswitcher:before{content:\"|\"!important;padding:0 4px!important;color:#ececec!important;font-size:26px!important;height:36px!important;-webkit-align-self:center!important;align-self:center!important}[dir=ltr] .gnav .gnav-languageswitcher-item,[dir=rtl] .gnav .gnav-languageswitcher-item{display:-webkit-box!important;display:-webkit-flex!important;display:flex!important;-webkit-box-align:center!important;-webkit-align-items:center!important;align-items:center!important;padding:.25rem .5rem!important;font-family:helvetica neue,helvetica,arial,liberation sans,roboto,noto,sans-serif!important;font-size:.875rem!important;letter-spacing:0!important;font-weight:400!important;line-height:1.43!important;color:#6f6f6f!important}[dir=ltr] .gnav .gnav-languageswitcher-item:first-child{margin-left:8px!important}[dir=ltr] .gnav .gnav-languageswitcher-item:last-child,[dir=rtl] .gnav .gnav-languageswitcher-item:first-child{margin-right:8px!important}[dir=rtl] .gnav .gnav-languageswitcher-item:last-child{margin-left:8px!important}[dir=ltr] .gnav .gnav-languageswitcher-item.is-selected,[dir=rtl] .gnav .gnav-languageswitcher-item.is-selected{cursor:default!important;border-radius:2px!important;background-color:#ececec!important;color:#2d2d2d!important;font-family:helvetica neue,helvetica,arial,liberation sans,roboto,noto,sans-serif!important;font-size:.875rem!important;letter-spacing:0!important;font-weight:700!important;line-height:1.43!important}[dir=ltr] .gnav .gnav-languageswitcher-item:not(.is-selected),[dir=rtl] .gnav .gnav-languageswitcher-item:not(.is-selected){cursor:pointer!important}[dir=ltr] .gnav .gnav-languageswitcher-item:not(.is-selected):hover,[dir=rtl] .gnav .gnav-languageswitcher-item:not(.is-selected):hover{color:#2d2d2d!important;text-decoration:underline!important}[dir=ltr] .gnav .gnav-desktopheader,[dir=rtl] .gnav .gnav-desktopheader{min-height:64px!important;display:-webkit-box!important;display:-webkit-flex!important;display:flex!important;-webkit-box-pack:start!important;-webkit-justify-content:flex-start!important;justify-content:flex-start!important;-webkit-box-align:center!important;-webkit-align-items:center!important;align-items:center!important;-webkit-box-orient:horizontal!important;-webkit-box-direction:normal!important;-webkit-flex-flow:row nowrap!important;flex-flow:row nowrap!important;-webkit-box-align:stretch!important;-webkit-align-items:stretch!important;align-items:stretch!important;padding-left:2rem!important;padding-right:2rem!important;border-bottom:2px solid!important;border-color:#ececec!important;background-color:#fff!important;z-index:101!important;position:relative!important;font-size:1rem!important}[dir=ltr] .gnav .gnav-desktopheader.is-small-header,[dir=rtl] .gnav .gnav-desktopheader.is-small-header{min-height:44px!important}[dir=ltr] .gnav .gnav-desktopheader.is-small-header .gnav-logo,[dir=rtl] .gnav .gnav-desktopheader.is-small-header .gnav-logo{position:relative!important;top:-2px!important}[dir=ltr] .gnav .gnav-desktopheader.is-small-header .gnav-loggedoutaccountlink-signin,[dir=rtl] .gnav .gnav-desktopheader.is-small-header .gnav-loggedoutaccountlink-signin{color:#085ff7!important;font-weight:700!important}[dir=ltr] .gnav .gnav-desktopheader>*{margin-right:1.5rem!important}[dir=rtl] .gnav .gnav-desktopheader>*{margin-left:1.5rem!important}[dir=ltr] .gnav .gnav-desktopheader>:last-child{margin-right:0!important}[dir=rtl] .gnav .gnav-desktopheader>:last-child{margin-left:0!important}[dir=ltr] .gnav .gnav-desktopheader>*,[dir=rtl] .gnav .gnav-desktopheader>*{-webkit-box-flex:0!important;-webkit-flex:0 0 auto!important;flex:0 0 auto!important}@media (max-width:30em){[dir=ltr] .gnav .gnav-desktopheader,[dir=rtl] .gnav .gnav-desktopheader{-webkit-box-orient:horizontal!important;-webkit-box-direction:normal!important;-webkit-flex-flow:row wrap!important;flex-flow:row wrap!important}[dir=ltr] .gnav .gnav-desktopheader>*{-webkit-flex-basis:100%!important;flex-basis:100%!important;margin-right:0!important}[dir=rtl] .gnav .gnav-desktopheader>*{-webkit-flex-basis:100%!important;flex-basis:100%!important;margin-left:0!important}}[dir=ltr] .gnav .gnav-desktopheader>:nth-child(3){margin-left:auto!important}[dir=rtl] .gnav .gnav-desktopheader>:nth-child(3){margin-right:auto!important}[dir=ltr] .gnav .gnav-desktopheader.is-employer,[dir=rtl] .gnav .gnav-desktopheader.is-employer{border-color:#fff!important;background-color:#2d2d2d!important}[dir=ltr] .gnav .gnav-desktopheader-logo{margin-right:1.5rem!important}[dir=ltr] .gnav .gnav-desktopheader-logo,[dir=rtl] .gnav .gnav-desktopheader-logo{-webkit-align-self:center!important;align-self:center!important;display:-webkit-box!important;display:-webkit-flex!important;display:flex!important}[dir=rtl] .gnav .gnav-desktopheader-logo{margin-left:1.5rem!important}[dir=ltr] .gnav .gnav-desktopheader-secondarylinks{margin-left:auto!important}[dir=ltr] .gnav .gnav-desktopheader-secondarylinks,[dir=rtl] .gnav .gnav-desktopheader-secondarylinks{display:-webkit-box!important;display:-webkit-flex!important;display:flex!important;-webkit-box-pack:start!important;-webkit-justify-content:flex-start!important;justify-content:flex-start!important;-webkit-box-align:center!important;-webkit-align-items:center!important;align-items:center!important;-webkit-box-orient:horizontal!important;-webkit-box-direction:normal!important;-webkit-flex-flow:row nowrap!important;flex-flow:row nowrap!important;-webkit-box-align:stretch!important;-webkit-align-items:stretch!important;align-items:stretch!important}[dir=rtl] .gnav .gnav-desktopheader-secondarylinks{margin-right:auto!important}[dir=ltr] .gnav .gnav-desktopheader-secondarylinks>*{margin-right:0!important}[dir=rtl] .gnav .gnav-desktopheader-secondarylinks>*{margin-left:0!important}[dir=ltr] .gnav .gnav-desktopheader-secondarylinks>:last-child{margin-right:0!important}[dir=rtl] .gnav .gnav-desktopheader-secondarylinks>:last-child{margin-left:0!important}[dir=ltr] .gnav .gnav-desktopheader-secondarylinks>*,[dir=rtl] .gnav .gnav-desktopheader-secondarylinks>*{-webkit-box-flex:0!important;-webkit-flex:0 0 auto!important;flex:0 0 auto!important}@media (max-width:30em){[dir=ltr] .gnav .gnav-desktopheader-secondarylinks,[dir=rtl] .gnav .gnav-desktopheader-secondarylinks{-webkit-box-orient:horizontal!important;-webkit-box-direction:normal!important;-webkit-flex-flow:row wrap!important;flex-flow:row wrap!important}[dir=ltr] .gnav .gnav-desktopheader-secondarylinks>*{-webkit-flex-basis:100%!important;flex-basis:100%!important;margin-right:0!important}[dir=rtl] .gnav .gnav-desktopheader-secondarylinks>*{-webkit-flex-basis:100%!important;flex-basis:100%!important;margin-left:0!important}}[dir=ltr] .gnav .gnav-desktopheader:after,[dir=rtl] .gnav .gnav-desktopheader:after{content:\"\"!important;min-height:inherit!important;font-size:0!important}\\n/*# sourcemappingurl=desktop_jobseeker_header_external.css.map */</style><div class=\"gnav\" id=\"gnav-main-container\"><div class=\"main\"><div class=\"gnav-desktopheader is-small-header\"><div class=\"gnav-desktopheader-logo\"><a class=\"gnav-logo\" href=\"/?from=gnav-viewjob\"><div class=\"gnav-logo-icon\"><span class=\"icl-logo icl-indeedlogo icl-logo--wordmark icl-logo--wordmark--blue icl-logo--wordmark--sm\" alt=\"indeed\"></span></div></a></div><div class=\"gnav-pagelinks\"><a class=\"gnav-pagelink is-highlighted with-border\" href=\"http://au.indeed.com/\" data-href=\"http://au.indeed.com/?from=gnav-viewjob\"><span class=\"gnav-pagelink-text\">find jobs</span></a><a class=\"gnav-pagelink with-border\" href=\"http://au.indeed.com/companies\" data-href=\"http://au.indeed.com/companies?from=gnav-viewjob\"><span class=\"gnav-pagelink-text\">company reviews</span></a><a class=\"gnav-pagelink with-border\" href=\"http://au.indeed.com/salaries\" data-href=\"http://au.indeed.com/salaries?from=gnav-viewjob\"><span class=\"gnav-pagelink-text\">find salaries</span></a></div><div class=\"gnav-desktopheader-secondarylinks\"><div class=\"gnav-loggedoutaccountlink\"><a href=\"https://secure.indeed.com/account/login?hl=en_au&amp;co=au&amp;continue=http%3a%2f%2fau.indeed.com%2fm%2fbasecamp%2fviewjob%3fjk%3d41e2293bb88e9534%26from%3dserp%26vjs%3d3&amp;tmpl=desktop&amp;service=mob&amp;from=gnav-util-viewjob\" class=\"gnav-loggedoutaccountlink-signin gnav-pagelink\"><span class=\"gnav-loggedoutaccountlink-text\">sign in</span></a></div><div class=\"gnav-varianttogglelink-foremployers\"><a class=\"gnav-pagelink with-border\" href=\"http://au.indeed.com/hire?co=au&amp;hl=en\" data-href=\"http://au.indeed.com/hire?co=au&amp;hl=en&amp;from=gnav-menu-viewjob&amp;ikw=gnav-header-hire&amp;isid=employerlink-au\"><span class=\"gnav-pagelink-text\">employers / post job</span></a></div></div></div></div></div><script>!function(t){var r={};function o(e){if(r[e])return r[e].exports;var n=r[e]={i:e,l:!1,exports:{}};return t[e].call(n.exports,n,n.exports,o),n.l=!0,n.exports}o.m=t,o.c=r,o.d=function(e,n,t){o.o(e,n)||object.defineproperty(e,n,{enumerable:!0,get:t})},o.r=function(e){\"undefined\"!=typeof symbol&&symbol.tostringtag&&object.defineproperty(e,symbol.tostringtag,{value:\"module\"}),object.defineproperty(e,\"__esmodule\",{value:!0})},o.t=function(n,e){if(1&e&&(n=o(n)),8&e)return n;if(4&e&&\"object\"==typeof n&&n&&n.__esmodule)return n;var t=object.create(null);if(o.r(t),object.defineproperty(t,\"default\",{enumerable:!0,value:n}),2&e&&\"string\"!=typeof n)for(var r in n)o.d(t,r,function(e){return n[e]}.bind(null,r));return t},o.n=function(e){var n=e&&e.__esmodule?function(){return e.default}:function(){return e};return o.d(n,\"a\",n),n},o.o=function(e,n){return object.prototype.hasownproperty.call(e,n)},o.p=\"/static/\",o(o.s=112)}({112:function(e,n,t){e.exports=t(113)},113:function(e,n,t){\"use strict\";t.r(n),t.d(n,\"initializedesktopjobseekerheader\",function(){return i});var r=t(44),o=t(81),i=function(){object(o.a)()};object(r.a)(i)},2:function(e,n,t){\"use strict\";t.d(n,\"a\",function(){return r}),t.d(n,\"d\",function(){return o}),t.d(n,\"h\",function(){return i}),t.d(n,\"g\",function(){return a}),t.d(n,\"f\",function(){return c}),t.d(n,\"c\",function(){return u}),t.d(n,\"e\",function(){return d}),t.d(n,\"b\",function(){return l}),t.d(n,\"j\",function(){return s}),t.d(n,\"i\",function(){return f});var r=\"globalnav_click_event\",o=\"_indeed_gnav\",i=\"#gnav-main-container\",a=\"#gnav-footer-container\",c=\"#_indeed_gnav_config\",u=\"#_indeed_gnav_footer_config\",d=\"headerconfig\",l=\"footerconfig\",s=\"notifications\",f=\"inbox\"},4:function(e,n,t){\"use strict\";t.d(n,\"c\",function(){return c}),t.d(n,\"b\",function(){return r}),t.d(n,\"a\",function(){return i});var a=t(6),o=t(2),c=function(e){try{var n=document.head||document.body,t=document.createelement(\"script\");t.src=e,n.appendchild(t),n.removechild(t)}catch(e){}},r=function(e,n){var t,r,o=object(a.a)((r=n,{logtype:(t=e).jserrorlogtype,lth:t.jserrorlth,tostring:r.tostring(),message:r.message,stack:r.stack,name:r.name})),i=e.logroute+o;return c(i)},i=function(e){if(!window[o.d].loggedjsenabled){window[o.d].loggedjsenabled=!0;var n,t=object(a.a)({logtype:(n=e).jsenabledlogtype,lth:n.jsenabledlth,jsenabled:1}),r=e.logroute+t;return c(r)}}},44:function(e,n,t){\"use strict\";var o=t(2),r=function(){if(\"function\"==typeof window.customevent)return window.customevent;function e(e,n){n=n||{bubbles:!1,cancelable:!1,detail:{}};var t=document.createevent(\"customevent\");return t.initcustomevent(e,n.bubbles,n.cancelable,n.detail),t}return e.prototype=window.event.prototype,e}(),i=function(e){var n=new r(o.a,{detail:{event:e}});document.dispatchevent(n)},a=t(5),c=t(4);n.a=function(e){var n,t,r=void 0;try{r=object(a.a)(),window[o.d]=window[o.d]||{},document.queryselector(o.h).addeventlistener(\"click\",i,!1),window[o.d].globalnav_click_event=o.a,window[o.d].initialized=!0,r.isfallbackcontent?e&&e():(n=r,(t=document.createelement(\"script\")).src=n.jspath,t.async=!0,(document.head||document.body).appendchild(t)),object(c.a)(r)}catch(e){object(c.a)(r),object(c.b)(r,e)}}},5:function(e,n,t){\"use strict\";t.d(n,\"a\",function(){return o});var r=t(2),o=function(){var e=0<arguments.length&&void 0!==arguments[0]?arguments[0]:r.f,n=1<arguments.length&&void 0!==arguments[1]?arguments[1]:r.e;try{return window[r.d]=window[r.d]||{},window[r.d][n]=window[r.d][n]||json.parse(document.queryselector(e).innerhtml),window[r.d][n]}catch(e){return{}}}},6:function(e,n,t){\"use strict\";t.d(n,\"a\",function(){return r});var r=function(e){var n=\"\";for(var t in e){var r=string(e[t]);n+=r?\"&\"+t+\"=\"+encodeuricomponent(r):\"\"}return n}},81:function(e,n,t){\"use strict\";var i=function(){var e=document.getelementbyid(\"gnav-main-container\"),n=void 0;if(e&&(n=e.getelementsbyclassname(\"gnav-menutoggle\"))&&n[0])return n[0]},a=function(e){return e.stoppropagation()},o=function e(n){var t=i();if(t){var r=t.getelementsbyclassname(\"gnav-menutoggle-menu\");if(r&&r[0]){r[0].classlist.add(\"is-showing\");var o=t.getelementsbyclassname(\"gnav-menutoggle-label\");o&&o[0]&&(r[0].addeventlistener(\"click\",a),o[0].removeeventlistener(\"click\",e),document.addeventlistener(\"click\",c),a(n))}}},c=function e(){var n=i();if(n){var t=n.getelementsbyclassname(\"gnav-menutoggle-menu\");if(t&&t[0]){t[0].classlist.remove(\"is-showing\");var r=n.getelementsbyclassname(\"gnav-menutoggle-label\");r&&r[0]&&(t[0].removeeventlistener(\"click\",a),r[0].addeventlistener(\"click\",o),document.removeeventlistener(\"click\",e))}}};n.a=function(){var e=i();if(e){var n=e.getelementsbyclassname(\"gnav-menutoggle-label\");n&&n[0]&&n[0].addeventlistener(\"click\",o)}}}});\\n//# sourcemappingurl=desktop_jobseeker_header_inline.js.map</script><template style=\"display: none\" id=\"sentry-json\" data-json=\\'{\"init\":{\"dsn\":\"https://2649acf65e0c47afba547cc0ea1f4846@sentry.indeed.com/43344\",\"release\":\"5e1d6c374ff4f6b04276f4ba640268888472d7ac\"},\"isenabled\":true,\"tags\":{\"appname\":\"jobsearch--indeedmobile\"},\"ctk\":\"1dik0qj4485gh800\"}\\'></template>\\n<script>\\nwindow.indeedsentry = window.indeedsentry || {};\\nwindow.indeedsentry.preiniterrors = [];\\nwindow.indeedsentry.preiniterrorcatcher = function (error) {\\n    window.indeedsentry.preiniterrors.push(error);\\n};\\nwindow.addeventlistener(\"error\", window.indeedsentry.preiniterrorcatcher);\\n</script>\\n<script async src=\"https://d3fw5vlhllyvee.cloudfront.net/frontend-sentry-bundle/v1.1.2/js/sentry.js\"></script></div><div class=\"icl-container--fluid  icl-u-xs-p--sm  jobsearch-viewjoblayout-fluidcontainer\"><div class=\"jobsearch-viewjoblayout-whatwhere\"><div class=\"icl-grid jobsearch-viewjoblayout-content\"><div class=\"icl-grid-col icl-u-xs-span12 icl-u-lg-span8 icl-u-lg-offset2\"><div class=\"icl-u-xs-hide icl-u-lg-block\"><form action=\"/jobs\" method=\"get\" class=\"icl-whatwhere icl-whatwhere--sm\"></form><div class=\"icl-whatwhere-input--what\"><div class=\"icl-textinput\"><div id=\"label-q\" class=\"icl-textinput-labelwrapper\"><label class=\"icl-textinput-label icl-textinput-label--whatwhere\" for=\"text-input-what\" id=\"text-input-what-label\">what</label><label class=\"icl-textinput-helptext icl-textinput-helptext--whatwhere\" for=\"text-input-what\">job title, keywords, or company</label></div><input class=\"icl-textinput-control icl-textinput-control--sm icl-textinput-control--whatwhere\" id=\"text-input-what\" type=\"text\" name=\"q\" value=\"\" autocomplete=\"off\"></div></div><div class=\"icl-whatwhere-input--where\"><div class=\"icl-textinput\"><div id=\"label-l\" class=\"icl-textinput-labelwrapper\"><label class=\"icl-textinput-label icl-textinput-label--whatwhere\" for=\"text-input-where\" id=\"text-input-where-label\">where</label><label class=\"icl-textinput-helptext icl-textinput-helptext--whatwhere\" for=\"text-input-where\">city, state/territory or postcode</label></div><input class=\"icl-textinput-control icl-textinput-control--sm icl-textinput-control--whatwhere\" id=\"text-input-where\" type=\"text\" name=\"l\" value=\"toorak vic\" autocomplete=\"off\"></div></div><div class=\"icl-whatwhere-buttonwrapper\"><button type=\"submit\" class=\"icl-button icl-button--sm icl-button--whatwhere icl-whatwhere-button\">find jobs</button></div><div class=\"icl-whatwhere-advsearchwrapper\"><a class=\"icl-whatwhere-advsearchlink\" href=\"/advanced_search\">advanced job search</a></div></div></div></div></div><div class=\"jobsearch-viewjoblayout-rowspacingline icl-u-lg-block icl-u-xs-hide\"></div><div class=\"icl-grid jobsearch-viewjoblayout-content jobsearch-viewjoblayout-maincontent icl-u-lg-mt--md\"><div class=\"jobsearch-viewjoblayout-innercontent icl-grid-col icl-u-xs-span12 icl-u-lg-offset2 icl-u-lg-span10\"><div class=\"icl-grid jobsearch-viewjoblayout-innercontentgrid\"><div class=\"jobsearch-viewjoblayout-jobdisplay icl-grid-col icl-u-xs-span12 icl-u-lg-span7\"><div class=\"jobsearch-jobcomponent icl-u-xs-mt--sm\"><div class=\"jobsearch-desktopstickycontainer\"><h3 class=\"icl-u-xs-mb--xs icl-u-xs-mt--none  jobsearch-jobinfoheader-title\">mailroom officer</h3><div class=\" jobsearch-companyinfowithoutheaderimage\"><div class=\"icl-u-xs-mt--xs  icl-u-textcolor--secondary jobsearch-jobinfoheader-subtitle jobsearch-desktopstickycontainer-subtitle\"><div class=\"jobsearch-inlinecompanyrating icl-u-xs-mt--xs  jobsearch-desktopstickycontainer-companyrating\"><div class=\"icl-u-lg-mr--sm icl-u-xs-mr--xs\"><a href=\"https://au.indeed.com/cmp/bgis?campaignid=mobvjcmp&amp;from=mobviewjob&amp;tk=1dik0qjat10me000&amp;fromjk=41e2293bb88e9534\">bgis</a></div><div class=\"icl-u-lg-block icl-u-xs-hide icl-u-lg-mr--sm\"><div class=\"icl-ratings icl-ratings--gold icl-ratings--sm\" itemscope itemtype=\"http://schema.org/aggregaterating\"><meta itemprop=\"ratingvalue\" content=\"3.4000000953674316\"><meta itemprop=\"ratingcount\" content=\"153\"><a href=\"https://au.indeed.com/cmp/bgis/reviews?campaignid=viewjob&amp;cmpratingc=mobviewjob&amp;from=viewjob&amp;tk=1dik0qjat10me000&amp;fromjk=41e2293bb88e9534&amp;jt=mailroom+officer\" class=\"icl-ratings-starscountwrapper icl-ratings-link\" aria-label=\"3.4 out of 5\"><div class=\"icl-ratings-starswrapper\"><div class=\"icl-ratings-starsunfilled\"><div class=\"icl-ratings-starsfilled\" style=\"width: 41.40000057220459px;\"></div></div></div><div class=\"icl-ratings-count\" aria-hidden=\"true\">153 reviews</div></a></div></div><div class=\"icl-u-lg-mr--sm icl-u-xs-mr--xs\">-</div></div></div></div><div class=\"jobsearch-jobmetadataheader-item \"><span class=\"jobsearch-jobmetadataheader-item  icl-u-xs-mt--xs\">permanent</span></div><div class=\"jobsearch-companyreview icl-u-lg-hide\"><a class=\"icl-navigablecontainer-linkwrapper\" href=\"https://au.indeed.com/cmp/bgis/reviews?campaignid=mobvjcmp&amp;cmpratingc=mobviewjob&amp;from=mobviewjob&amp;tk=1dik0qjat10me000&amp;fromjk=41e2293bb88e9534&amp;jt=mailroom+officer\"><div class=\"icl-navigablecontainer icl-navigablecontainer--hasborderbottom icl-navigablecontainer--hasbordertop\"><div class=\"icl-navigablecontainer-innercontainer\"><h4 class=\"jobsearch-companyreview--heading\">bgis</h4><div class=\"icl-ratings icl-ratings--gold icl-ratings--md\" itemscope itemtype=\"http://schema.org/aggregaterating\"><meta itemprop=\"ratingvalue\" content=\"3.4000000953674316\"><meta itemprop=\"ratingcount\" content=\"153\"><div tabindex=\"0\" class=\"icl-ratings-starscountwrapper\" aria-label=\"3.4 out of 5\"><div class=\"icl-ratings-starswrapper\"><div class=\"icl-ratings-starsunfilled\"><div class=\"icl-ratings-starsfilled\" style=\"width: 61.80000114440918px;\"></div></div></div><div class=\"icl-ratings-count\" aria-hidden=\"true\">153 reviews</div></div><div class=\"icl-ratings-description\" aria-hidden=\"true\">read what people are saying about working here.</div></div><div class=\"icl-navigablecontainer-iconcontainer\"><div class=\"icl-navigablecontainer-icon icl-navigablecontainer-icon--isrightarrow\"><svg focusable=\"false\" role=\"img\" class=\"icl-icon icl-icon--sm icl-icon--left icl-icon--black chevron-right\"><g><path d=\"m7.5,4.5l6.44,5.56,9.88,9,6.44,12.44,7.5,13.5,12,9z\"></path></g></svg></div></div></div></div></a></div><div class=\"icl-u-lg-block icl-u-xs-hide\"></div><div id=\"indeedapplyexplanationcontainer\"></div><div class=\"jobsearch-stickycontainerdivider\"><div class=\"jobsearch-stickycontainerdivider-line\"></div></div></div><div class=\"jobsearch-jobcomponent-clear\"></div><div class=\"jobsearch-jobcomponent-description  icl-u-xs-mt--md  \"><div class=\"jobsearch-jobmetadataheader icl-u-xs-mb--md\"><div class=\"jobsearch-jobmetadataheader-itemwithicon icl-u-textcolor--secondary icl-u-xs-mt--xs\"><div aria-label=\"\" class=\"icl-iconfunctional icl-iconfunctional--location icl-iconfunctional--md\"><span class=\"icl-iconfunctional-label\"></span></div><span class=\"jobsearch-jobmetadataheader-iconlabel\">brisbane qld</span></div><div class=\"jobsearch-jobmetadataheader-itemwithicon icl-u-textcolor--secondary icl-u-xs-mt--xs\"><div aria-label=\"\" class=\"icl-iconfunctional icl-iconfunctional--jobs icl-iconfunctional--md\"><span class=\"icl-iconfunctional-label\"></span></div><span class=\"jobsearch-jobmetadataheader-iconlabel\">permanent</span></div></div><div id=\"jobdescriptiontext\" class=\"jobsearch-jobdescriptiontext\">bgis is a global leader in the provision of facility management, project delivery, energy &amp; sustainability, asset management, workplace advisory, and real estate services.\\n<br>with a combined team of over 7,000 globally, bgis focuses on delivering innovative service solutions that create value for its clients.\\n<br>globally, bgis manages over 30,000 facilities totalling more than 31.5 million square metres across several markets including defence, government, higher education, utilities, telecommunications, financial services, oil &amp; gas, healthcare and cloud enterprise.\\n<br>in addition to managing a diverse portfolio of corporate offices, retail, universities, hospitals and industrial assets, bgis is a world leader in the management of data centres and other critical environments.\\n<br>further information is available at www.apac.bgis.com\\n<br><br>\\nthe role\\n<br>using a flexible and adaptable approach the responsibilities of the mailroom officer include assisting the internal site management team acting as the conduit for client requests as well as other requests as required.\\n<br>this position is based in brisbane, qld.\\n<br><br>\\n<ul>\\n<li>efficient distribution of all mail, faxes, newspapers and courier packages (internal, external, incoming and outgoing) several times daily</li>\\n<li>frank all outgoing mail and take to post office or post box</li>\\n<li>organise archiving collection/retrieving/ create barcodes. monitor the turnaround time for courier pick up &amp; delivery and ensure it meets desired outcome for all parties</li>\\n<li>facilitate large deliveries to the correct nominated area</li>\\n<li>ensure all utility zones are tidy, labelled and well stocked</li>\\n<li>ensure mailroom sites mailboxes/signage is updated correctly on a regular basis</li>\\n<li>ensure internal site lists are up to date and accurate</li>\\n</ul>\\nskills &amp; experience\\n<br><br>\\n<ul>\\n<li>professional telephone manner - listening, questioning, empathy, clear client outcomes</li>\\n<li>ability to interpret queries and assist customers appropriately</li>\\n<li>demonstrated attention to detail</li>\\n<li>proficient in relevant computer software word, outlook (or related programme) and internet access</li>\\n<li>good computer skills</li>\\n<li>demonstrated understanding of customer service principles</li>\\n</ul>\\nworking at bgis\\n<br>if you are looking for a career where no two days are the same and enjoy being part of a team with a focus on growth and opportunity, then we strongly suggest you apply for this role. you will be part of a thriving and supportive culture where teams are encouraged to collaborate and share ideas in an informal and supportive environment. we\\'re a company that people feel proud and empowered to work for, and we see that reflected in the way our employees genuinely live our values. we recognise and celebrate success and that starts by simply saying ‘thanks, good job\\'.\\n<br>to reach our goal of becoming a world-leader in customer service, we rely on a diverse and inclusive workplace offering different perspectives to face challenges and solve problems. we focus on being an equal opportunity employer that treats each individual with dignity and respect and we welcome a workplace that reflects the diverse community we serve.</div></div><div class=\"jobsearch-jobtab-content\"><div class=\"jobsearch-jobmetadatafooter\"><span class=\"icl-u-textcolor--success\">bgis</span> - 6 days ago<span id=\"savejobinlinecallout\" class=\"icl-u-lg-inline icl-u-xs-hide\"> - <a title=\"save this job to my.indeed\">save job</a></span><span> - <a title=\"report this job\" class=\"iclcom-reportjobform-link\">report job</a></span><span id=\"originaljoblinkcontainer\" class=\"icl-u-lg-inline icl-us-xs-hide\"> - <a target=\"_blank\" rel=\"noopener\" href=\"https://au.indeed.com/rc/clk?jk=41e2293bb88e9534&amp;from=vj&amp;pos=top\">original job</a></span><div id=\"savejobinlinecalloutcontainer\" class=\"icl-u-lg-block icl-u-xs-hide icl-u-lg-mt--md\"></div></div><div id=\"reportjobform\"></div></div><div class=\"icl-grid icl-grid--gutters\"><div id=\"jobsearch-viewjobbuttons-container\" class=\"jobsearch-viewjobbuttons-container icl-u-xs-my--md icl-grid-col icl-u-xs-span12 icl-u-xs-textcenter icl-u-lg-textleft\"><div id=\"viewjobbuttonlinkcontainer\" class=\"icl-u-lg-inlineblock\"><div class=\"icl-u-lg-hide\"><a class=\"icl-button icl-button--primary icl-button--$viewjobbuttonlinkmodel.buttonsize\" href=\"https://au.indeed.com/rc/clk?jk=41e2293bb88e9534&amp;from=vj&amp;pos=bottom\">apply now</a></div><div class=\"icl-u-lg-block icl-u-xs-hide icl-u-lg-textcenter\"><a class=\"icl-button icl-button--primary icl-button--md\" href=\"https://au.indeed.com/rc/clk?jk=41e2293bb88e9534&amp;from=vj&amp;pos=bottom\">apply on company site</a></div></div><div id=\"savejobbuttoncontainer\" class=\"icl-u-lg-inlineblock\" data-loginurl=\"https://au.indeed.com/account/login?dest=%2fviewjob%3fjk%3d41e2293bb88e9534%26from%3dserp%26vjs%3d3\">save this job a<div class=\"icl-u-lg-hide\"><button class=\"icl-button icl-button--secondary icl-button--block\" type=\"button\" disabled><span class=\"icl-buttonicon\"><svg focusable=\"false\" role=\"img\" class=\"icl-icon icl-icon--sm icl-icon--left icl-icon--inheritcolor favorite-border\" aria-label=\"save-icon\"><g><path d=\"m12.38,2.25a4.49,4.49,0,0,0,9,3.82,4.49,4.49,0,0,0,5.63,2.25,4.08,4.08,0,0,0,1.5,6.38c0,2.83,2.55,5.15,6.41,8.66l9,16l1.09-1c14,11.52,16.5,9.21,16.5,6.38a4.08,4.08,0,0,0,12.38,2.25zm9.08,13.91l9,14l-0.08-.08c5.35,10.68,3,8.54,3,6.38a2.56,2.56,0,0,1,5.63,3.75,2.93,2.93,0,0,1,8.3,5.52h9.7a2.91,2.91,0,0,1,2.67-1.77a2.56,2.56,0,0,1,15,6.38c15,8.54,12.65,10.68,9.08,13.91z\"></path></g></svg></span>save this job</button></div><div class=\"icl-u-xs-block icl-u-lg-hide\"></div></div><div id=\"savejobfailuremodal\"></div></div></div><div id=\"maproot\"></div></div><div id=\"relatedlinks\" class=\"icl-grid icl-grid--gutters\"><div class=\"icl-grid-col icl-u-xs-span12\"><div class=\"jobsearch-relatedlinks-linkwrapper\"><a class=\"jobsearch-relatedlinks-link\" href=\"/jobs?q=bgis&amp;l=brisbane+qld\">jobs at bgis in brisbane qld</a></div></div></div></div><div class=\"jobsearch-viewjoblayout-rightrail  icl-grid-col icl-u-xs-hide icl-u-lg-block icl-u-lg-span4 icl-u-lg-offset1\"><div class=\"jobsearch-viewjoblayout-companypromo\"><div class=\"jobsearch-companyavatar icl-u-xs-mb--lg\"><div class=\"icl-card icl-card--hasborder\"><div class=\"icl-card-headline icl-card-headline--hasborder\"><div class=\"jobsearch-companyavatar-headline\">company info</div></div><div class=\"icl-card-body\"><a href=\"https://au.indeed.com/cmp/bgis?campaignid=vjcmpinfo&amp;from=vjcmpinfo&amp;tk=1dik0qjat10me000&amp;fromjk=41e2293bb88e9534\"><img class=\"jobsearch-companyavatar-image\" src=\"https://d2q79iu7y748jz.cloudfront.net/s/_logo/38e144d867c1c739beadfa48ed0bd48f\" alt=\"bgis\"></a><div id=\"companyfollowform\" class=\"jobsearch-companyavatar-form\"><div class=\"jobsearch-companyavatar-button\"><button class=\"icl-button icl-button--tertiary icl-button--sm\" type=\"button\">follow</button></div><div class=\"jobsearch-companyavatar-cta\">get job updates from bgis</div></div><div class=\"icl-u-md-mb--sm\"><a class=\"jobsearch-companyavatar-companylink\" href=\"https://au.indeed.com/cmp/bgis?campaignid=vjcmpinfo&amp;from=vjcmpinfo&amp;tk=1dik0qjat10me000&amp;fromjk=41e2293bb88e9534\">bgis</a><div class=\"jobsearch-companyavatar-ratings\"><a href=\"https://au.indeed.com/cmp/bgis/reviews?campaignid=vjcmpinfo&amp;cmpratingc=mobviewjob&amp;from=vjcmpinfo&amp;tk=1dik0qjat10me000&amp;fromjk=41e2293bb88e9534&amp;jt=mailroom+officer\"><div class=\"icl-ratings icl-ratings--gold icl-ratings--md\" itemscope itemtype=\"http://schema.org/aggregaterating\"><meta itemprop=\"ratingvalue\" content=\"3.4000000953674316\"><meta itemprop=\"ratingcount\" content=\"153\"><div tabindex=\"0\" class=\"icl-ratings-starscountwrapper\" aria-label=\"3.4 out of 5\"><div class=\"icl-ratings-starswrapper\"><div class=\"icl-ratings-starsunfilled\"><div class=\"icl-ratings-starsfilled\" style=\"width: 61.80000114440918px;\"></div></div></div><div class=\"icl-ratings-count\" aria-hidden=\"true\">153 reviews</div></div></div></a></div></div><div class=\"jobsearch-companyavatar-description\">bgis is a leading provider of real estate management services, including facilities management, project delivery services, energy and sus...</div></div></div></div></div><div class=\"jobsearch-viewjoblayout-i4cpromo\"></div><div class=\"jobsearch-viewjoblayout-resumepromo\"></div><div class=\"jobsearch-viewjoblayout-endorsementcard\"></div></div><div class=\"jobsearch-viewjoblayout-sponsoredads icl-grid-col icl-u-xs-hide icl-u-lg-block icl-u-lg-span4 icl-u-lg-offset1\"></div></div></div></div></div><div class=\"jobsearch-footer-wrapper\"><div class=\"jobsearch-footer jobsearch-footer--sticky\"><footer class=\"icl-globalfooter\" role=\"contentinfo\"><nav class=\"icl-globalfooter-nav\" role=\"navigation\"><ul class=\"icl-globalfooter-items\"><li class=\"icl-globalfooter-item\"><a class=\"icl-globalfooter-link\" href=\"/intl/en/about.html\" data-href=\"/intl/en/about.html?from=vj2\">about</a></li><li class=\"icl-globalfooter-item\"><a class=\"icl-globalfooter-link\" href=\"https://indeed.zendesk.com/hc/en-au\" data-href=\"https://indeed.zendesk.com/hc/en-au?from=vj2\">help centre</a></li></ul></nav><small class=\"icl-globalfooter-impressum\"><span class=\"icl-globalfooter-copyright icl-globalfooter-item--impressum\">© 2019 indeed</span><a class=\"icl-globalfooter-link\" href=\"/legal\">cookies, privacy and terms</a></small></footer><div class=\"iclcom-resumesimplefooter iclcom-resumesimplefooter--lightestgray icl-u-xs-hide icl-u-lg-block icl-u-lg-textcenter icl-u-lg-p--sm\"><span class=\"icl-u-lg-block icl-heading3 icl-u-lg-my--none\">let employers find you</span><span class=\"icl-u-lg-block\"><a class=\"icl-button icl-button--primary icl-button--md\" href=\"/promo/resume\" data-href=\"/promo/resume?from=bottomresumectaviewjob&amp;trk.origin=viewjob\">upload your resume</a></span></div></div></div></div><script src=\"/m/s/b78f56abe076e96e6fa8/scripts/viewjob.js\"></script>\\n            <noscript><img src=\"https://ad.doubleclick.net/ddm/activity/ord=1;tfua=;npa=;;src=8232301;type=jobse0;cat=viewj00;u4=mailroom+officer;u5=brisbane+qld;u8=organic\" width=\"1\" height=\"1\" alt=\"\" style=\"display:none\"><img src=\"https://sb.scorecardresearch.com/p?c1=2&amp;c2=6486505&amp;c4=http%3a%2f%2fau.indeed.com%2fm%2fbasecamp%2fviewjob%3fjk%3d41e2293bb88e9534%26from%3dserp%26vjs%3d3&amp;c15=1dik0qj4485gh800&amp;cv=2.0&amp;cj=1\" style=\"display:none\" width=\"0\" height=\"0\"></noscript><script id=\"mosaic-init-data\" type=\"text/javascript\">\\n    window.mosaic= window.mosaic || {};\\n    window.mosaic.providers={\"platformjs\":\"https://d3fw5vlhllyvee.cloudfront.net/mosaic-common/dist/970bb0e1a2af6a1c89d7/scripts/index.js\"};\\n    window.mosaic.providererrors={};\\n    window.mosaic.provideri18n={};\\n    window.mosaic.lazyproviders={};\\n    window.mosaic.cssresetproviders={}\\n    window.mosaic.zonedproviders={\"whatwheremodal\":[]}\\n</script>\\n<script id=\"mosaic-data\" type=\"text/javascript\">\\nwindow.mosaic.providerdata={};\\nwindow.mosaic.initialdata = {\"logtypes\":{\"jsuipplatforminiterror\":\"4327faee2bbb67f4e7f2185701a52e54\",\"mosaicproviderseen\":\"e3926cc0a343f384f2e5e6dfc540016a\",\"jsuipproviderloadtimings\":\"fb7274d51fc7a04d450086c83a40cc6a\",\"jsuipproviderexecutionerror\":\"211e778edbde5e164fd5f14dd23e6115\",\"jsuipaction\":\"d5973eb3ad332b3608839e9bbed7d867\",\"jsuipplatformloaderror\":\"c74c8d65f1d6f620ddce517edd3faa40\",\"jsuipproviderloaderror\":\"61c37c1721757c82be5e97b1fff8d1c2\"},\"platformlogtk\":\"1dik0qjb510me000\",\"logtk\":\"1dik0qjat10me000\",\"platformid\":\"jobsearch\",\"env\":\"production\",\"pageid\":\"viewjob\"};\\n\\n</script>\\n<script src=\"https://d3fw5vlhllyvee.cloudfront.net/mosaic-common/dist/15a083aa8e7a6ced95a1/scripts/loadproviders.js\" async></script></body>']"
      ],
      "text/plain": [
       "<IPython.core.display.HTML object>"
      ]
     },
     "execution_count": 27,
     "metadata": {},
     "output_type": "execute_result"
    }
   ],
   "source": [
    "# demonstrating an example of a job description\n",
    "from IPython.core.display import HTML\n",
    "\n",
    "HTML(jobs.page_content[150])"
   ]
  },
  {
   "cell_type": "code",
   "execution_count": 28,
   "metadata": {},
   "outputs": [],
   "source": [
    "# extracting the description from page content\n",
    "jobs['description'] = jobs.page_content.map(extract_description)"
   ]
  },
  {
   "cell_type": "code",
   "execution_count": 29,
   "metadata": {},
   "outputs": [],
   "source": [
    "# dropping page_content since we do not need it anymore\n",
    "jobs.drop('page_content', axis=1, inplace=True)"
   ]
  },
  {
   "cell_type": "code",
   "execution_count": 30,
   "metadata": {},
   "outputs": [],
   "source": [
    "# substituting all the empty departments with NaN\n",
    "jobs.department = jobs.department.map(lambda x: np.nan if x == 'nan' else x)"
   ]
  },
  {
   "cell_type": "code",
   "execution_count": 31,
   "metadata": {
    "scrolled": true
   },
   "outputs": [],
   "source": [
    "# dropping the duplicated rows\n",
    "jobs.drop(index=jobs[jobs.duplicated()].index, inplace=True)"
   ]
  },
  {
   "cell_type": "code",
   "execution_count": 32,
   "metadata": {},
   "outputs": [],
   "source": [
    "# resetting the index\n",
    "jobs.reset_index(drop=True, inplace=True)"
   ]
  },
  {
   "cell_type": "code",
   "execution_count": 33,
   "metadata": {},
   "outputs": [],
   "source": [
    "# # saving the clean data as a csv file\n",
    "# jobs.to_csv('jobs_clean.csv')"
   ]
  },
  {
   "cell_type": "code",
   "execution_count": 34,
   "metadata": {},
   "outputs": [],
   "source": [
    "# # making a column of annual salaries\n",
    "# jobs['annual_salary'] = jobs.salary_value\n",
    "# for ind in range(jobs.salary_value.shape[0]):\n",
    "#     jobs['annual_salary'][ind] = to_annual(jobs.salary_value[ind], jobs.salary_unit[ind])"
   ]
  },
  {
   "cell_type": "code",
   "execution_count": 35,
   "metadata": {},
   "outputs": [],
   "source": [
    "# # saving the clean data as a csv file\n",
    "# jobs.to_csv('jobs_clean_with_annual_salary.csv')"
   ]
  },
  {
   "cell_type": "markdown",
   "metadata": {},
   "source": [
    "# Preprocessing and EDA"
   ]
  },
  {
   "cell_type": "code",
   "execution_count": 36,
   "metadata": {},
   "outputs": [],
   "source": [
    "jobs = pd.read_csv('jobs_clean_with_annual_salary.csv').drop('Unnamed: 0', axis=1)"
   ]
  },
  {
   "cell_type": "code",
   "execution_count": 37,
   "metadata": {},
   "outputs": [],
   "source": [
    "# categorizing the annual salary\n",
    "jobs['salary_cat'] = jobs.annual_salary.map(salary_cat)"
   ]
  },
  {
   "cell_type": "code",
   "execution_count": 38,
   "metadata": {},
   "outputs": [
    {
     "name": "stdout",
     "output_type": "stream",
     "text": [
      "The median of salary is: 69316.25\n"
     ]
    }
   ],
   "source": [
    "median_salary = jobs.annual_salary.median()\n",
    "print('The median of salary is:', median_salary)"
   ]
  },
  {
   "cell_type": "code",
   "execution_count": 39,
   "metadata": {},
   "outputs": [
    {
     "data": {
      "text/plain": [
       "(array([23., 90., 77., 36.,  9.,  8.,  2.,  6.,  4.,  3.]),\n",
       " array([ 22000.,  43450.,  64900.,  86350., 107800., 129250., 150700.,\n",
       "        172150., 193600., 215050., 236500.]),\n",
       " <a list of 10 Patch objects>)"
      ]
     },
     "execution_count": 39,
     "metadata": {},
     "output_type": "execute_result"
    },
    {
     "data": {
      "image/png": "[encoded data removed]",
      "text/plain": [
       "<Figure size 432x288 with 1 Axes>"
      ]
     },
     "metadata": {
      "needs_background": "light"
     },
     "output_type": "display_data"
    }
   ],
   "source": [
    "# histogram of the annual salary\n",
    "plt.hist(jobs.annual_salary)"
   ]
  },
  {
   "cell_type": "code",
   "execution_count": 40,
   "metadata": {},
   "outputs": [
    {
     "data": {
      "text/plain": [
       "high    129\n",
       "low     129\n",
       "Name: salary_cat, dtype: int64"
      ]
     },
     "execution_count": 40,
     "metadata": {},
     "output_type": "execute_result"
    }
   ],
   "source": [
    "# number of jobs in each category of salary\n",
    "jobs.salary_cat.value_counts()"
   ]
  },
  {
   "cell_type": "code",
   "execution_count": 41,
   "metadata": {},
   "outputs": [],
   "source": [
    "# removing punctuation\n",
    "PUNCT_TO_REMOVE = string.punctuation\n",
    "def remove_punctuation(text):\n",
    "    \"\"\"custom function to remove the punctuation\"\"\"\n",
    "    try:\n",
    "        for punc in PUNCT_TO_REMOVE:\n",
    "            text = text.replace(punc, ' ')\n",
    "        return text\n",
    "    except:\n",
    "        return np.nan\n",
    "\n",
    "jobs[['title', 'department', 'location', 'employment_type', 'description']] =\\\n",
    "jobs[['title', 'department', 'location', 'employment_type', 'description']].applymap(lambda text: remove_punctuation(text))"
   ]
  },
  {
   "cell_type": "code",
   "execution_count": 42,
   "metadata": {},
   "outputs": [],
   "source": [
    "# defining the stop words\n",
    "STOPWORDS = set(stopwords.words('english'))\n",
    "\n",
    "# function for removing the stop words\n",
    "def remove_stopwords(text):\n",
    "    \"\"\"custom function to remove the stopwords\"\"\"\n",
    "    return \" \".join([word for word in str(text).split() if word not in STOPWORDS])\n",
    "\n",
    "# removing the stop words\n",
    "jobs['title'] = jobs['title'].apply(lambda text: remove_stopwords(text))\n",
    "jobs['description'] = jobs['description'].apply(lambda text: remove_stopwords(text))"
   ]
  },
  {
   "cell_type": "code",
   "execution_count": 43,
   "metadata": {},
   "outputs": [],
   "source": [
    "# stemming the text of description\n",
    "stemmer = PorterStemmer()\n",
    "def stem_words(text):\n",
    "    return \" \".join([stemmer.stem(word) for word in text.split()])\n",
    "\n",
    "jobs[\"description\"] = jobs[\"description\"].apply(lambda text: stem_words(text))"
   ]
  },
  {
   "cell_type": "code",
   "execution_count": 44,
   "metadata": {},
   "outputs": [],
   "source": [
    "# finding the frequency of the words in the description\n",
    "cnt = Counter()\n",
    "for text in jobs[\"description\"].values:\n",
    "    for word in text.split():\n",
    "        cnt[word] += 1\n",
    "\n",
    "# removing the top 10 frequent words from the description\n",
    "FREQWORDS = set([w for (w, wc) in cnt.most_common(10)])\n",
    "def remove_freqwords(text):\n",
    "    \"\"\"custom function to remove the frequent words\"\"\"\n",
    "    return \" \".join([word for word in str(text).split() if word not in FREQWORDS])\n",
    "\n",
    "jobs[\"description\"] = jobs[\"description\"].apply(lambda text: remove_freqwords(text))\n",
    "\n",
    "# removing the 10 least frequent words from the description\n",
    "n_rare_words = 10\n",
    "RAREWORDS = set([w for (w, wc) in cnt.most_common()[:-n_rare_words-1:-1]])\n",
    "def remove_rarewords(text):\n",
    "    \"\"\"custom function to remove the rare words\"\"\"\n",
    "    return \" \".join([word for word in str(text).split() if word not in RAREWORDS])\n",
    "\n",
    "jobs[\"description\"] = jobs[\"description\"].apply(lambda text: remove_rarewords(text))"
   ]
  },
  {
   "cell_type": "markdown",
   "metadata": {},
   "source": [
    "# Imputing the missing data"
   ]
  },
  {
   "cell_type": "code",
   "execution_count": 45,
   "metadata": {},
   "outputs": [
    {
     "name": "stdout",
     "output_type": "stream",
     "text": [
      "The mean score of model: -0.4668788251208104\n"
     ]
    }
   ],
   "source": [
    "# setting the job title as a predictor and the annual salary as the target for jobs with known salary\n",
    "data = jobs[~jobs.annual_salary.isnull()]\n",
    "y = jobs[~jobs.annual_salary.isnull()]['annual_salary']\n",
    "\n",
    "data_train, data_test, y_train, y_test = train_test_split(data, y, test_size=0.4, random_state=0)\n",
    "\n",
    "model = make_pipeline(CountVectorizer(ngram_range=(1, 3)), LinearRegression())\n",
    "model.fit(data_train.title, y_train)\n",
    "y_pred = model.predict(data_test.title)\n",
    "print('The mean score of model:', cross_val_score(model, data_test.title, y_test, cv=5).mean())"
   ]
  },
  {
   "cell_type": "markdown",
   "metadata": {},
   "source": [
    "Since filling in the missing rows with th mean keeps the mean of data unchanged and also since the model does not predict the salary better than the baseline, we impute the missing data with the mean."
   ]
  },
  {
   "cell_type": "code",
   "execution_count": 46,
   "metadata": {},
   "outputs": [],
   "source": [
    "# imputing missing data with the mean\n",
    "imp_mean = SimpleImputer(missing_values=np.nan, strategy='mean')\n",
    "jobs.annual_salary = imp_mean.fit_transform(np.array(jobs.annual_salary).reshape(-1,1))"
   ]
  },
  {
   "cell_type": "code",
   "execution_count": 47,
   "metadata": {},
   "outputs": [],
   "source": [
    "# function for categorizing annual_salary using the same median value as before imputing data\n",
    "def salary_cat(x):\n",
    "    if x<median_salary:\n",
    "        return 'low'\n",
    "    elif x>=median_salary:\n",
    "        return 'high'\n",
    "    else:\n",
    "        return np.nan\n",
    "\n",
    "# categorizing the annual salary\n",
    "jobs['salary_cat'] = jobs.annual_salary.map(salary_cat)"
   ]
  },
  {
   "cell_type": "markdown",
   "metadata": {},
   "source": [
    "Since we might use the department as a feature later, we impute the missing data for that with the word 'missing'"
   ]
  },
  {
   "cell_type": "code",
   "execution_count": 48,
   "metadata": {},
   "outputs": [],
   "source": [
    "imp_miss = SimpleImputer(strategy='constant', fill_value='missing')\n",
    "jobs.department = imp_miss.fit_transform(np.array(jobs.department).reshape(-1,1))"
   ]
  },
  {
   "cell_type": "markdown",
   "metadata": {},
   "source": [
    "# Modeling and prediction of salary"
   ]
  },
  {
   "cell_type": "code",
   "execution_count": 49,
   "metadata": {},
   "outputs": [],
   "source": [
    "# setting the job title as a predictor and the categorized salary as the target\n",
    "data = jobs\n",
    "y = jobs.salary_cat"
   ]
  },
  {
   "cell_type": "code",
   "execution_count": 50,
   "metadata": {},
   "outputs": [
    {
     "data": {
      "text/plain": [
       "high    861\n",
       "low     129\n",
       "Name: salary_cat, dtype: int64"
      ]
     },
     "execution_count": 50,
     "metadata": {},
     "output_type": "execute_result"
    }
   ],
   "source": [
    "jobs.salary_cat.value_counts()"
   ]
  },
  {
   "cell_type": "code",
   "execution_count": 51,
   "metadata": {},
   "outputs": [
    {
     "name": "stdout",
     "output_type": "stream",
     "text": [
      "Baseline accuracy = 0.8696969696969697\n"
     ]
    }
   ],
   "source": [
    "# calculating the baseline\n",
    "baseline_accuracy = jobs.salary_cat.value_counts().max()/jobs.salary_cat.value_counts().sum()\n",
    "print('Baseline accuracy =', baseline_accuracy)"
   ]
  },
  {
   "cell_type": "markdown",
   "metadata": {},
   "source": [
    "We expected a baseline accuracy of 0.5 before imputing data since we categorized the salary based on the median of known data. Now the accuracy is high because most of the rows are filled with the mean. "
   ]
  },
  {
   "cell_type": "markdown",
   "metadata": {},
   "source": [
    "Now we make some models to predict the category of salary using the job titles."
   ]
  },
  {
   "cell_type": "code",
   "execution_count": 52,
   "metadata": {},
   "outputs": [],
   "source": [
    "data_train, data_test, y_train, y_test = train_test_split(data, y, test_size=0.4, stratify=y, random_state=0)"
   ]
  },
  {
   "cell_type": "code",
   "execution_count": 53,
   "metadata": {},
   "outputs": [
    {
     "name": "stdout",
     "output_type": "stream",
     "text": [
      "Average score with CountVectorizer: 0.861 +/- 0.00871\n",
      "------------------------------------------------\n",
      "Average score with HashingVectorizer: 0.869 +/- 0.00512\n",
      "Number of features: 100\n",
      "------------------------------------------------\n",
      "Average score with TfidfVectorizer: 0.869 +/- 0.00512\n",
      "Number of features: 100\n",
      "------------------------------------------------\n",
      "Average score with SVC: 0.843 +/- 0.0182\n"
     ]
    }
   ],
   "source": [
    "model = make_pipeline(CountVectorizer(ngram_range=(1, 3)), LogisticRegression())\n",
    "model.fit(data_train.title, y_train)\n",
    "scores = cross_val_score(model, data_test.title, y_test, cv=5)\n",
    "sm = scores.mean()\n",
    "ss = scores.std()\n",
    "print(\"Average score with CountVectorizer: {:0.3} +/- {:0.3}\".format(sm, ss))\n",
    "print('------------------------------------------------')\n",
    "\n",
    "model = make_pipeline(HashingVectorizer(ngram_range=(1, 3), non_negative=True, n_features=100), LogisticRegression())\n",
    "model.fit(data_train.title, y_train)\n",
    "scores = cross_val_score(model, data_test.title, y_test, cv=5)\n",
    "sm = scores.mean()\n",
    "ss = scores.std()\n",
    "print(\"Average score with HashingVectorizer: {:0.3} +/- {:0.3}\".format(sm, ss))\n",
    "print(\"Number of features:\", 100)\n",
    "print('------------------------------------------------')\n",
    "\n",
    "model = make_pipeline(TfidfVectorizer(ngram_range=(1, 3), sublinear_tf=True, max_features=100),\n",
    "                      LogisticRegression())\n",
    "model.fit(data_train.title, y_train)\n",
    "scores = cross_val_score(model, data_test.title, y_test, cv=5)\n",
    "sm = scores.mean()\n",
    "ss = scores.std()\n",
    "print(\"Average score with TfidfVectorizer: {:0.3} +/- {:0.3}\".format(sm, ss))\n",
    "print(\"Number of features:\", len(model.steps[0][1].get_feature_names()))\n",
    "print('------------------------------------------------')\n",
    "\n",
    "model = make_pipeline(CountVectorizer(ngram_range=(1, 3)), SVC(kernel='linear'))\n",
    "model.fit(data_train.title, y_train)\n",
    "scores = cross_val_score(model, data_test.title, y_test, cv=5)\n",
    "sm = scores.mean()\n",
    "ss = scores.std()\n",
    "print(\"Average score with SVC: {:0.3} +/- {:0.3}\".format(sm, ss))"
   ]
  },
  {
   "cell_type": "markdown",
   "metadata": {},
   "source": [
    "As we see the accuracy of the model is almost the same as the baseline accuracy. So we should either change our model or our predictors."
   ]
  },
  {
   "cell_type": "code",
   "execution_count": 54,
   "metadata": {},
   "outputs": [],
   "source": [
    "def search_model(classifier_name, classifier_parameters):\n",
    "    \n",
    "    # we create the preprocessing pipelines for categorical, numerical and text data\n",
    "\n",
    "    numeric_features = ['review_star', 'review_number']\n",
    "    numeric_transformer = Pipeline(steps=[('imputer', SimpleImputer(strategy='mean')), ('scaler', StandardScaler())])\n",
    "\n",
    "    categorical_features = ['employment_type', 'state']\n",
    "    categorical_transformer = Pipeline(steps=[\n",
    "        ('imputer', SimpleImputer(strategy='constant', fill_value='missing')),\n",
    "        ('onehot', OneHotEncoder(handle_unknown='ignore'))])\n",
    "\n",
    "    text_features = ['title', 'department', 'location', 'description']\n",
    "    text_transformer = Pipeline(steps=[\n",
    "\n",
    "        ('vectorizer', CountVectorizer(ngram_range=(1, 2)))])\n",
    "\n",
    "    preprocessor = ColumnTransformer(transformers=[\n",
    "            ('num', numeric_transformer, numeric_features),\n",
    "            ('cat', categorical_transformer, categorical_features),\n",
    "            ('txt1', text_transformer, text_features[0]),\n",
    "            ('txt2', text_transformer, text_features[1]),\n",
    "            ('txt3', text_transformer, text_features[2]),\n",
    "            ('txt4', text_transformer, text_features[3])])\n",
    "\n",
    "    # appending classifier to preprocessing pipeline.\n",
    "    # now we have a full prediction pipeline.\n",
    "    clf = Pipeline(steps=[('preprocessor', preprocessor),\n",
    "                          ('classifier', classifier_name)])\n",
    "\n",
    "    X = jobs.drop(['salary_value', 'salary_unit', 'annual_salary', 'salary_cat'], axis=1)\n",
    "    y = jobs.salary_cat\n",
    "\n",
    "    X_train, X_test, y_train, y_test = train_test_split(X, y, test_size=0.2, stratify=y, random_state=0)\n",
    "\n",
    "    clf.fit(X_train, y_train)\n",
    "    print(\"Model score: %.3f\" % clf.score(X_test, y_test))\n",
    "\n",
    "    # using grid search, we find the best model\n",
    "    param_grid = {\n",
    "        'preprocessor__num__imputer__strategy': ['mean', 'constant'],\n",
    "        'preprocessor__txt4__vectorizer__ngram_range': [(1, 2), (1, 3)]}\n",
    "    param_grid.update(classifier_parameters)\n",
    "\n",
    "\n",
    "    grid_search = GridSearchCV(clf, param_grid, cv=10, iid=False)\n",
    "    grid_search.fit(X_train, y_train)\n",
    "\n",
    "    print('-----------------------------------------------------')\n",
    "    print('Grid Search Results\\n')\n",
    "    print(\"Best parameters from grid search:\", grid_search.best_params_)\n",
    "    print(\"Best score from grid search:\", grid_search.best_score_)\n",
    "    print((\"Score of the prediction of the test data: %.3f\" % grid_search.score(X_test, y_test)))"
   ]
  },
  {
   "cell_type": "markdown",
   "metadata": {},
   "source": [
    "Using grid search, we find the best model with different classifiers."
   ]
  },
  {
   "cell_type": "code",
   "execution_count": 55,
   "metadata": {},
   "outputs": [],
   "source": [
    "# # logistic regression\n",
    "# parameters = {'classifier__C': [0.1, 1.0, 10, 100]}\n",
    "# search_model(LogisticRegression(penalty='l2', C=1.0), parameters)"
   ]
  },
  {
   "cell_type": "markdown",
   "metadata": {},
   "source": [
    "The best score we can get by tuning the hyperparameters of logisitic regression is 0.929\n",
    "\n",
    "###### Grid Search Results\n",
    "\n",
    "- Best parameters from grid search {'classifier__C': 1.0, 'preprocessor__num__imputer__strategy': 'constant', 'preprocessor__txt4__vectorizer__ngram_range': (1, 2)}\n",
    "- Best score from grid search 0.9041110840636157\n",
    "- Score of the prediction of the test data: 0.929"
   ]
  },
  {
   "cell_type": "code",
   "execution_count": 56,
   "metadata": {},
   "outputs": [],
   "source": [
    "# # K-Neighbors Classifier\n",
    "# parameters = {'classifier__n_neighbors':list(range(5,51))}\n",
    "# search_model(KNeighborsClassifier(), parameters)"
   ]
  },
  {
   "cell_type": "markdown",
   "metadata": {},
   "source": [
    "The best score we can get by tuning the hyperparameters of K-neighbors is 0.877\n",
    "\n",
    "###### Grid Search Results\n",
    "\n",
    "- Best parameters from grid search {'classifier__n_neighbors': 5, 'preprocessor__num__imputer__strategy': 'mean', 'preprocessor__txt4__vectorizer__ngram_range': (1, 2)}\n",
    "- Best score from grid search 0.8775434112301201\n",
    "- Score of the prediction of the test data: 0.874"
   ]
  },
  {
   "cell_type": "markdown",
   "metadata": {},
   "source": [
    "Based on the results, we impute the missing data."
   ]
  },
  {
   "cell_type": "code",
   "execution_count": 57,
   "metadata": {},
   "outputs": [],
   "source": [
    "# imputing and normalizing the numerical variables\n",
    "imp_const = SimpleImputer(strategy='constant')\n",
    "jobs.review_star = imp_mean.fit_transform(np.array(jobs.review_star).reshape(-1,1))\n",
    "jobs.review_star = minmax_scale(jobs.review_star)\n",
    "jobs.review_number = imp_mean.fit_transform(np.array(jobs.review_number).reshape(-1,1))\n",
    "jobs.review_number = minmax_scale(jobs.review_number)\n",
    "\n",
    "# imputing other variables with the word 'missing'\n",
    "jobs.employment_type = imp_miss.fit_transform((np.array(jobs.employment_type).reshape(-1,1)))"
   ]
  },
  {
   "cell_type": "code",
   "execution_count": 58,
   "metadata": {},
   "outputs": [],
   "source": [
    "# dropping useless columns\n",
    "jobs.drop(['salary_value', 'salary_unit'], axis=1, inplace=True)"
   ]
  },
  {
   "cell_type": "code",
   "execution_count": 59,
   "metadata": {},
   "outputs": [],
   "source": [
    "state_dummies = pd.get_dummies(jobs['state'], drop_first = True)\n",
    "jobs = jobs.merge(state_dummies, left_index = True, right_index = True, how = 'outer')"
   ]
  },
  {
   "cell_type": "code",
   "execution_count": 60,
   "metadata": {},
   "outputs": [
    {
     "name": "stdout",
     "output_type": "stream",
     "text": [
      "Score 0.8686868686868687\n",
      "Coefficients [[-0.8417505   0.40228838  0.54542577 -0.72228018 -0.05436075 -0.2356516\n",
      "  -0.20703882 -0.04778273]]\n"
     ]
    }
   ],
   "source": [
    "X_train, X_test, y_train, y_test = train_test_split(state_dummies, jobs.salary_cat,\n",
    "                                                    test_size=0.2, stratify=y, random_state=0)\n",
    "lr = LogisticRegression(penalty='l2', C=1.0)\n",
    "lr.fit(X_train, y_train)\n",
    "print('Score', lr.score(X_test, y_test))\n",
    "print('Coefficients', lr.coef_)"
   ]
  },
  {
   "cell_type": "markdown",
   "metadata": {},
   "source": [
    "According to the magnitude of the coefficients, these states are better features: nsw, nt, qld"
   ]
  },
  {
   "cell_type": "code",
   "execution_count": 61,
   "metadata": {},
   "outputs": [],
   "source": [
    "employment_dummies = pd.get_dummies(jobs['employment_type'], drop_first = True)\n",
    "jobs = jobs.merge(employment_dummies, left_index = True, right_index = True, how = 'outer')"
   ]
  },
  {
   "cell_type": "code",
   "execution_count": 62,
   "metadata": {},
   "outputs": [
    {
     "name": "stdout",
     "output_type": "stream",
     "text": [
      "Score 0.8686868686868687\n",
      "Coefficients [[ 0.53304154 -0.3295949  -0.30017878 -0.54763811  0.6545215  -0.18556493\n",
      "   0.6545215  -0.52940821 -0.18556493 -0.18556493 -1.00386427  0.30856861\n",
      "   0.76907787  0.21873599  0.6545215   0.76907787 -0.18556493 -0.18556493\n",
      "  -1.51041297  0.22908922  0.41361394 -0.14787888 -0.18556493 -0.18556493\n",
      "  -0.18556493]]\n"
     ]
    },
    {
     "data": {
      "text/plain": [
       "'permanent'"
      ]
     },
     "execution_count": 62,
     "metadata": {},
     "output_type": "execute_result"
    }
   ],
   "source": [
    "X_train, X_test, y_train, y_test = train_test_split(employment_dummies, jobs.salary_cat,\n",
    "                                                    test_size=0.2, stratify=y, random_state=0)\n",
    "lr = LogisticRegression(penalty='l2', C=1.0)\n",
    "lr.fit(X_train, y_train)\n",
    "print('Score', lr.score(X_test, y_test))\n",
    "print('Coefficients', lr.coef_)\n",
    "employment_dummies.columns[abs(lr.coef_).argmax()]"
   ]
  },
  {
   "cell_type": "markdown",
   "metadata": {},
   "source": [
    "So being permanent or not, can be a good estimator for the salary"
   ]
  },
  {
   "cell_type": "code",
   "execution_count": 63,
   "metadata": {},
   "outputs": [
    {
     "name": "stdout",
     "output_type": "stream",
     "text": [
      "Score 0.8585858585858586\n",
      "Most important words:\n",
      " ['ongoing', 'intern data', 'temp', 'operator', 'digital designer', 'analyst consultant', 'data associate', 'officer ongoing', 'services', 'assistant'] ['analyst', 'junior', 'office assistant', 'data', 'team', 'assistant data', 'senior', 'lead', 'scientist', 'technician']\n"
     ]
    }
   ],
   "source": [
    "cvec = CountVectorizer(ngram_range=(1, 2))\n",
    "title_bow = pd.DataFrame(cvec.fit_transform(jobs.title).A, columns=cvec.get_feature_names())\n",
    "X_train, X_test, y_train, y_test = train_test_split(title_bow, jobs.salary_cat,\n",
    "                                                    test_size=0.2, stratify=y, random_state=0)\n",
    "lr = LogisticRegression(penalty='l2', C=1.0)\n",
    "lr.fit(X_train, y_train)\n",
    "print('Score', lr.score(X_test, y_test))\n",
    "coeff = pd.DataFrame(lr.coef_[0], title_bow.columns)\n",
    "print('Most important words:\\n',\n",
    "      list(coeff.sort_values(by=0, ascending=False).head(10).index),\n",
    "      list(coeff.sort_values(by=0, ascending=True).head(10).index))"
   ]
  },
  {
   "cell_type": "code",
   "execution_count": 64,
   "metadata": {},
   "outputs": [
    {
     "name": "stdout",
     "output_type": "stream",
     "text": [
      "Score 0.8737373737373737\n",
      "Most important words:\n",
      " ['missing', 'melbourne', 'of melbourne', 'victoria', 'hudson', 'enttec', 'brismark', 'shire', 'heqs', 'heqs group'] ['queensland', 'queensland government', 'deloitte', 'pwc', 'services', 'michael page', 'michael', 'australia', 'hays', 'ibm']\n"
     ]
    }
   ],
   "source": [
    "cvec = CountVectorizer(ngram_range=(1, 2))\n",
    "department_bow = pd.DataFrame(cvec.fit_transform(jobs.department).A, columns=cvec.get_feature_names())\n",
    "X_train, X_test, y_train, y_test = train_test_split(department_bow, jobs.salary_cat,\n",
    "                                                    test_size=0.2, stratify=y, random_state=0)\n",
    "lr = LogisticRegression(penalty='l2', C=1.0)\n",
    "lr.fit(X_train, y_train)\n",
    "print('Score', lr.score(X_test, y_test))\n",
    "coeff = pd.DataFrame(lr.coef_[0], department_bow.columns)\n",
    "print('Most important words:\\n',\n",
    "      list(coeff.sort_values(by=0, ascending=False).head(10).index),\n",
    "      list(coeff.sort_values(by=0, ascending=True).head(10).index))"
   ]
  },
  {
   "cell_type": "code",
   "execution_count": 65,
   "metadata": {},
   "outputs": [
    {
     "name": "stdout",
     "output_type": "stream",
     "text": [
      "Score 0.8686868686868687\n",
      "Most important words:\n",
      " ['new', 'sunshine', 'fitzroy vic', 'fitzroy', 'nsw 2060', '2060', 'vic 3030', '3030', 'hallam vic', 'hallam'] ['australia', 'brisbane', 'brisbane qld', 'sydney', 'melbourne', 'queensland', 'geelong vic', 'geelong', 'burwood', 'clayton']\n"
     ]
    }
   ],
   "source": [
    "cvec = CountVectorizer(ngram_range=(1, 2))\n",
    "location_bow = pd.DataFrame(cvec.fit_transform(jobs.location).A, columns=cvec.get_feature_names())\n",
    "X_train, X_test, y_train, y_test = train_test_split(location_bow, jobs.salary_cat,\n",
    "                                                    test_size=0.2, stratify=y, random_state=0)\n",
    "lr = LogisticRegression(penalty='l2', C=1.0)\n",
    "lr.fit(X_train, y_train)\n",
    "print('Score', lr.score(X_test, y_test))\n",
    "coeff = pd.DataFrame(lr.coef_[0], location_bow.columns)\n",
    "print('Most important words:\\n',\n",
    "      list(coeff.sort_values(by=0, ascending=False).head(10).index),\n",
    "      list(coeff.sort_values(by=0, ascending=True).head(10).index))"
   ]
  },
  {
   "cell_type": "code",
   "execution_count": 66,
   "metadata": {},
   "outputs": [
    {
     "name": "stdout",
     "output_type": "stream",
     "text": [
      "Score 0.9292929292929293\n",
      "Most important words:\n",
      " ['00', '000 00', '000', '25', 'timesalari', 'hourexperi', 'hour', '00 hourexperi', 'year', 'offic', 'appli', 'flexibl', 'immedi', 'full timesalari', 'council', 'temporari', 'hr', '30', 'commenc', 'organis'] ['type', 'opportun', 'licens', 'analyst', 'analyt', 'key', 'look', 'myob', 'day', 'analysi', 'experienc', 'motiv', 'abl', 'excel', 'meet', 'deliveri', 'duti includ', 'statist', 'intern', 'transport']\n"
     ]
    }
   ],
   "source": [
    "cvec = CountVectorizer(ngram_range=(1, 2))\n",
    "description_bow = pd.DataFrame(cvec.fit_transform(jobs.description).A, columns=cvec.get_feature_names())\n",
    "X_train, X_test, y_train, y_test = train_test_split(description_bow, jobs.salary_cat,\n",
    "                                                    test_size=0.2, stratify=y, random_state=0)\n",
    "lr = LogisticRegression(penalty='l2', C=1.0)\n",
    "lr.fit(X_train, y_train)\n",
    "print('Score', lr.score(X_test, y_test))\n",
    "coeff = pd.DataFrame(lr.coef_[0], description_bow.columns)\n",
    "print('Most important words:\\n',\n",
    "      list(coeff.sort_values(by=0, ascending=False).head(20).index),\n",
    "      list(coeff.sort_values(by=0, ascending=True).head(20).index))"
   ]
  },
  {
   "cell_type": "markdown",
   "metadata": {},
   "source": [
    "The score of a model with only the description as the feature is the same as the score of a model with all the variables as features. So we only choose the description to find the salary label."
   ]
  },
  {
   "cell_type": "markdown",
   "metadata": {},
   "source": [
    "However, if we need to use other variables for predicton, the most important ones will be the ones with a higher magnitude of coefficient (e.g. in employment type, permanency is a better predictor)"
   ]
  },
  {
   "cell_type": "markdown",
   "metadata": {},
   "source": [
    "Some of the stemmed words that have a higher influence in the prediction are:\n",
    "['offic', 'appli', 'flexibl', 'immedi', 'full timesalari', 'council', 'temporari', 'organis', 'licens', 'analyst', 'analyt', 'experienc', 'motiv', 'excel', 'deliveri', 'statist', 'intern', 'transport']"
   ]
  },
  {
   "cell_type": "code",
   "execution_count": 67,
   "metadata": {},
   "outputs": [],
   "source": [
    "from sklearn.metrics import classification_report\n",
    "\n",
    "def print_cm_cr(y_true, y_pred):\n",
    "    \"\"\"prints the confusion matrix and the classification report\"\"\"\n",
    "    confusion = pd.crosstab(y_true, y_pred, rownames=['Actual'], colnames=['Predicted'], margins=True)\n",
    "    print(confusion)\n",
    "    print()\n",
    "    print(classification_report(y_true, y_pred))"
   ]
  },
  {
   "cell_type": "code",
   "execution_count": 68,
   "metadata": {},
   "outputs": [
    {
     "name": "stdout",
     "output_type": "stream",
     "text": [
      "Predicted  high  low  All\n",
      "Actual                   \n",
      "high        169   11  180\n",
      "low           3   15   18\n",
      "All         172   26  198\n",
      "\n",
      "              precision    recall  f1-score   support\n",
      "\n",
      "        high       0.98      0.94      0.96       180\n",
      "         low       0.58      0.83      0.68        18\n",
      "\n",
      "   micro avg       0.93      0.93      0.93       198\n",
      "   macro avg       0.78      0.89      0.82       198\n",
      "weighted avg       0.95      0.93      0.93       198\n",
      "\n"
     ]
    }
   ],
   "source": [
    "print_cm_cr(lr.predict(X_test), y_test)"
   ]
  },
  {
   "cell_type": "code",
   "execution_count": 69,
   "metadata": {},
   "outputs": [
    {
     "name": "stdout",
     "output_type": "stream",
     "text": [
      "Score 0.8787878787878788\n",
      "Most important words:\n",
      " ['timesalari', '00', 'hour', '000 00', '25', 'casualsalari', 'yearexperi', '00 hourexperi', '000', 'elig candid', 'year prefer', 'hourexperi', '25 00', 'send resum', '28 00', 'full timesalari', 'timesalari 50', 'st vincent', 'prefer elig', 'prefer']\n"
     ]
    }
   ],
   "source": [
    "from sklearn.ensemble import RandomForestClassifier\n",
    "\n",
    "cvec = CountVectorizer(ngram_range=(1, 2))\n",
    "description_bow = pd.DataFrame(cvec.fit_transform(jobs.description).A, columns=cvec.get_feature_names())\n",
    "X_train, X_test, y_train, y_test = train_test_split(description_bow, jobs.salary_cat,\n",
    "                                                    test_size=0.2, stratify=y, random_state=0)\n",
    "RF = RandomForestClassifier(n_estimators=100, random_state=0)\n",
    "RF.fit(X_train, y_train)\n",
    "print('Score', RF.score(X_test, y_test))\n",
    "feat_imp = pd.DataFrame(RF.feature_importances_, description_bow.columns)\n",
    "print('Most important words:\\n',\n",
    "      list(feat_imp.sort_values(by=0, ascending=False).head(20).index))"
   ]
  },
  {
   "cell_type": "markdown",
   "metadata": {},
   "source": [
    "The result of a model with random forest is worse than a model with logistic regression."
   ]
  }
 ],
 "metadata": {
  "kernelspec": {
   "display_name": "Python 3",
   "language": "python",
   "name": "python3"
  },
  "language_info": {
   "codemirror_mode": {
    "name": "ipython",
    "version": 3
   },
   "file_extension": ".py",
   "mimetype": "text/x-python",
   "name": "python",
   "nbconvert_exporter": "python",
   "pygments_lexer": "ipython3",
   "version": "3.6.8"
  }
 },
 "nbformat": 4,
 "nbformat_minor": 2
}
